{
  "cells": [
    {
      "cell_type": "code",
      "execution_count": 1,
      "metadata": {
        "id": "mfBRa9ugRU9-"
      },
      "outputs": [],
      "source": [
        "# Required Libraries\n",
        "import pandas as pd"
      ]
    },
    {
      "cell_type": "code",
      "execution_count": 2,
      "metadata": {
        "id": "46RBrpeaR9gW"
      },
      "outputs": [],
      "source": [
        "# Load the dataset\n",
        "data = pd.read_csv('/content/CC GENERAL.csv')  # Make sure to update the path"
      ]
    },
    {
      "cell_type": "code",
      "execution_count": 3,
      "metadata": {
        "colab": {
          "base_uri": "https://localhost:8080/"
        },
        "id": "W0eacWkLSBwc",
        "outputId": "a787efed-adad-48f1-a920-4f5828b519f1"
      },
      "outputs": [
        {
          "output_type": "stream",
          "name": "stdout",
          "text": [
            "  CUST_ID      BALANCE  BALANCE_FREQUENCY  PURCHASES  ONEOFF_PURCHASES  \\\n",
            "0  C10001    40.900749           0.818182      95.40              0.00   \n",
            "1  C10002  3202.467416           0.909091       0.00              0.00   \n",
            "2  C10003  2495.148862           1.000000     773.17            773.17   \n",
            "3  C10004  1666.670542           0.636364    1499.00           1499.00   \n",
            "4  C10005   817.714335           1.000000      16.00             16.00   \n",
            "\n",
            "   INSTALLMENTS_PURCHASES  CASH_ADVANCE  PURCHASES_FREQUENCY  \\\n",
            "0                    95.4      0.000000             0.166667   \n",
            "1                     0.0   6442.945483             0.000000   \n",
            "2                     0.0      0.000000             1.000000   \n",
            "3                     0.0    205.788017             0.083333   \n",
            "4                     0.0      0.000000             0.083333   \n",
            "\n",
            "   ONEOFF_PURCHASES_FREQUENCY  PURCHASES_INSTALLMENTS_FREQUENCY  \\\n",
            "0                    0.000000                          0.083333   \n",
            "1                    0.000000                          0.000000   \n",
            "2                    1.000000                          0.000000   \n",
            "3                    0.083333                          0.000000   \n",
            "4                    0.083333                          0.000000   \n",
            "\n",
            "   CASH_ADVANCE_FREQUENCY  CASH_ADVANCE_TRX  PURCHASES_TRX  CREDIT_LIMIT  \\\n",
            "0                0.000000                 0              2        1000.0   \n",
            "1                0.250000                 4              0        7000.0   \n",
            "2                0.000000                 0             12        7500.0   \n",
            "3                0.083333                 1              1        7500.0   \n",
            "4                0.000000                 0              1        1200.0   \n",
            "\n",
            "      PAYMENTS  MINIMUM_PAYMENTS  PRC_FULL_PAYMENT  TENURE  \n",
            "0   201.802084        139.509787          0.000000      12  \n",
            "1  4103.032597       1072.340217          0.222222      12  \n",
            "2   622.066742        627.284787          0.000000      12  \n",
            "3     0.000000               NaN          0.000000      12  \n",
            "4   678.334763        244.791237          0.000000      12  \n"
          ]
        }
      ],
      "source": [
        "# Display the first few rows\n",
        "print(data.head())"
      ]
    },
    {
      "cell_type": "code",
      "execution_count": 4,
      "metadata": {
        "colab": {
          "base_uri": "https://localhost:8080/"
        },
        "id": "TZP23rA9SCmc",
        "outputId": "23c6e679-0dc3-4097-8bac-972ca3d57145"
      },
      "outputs": [
        {
          "output_type": "stream",
          "name": "stdout",
          "text": [
            "\n",
            "Missing Values:\n",
            " CUST_ID                               0\n",
            "BALANCE                               0\n",
            "BALANCE_FREQUENCY                     0\n",
            "PURCHASES                             0\n",
            "ONEOFF_PURCHASES                      0\n",
            "INSTALLMENTS_PURCHASES                0\n",
            "CASH_ADVANCE                          0\n",
            "PURCHASES_FREQUENCY                   0\n",
            "ONEOFF_PURCHASES_FREQUENCY            0\n",
            "PURCHASES_INSTALLMENTS_FREQUENCY      0\n",
            "CASH_ADVANCE_FREQUENCY                0\n",
            "CASH_ADVANCE_TRX                      0\n",
            "PURCHASES_TRX                         0\n",
            "CREDIT_LIMIT                          1\n",
            "PAYMENTS                              0\n",
            "MINIMUM_PAYMENTS                    313\n",
            "PRC_FULL_PAYMENT                      0\n",
            "TENURE                                0\n",
            "dtype: int64\n"
          ]
        }
      ],
      "source": [
        "# Check for missing values\n",
        "missing_values = data.isnull().sum()\n",
        "print(\"\\nMissing Values:\\n\", missing_values)"
      ]
    },
    {
      "cell_type": "code",
      "execution_count": 5,
      "metadata": {
        "colab": {
          "base_uri": "https://localhost:8080/"
        },
        "id": "D4Wqfl9MSEGi",
        "outputId": "5d355887-79ec-4231-c2fb-7e379a4678ff"
      },
      "outputs": [
        {
          "output_type": "stream",
          "name": "stdout",
          "text": [
            "\n",
            "Statistics:\n",
            "             BALANCE  BALANCE_FREQUENCY     PURCHASES  ONEOFF_PURCHASES  \\\n",
            "count   8950.000000        8950.000000   8950.000000       8950.000000   \n",
            "mean    1564.474828           0.877271   1003.204834        592.437371   \n",
            "std     2081.531879           0.236904   2136.634782       1659.887917   \n",
            "min        0.000000           0.000000      0.000000          0.000000   \n",
            "25%      128.281915           0.888889     39.635000          0.000000   \n",
            "50%      873.385231           1.000000    361.280000         38.000000   \n",
            "75%     2054.140036           1.000000   1110.130000        577.405000   \n",
            "max    19043.138560           1.000000  49039.570000      40761.250000   \n",
            "\n",
            "       INSTALLMENTS_PURCHASES  CASH_ADVANCE  PURCHASES_FREQUENCY  \\\n",
            "count             8950.000000   8950.000000          8950.000000   \n",
            "mean               411.067645    978.871112             0.490351   \n",
            "std                904.338115   2097.163877             0.401371   \n",
            "min                  0.000000      0.000000             0.000000   \n",
            "25%                  0.000000      0.000000             0.083333   \n",
            "50%                 89.000000      0.000000             0.500000   \n",
            "75%                468.637500   1113.821139             0.916667   \n",
            "max              22500.000000  47137.211760             1.000000   \n",
            "\n",
            "       ONEOFF_PURCHASES_FREQUENCY  PURCHASES_INSTALLMENTS_FREQUENCY  \\\n",
            "count                 8950.000000                       8950.000000   \n",
            "mean                     0.202458                          0.364437   \n",
            "std                      0.298336                          0.397448   \n",
            "min                      0.000000                          0.000000   \n",
            "25%                      0.000000                          0.000000   \n",
            "50%                      0.083333                          0.166667   \n",
            "75%                      0.300000                          0.750000   \n",
            "max                      1.000000                          1.000000   \n",
            "\n",
            "       CASH_ADVANCE_FREQUENCY  CASH_ADVANCE_TRX  PURCHASES_TRX  CREDIT_LIMIT  \\\n",
            "count             8950.000000       8950.000000    8950.000000   8949.000000   \n",
            "mean                 0.135144          3.248827      14.709832   4494.449450   \n",
            "std                  0.200121          6.824647      24.857649   3638.815725   \n",
            "min                  0.000000          0.000000       0.000000     50.000000   \n",
            "25%                  0.000000          0.000000       1.000000   1600.000000   \n",
            "50%                  0.000000          0.000000       7.000000   3000.000000   \n",
            "75%                  0.222222          4.000000      17.000000   6500.000000   \n",
            "max                  1.500000        123.000000     358.000000  30000.000000   \n",
            "\n",
            "           PAYMENTS  MINIMUM_PAYMENTS  PRC_FULL_PAYMENT       TENURE  \n",
            "count   8950.000000       8637.000000       8950.000000  8950.000000  \n",
            "mean    1733.143852        864.206542          0.153715    11.517318  \n",
            "std     2895.063757       2372.446607          0.292499     1.338331  \n",
            "min        0.000000          0.019163          0.000000     6.000000  \n",
            "25%      383.276166        169.123707          0.000000    12.000000  \n",
            "50%      856.901546        312.343947          0.000000    12.000000  \n",
            "75%     1901.134317        825.485459          0.142857    12.000000  \n",
            "max    50721.483360      76406.207520          1.000000    12.000000  \n"
          ]
        }
      ],
      "source": [
        "# Display basic statistics\n",
        "statistics = data.describe()\n",
        "print(\"\\nStatistics:\\n\", statistics)"
      ]
    },
    {
      "cell_type": "code",
      "execution_count": 6,
      "metadata": {
        "colab": {
          "base_uri": "https://localhost:8080/"
        },
        "id": "VJzPmpfCSHZF",
        "outputId": "01c70856-2d3f-4723-e236-a2d12a04b228"
      },
      "outputs": [
        {
          "output_type": "stream",
          "name": "stdout",
          "text": [
            "Data Shape: (8950, 18)\n",
            "\n",
            "Data Types:\n",
            " CUST_ID                              object\n",
            "BALANCE                             float64\n",
            "BALANCE_FREQUENCY                   float64\n",
            "PURCHASES                           float64\n",
            "ONEOFF_PURCHASES                    float64\n",
            "INSTALLMENTS_PURCHASES              float64\n",
            "CASH_ADVANCE                        float64\n",
            "PURCHASES_FREQUENCY                 float64\n",
            "ONEOFF_PURCHASES_FREQUENCY          float64\n",
            "PURCHASES_INSTALLMENTS_FREQUENCY    float64\n",
            "CASH_ADVANCE_FREQUENCY              float64\n",
            "CASH_ADVANCE_TRX                      int64\n",
            "PURCHASES_TRX                         int64\n",
            "CREDIT_LIMIT                        float64\n",
            "PAYMENTS                            float64\n",
            "MINIMUM_PAYMENTS                    float64\n",
            "PRC_FULL_PAYMENT                    float64\n",
            "TENURE                                int64\n",
            "dtype: object\n"
          ]
        }
      ],
      "source": [
        "# 1. Inspect the structure of the dataset\n",
        "print(\"Data Shape:\", data.shape)\n",
        "print(\"\\nData Types:\\n\", data.dtypes)"
      ]
    },
    {
      "cell_type": "code",
      "execution_count": 7,
      "metadata": {
        "colab": {
          "base_uri": "https://localhost:8080/"
        },
        "id": "Kr69iLHfYFTp",
        "outputId": "dd2e41b9-2bcd-46ab-a615-c11a19a419ce"
      },
      "outputs": [
        {
          "output_type": "stream",
          "name": "stdout",
          "text": [
            "\n",
            "Missing Values:\n",
            " CUST_ID                               0\n",
            "BALANCE                               0\n",
            "BALANCE_FREQUENCY                     0\n",
            "PURCHASES                             0\n",
            "ONEOFF_PURCHASES                      0\n",
            "INSTALLMENTS_PURCHASES                0\n",
            "CASH_ADVANCE                          0\n",
            "PURCHASES_FREQUENCY                   0\n",
            "ONEOFF_PURCHASES_FREQUENCY            0\n",
            "PURCHASES_INSTALLMENTS_FREQUENCY      0\n",
            "CASH_ADVANCE_FREQUENCY                0\n",
            "CASH_ADVANCE_TRX                      0\n",
            "PURCHASES_TRX                         0\n",
            "CREDIT_LIMIT                          1\n",
            "PAYMENTS                              0\n",
            "MINIMUM_PAYMENTS                    313\n",
            "PRC_FULL_PAYMENT                      0\n",
            "TENURE                                0\n",
            "dtype: int64\n"
          ]
        },
        {
          "output_type": "stream",
          "name": "stderr",
          "text": [
            "<ipython-input-7-ac2b65faec8f>:5: FutureWarning: The default value of numeric_only in DataFrame.median is deprecated. In a future version, it will default to False. In addition, specifying 'numeric_only=None' is deprecated. Select only valid columns or specify the value of numeric_only to silence this warning.\n",
            "  data.fillna(data.median(), inplace=True)\n"
          ]
        }
      ],
      "source": [
        "# 2. Identify and handle missing values\n",
        "missing_data = data.isnull().sum()\n",
        "print(\"\\nMissing Values:\\n\", missing_data)\n",
        "# For simplicity, we'll fill missing values with the median of the respective columns\n",
        "data.fillna(data.median(), inplace=True)"
      ]
    },
    {
      "cell_type": "code",
      "execution_count": 8,
      "metadata": {
        "colab": {
          "base_uri": "https://localhost:8080/"
        },
        "id": "7MaGuzHpYKyO",
        "outputId": "10dcd42a-4f1a-44de-ed3b-4830f9a2d69a"
      },
      "outputs": [
        {
          "output_type": "stream",
          "name": "stdout",
          "text": [
            "\n",
            "Statistical Summary:\n",
            "             BALANCE  BALANCE_FREQUENCY     PURCHASES  ONEOFF_PURCHASES  \\\n",
            "count   8950.000000        8950.000000   8950.000000       8950.000000   \n",
            "mean    1564.474828           0.877271   1003.204834        592.437371   \n",
            "std     2081.531879           0.236904   2136.634782       1659.887917   \n",
            "min        0.000000           0.000000      0.000000          0.000000   \n",
            "25%      128.281915           0.888889     39.635000          0.000000   \n",
            "50%      873.385231           1.000000    361.280000         38.000000   \n",
            "75%     2054.140036           1.000000   1110.130000        577.405000   \n",
            "max    19043.138560           1.000000  49039.570000      40761.250000   \n",
            "\n",
            "       INSTALLMENTS_PURCHASES  CASH_ADVANCE  PURCHASES_FREQUENCY  \\\n",
            "count             8950.000000   8950.000000          8950.000000   \n",
            "mean               411.067645    978.871112             0.490351   \n",
            "std                904.338115   2097.163877             0.401371   \n",
            "min                  0.000000      0.000000             0.000000   \n",
            "25%                  0.000000      0.000000             0.083333   \n",
            "50%                 89.000000      0.000000             0.500000   \n",
            "75%                468.637500   1113.821139             0.916667   \n",
            "max              22500.000000  47137.211760             1.000000   \n",
            "\n",
            "       ONEOFF_PURCHASES_FREQUENCY  PURCHASES_INSTALLMENTS_FREQUENCY  \\\n",
            "count                 8950.000000                       8950.000000   \n",
            "mean                     0.202458                          0.364437   \n",
            "std                      0.298336                          0.397448   \n",
            "min                      0.000000                          0.000000   \n",
            "25%                      0.000000                          0.000000   \n",
            "50%                      0.083333                          0.166667   \n",
            "75%                      0.300000                          0.750000   \n",
            "max                      1.000000                          1.000000   \n",
            "\n",
            "       CASH_ADVANCE_FREQUENCY  CASH_ADVANCE_TRX  PURCHASES_TRX  CREDIT_LIMIT  \\\n",
            "count             8950.000000       8950.000000    8950.000000   8950.000000   \n",
            "mean                 0.135144          3.248827      14.709832   4494.282473   \n",
            "std                  0.200121          6.824647      24.857649   3638.646702   \n",
            "min                  0.000000          0.000000       0.000000     50.000000   \n",
            "25%                  0.000000          0.000000       1.000000   1600.000000   \n",
            "50%                  0.000000          0.000000       7.000000   3000.000000   \n",
            "75%                  0.222222          4.000000      17.000000   6500.000000   \n",
            "max                  1.500000        123.000000     358.000000  30000.000000   \n",
            "\n",
            "           PAYMENTS  MINIMUM_PAYMENTS  PRC_FULL_PAYMENT       TENURE  \n",
            "count   8950.000000       8950.000000       8950.000000  8950.000000  \n",
            "mean    1733.143852        844.906767          0.153715    11.517318  \n",
            "std     2895.063757       2332.792322          0.292499     1.338331  \n",
            "min        0.000000          0.019163          0.000000     6.000000  \n",
            "25%      383.276166        170.857654          0.000000    12.000000  \n",
            "50%      856.901546        312.343947          0.000000    12.000000  \n",
            "75%     1901.134317        788.713501          0.142857    12.000000  \n",
            "max    50721.483360      76406.207520          1.000000    12.000000  \n"
          ]
        }
      ],
      "source": [
        "# 3. Obtain a statistical summary of the dataset\n",
        "print(\"\\nStatistical Summary:\\n\", data.describe())"
      ]
    },
    {
      "cell_type": "code",
      "execution_count": 9,
      "metadata": {
        "colab": {
          "base_uri": "https://localhost:8080/",
          "height": 472
        },
        "id": "SuT2crWVYN-8",
        "outputId": "c3a43f42-556c-460d-93d3-4d3cfdb3bc4b"
      },
      "outputs": [
        {
          "output_type": "display_data",
          "data": {
            "text/plain": [
              "<Figure size 640x480 with 1 Axes>"
            ],
            "image/png": "[encoded data removed]"
          },
          "metadata": {}
        }
      ],
      "source": [
        "# 4. Visualize the data (we'll just visualize 'BALANCE' as an example here)\n",
        "import matplotlib.pyplot as plt\n",
        "plt.hist(data['BALANCE'], bins=30, color='blue', alpha=0.7)\n",
        "plt.title('Distribution of Balance')\n",
        "plt.xlabel('Balance')\n",
        "plt.ylabel('Number of Customers')\n",
        "plt.grid(True)\n",
        "plt.show()"
      ]
    },
    {
      "cell_type": "code",
      "source": [
        "!pip install h2o"
      ],
      "metadata": {
        "colab": {
          "base_uri": "https://localhost:8080/"
        },
        "id": "n_EcgnopJYOx",
        "outputId": "9532700a-7d40-4537-a19e-a5b52f93c7ca"
      },
      "execution_count": 10,
      "outputs": [
        {
          "output_type": "stream",
          "name": "stdout",
          "text": [
            "Collecting h2o\n",
            "  Downloading h2o-3.42.0.3.tar.gz (240.9 MB)\n",
            "\u001b[2K     \u001b[90m━━━━━━━━━━━━━━━━━━━━━━━━━━━━━━━━━━━━━━━\u001b[0m \u001b[32m240.9/240.9 MB\u001b[0m \u001b[31m2.4 MB/s\u001b[0m eta \u001b[36m0:00:00\u001b[0m\n",
            "\u001b[?25h  Preparing metadata (setup.py) ... \u001b[?25l\u001b[?25hdone\n",
            "Requirement already satisfied: requests in /usr/local/lib/python3.10/dist-packages (from h2o) (2.31.0)\n",
            "Requirement already satisfied: tabulate in /usr/local/lib/python3.10/dist-packages (from h2o) (0.9.0)\n",
            "Requirement already satisfied: charset-normalizer<4,>=2 in /usr/local/lib/python3.10/dist-packages (from requests->h2o) (3.2.0)\n",
            "Requirement already satisfied: idna<4,>=2.5 in /usr/local/lib/python3.10/dist-packages (from requests->h2o) (3.4)\n",
            "Requirement already satisfied: urllib3<3,>=1.21.1 in /usr/local/lib/python3.10/dist-packages (from requests->h2o) (2.0.4)\n",
            "Requirement already satisfied: certifi>=2017.4.17 in /usr/local/lib/python3.10/dist-packages (from requests->h2o) (2023.7.22)\n",
            "Building wheels for collected packages: h2o\n",
            "  Building wheel for h2o (setup.py) ... \u001b[?25l\u001b[?25hdone\n",
            "  Created wheel for h2o: filename=h2o-3.42.0.3-py2.py3-none-any.whl size=240945068 sha256=55f8a3309d68ab630d1e797ae6fb9da1921d8938e0de7181bbb75d20c4d37443\n",
            "  Stored in directory: /root/.cache/pip/wheels/f9/7d/1d/e1258f0558603969a8393cb5b22a18e313337f01627a118302\n",
            "Successfully built h2o\n",
            "Installing collected packages: h2o\n",
            "Successfully installed h2o-3.42.0.3\n"
          ]
        }
      ]
    },
    {
      "cell_type": "code",
      "source": [
        "import h2o\n",
        "from h2o.automl import H2OAutoML\n",
        "\n",
        "# Initialize H2O cluster\n",
        "h2o.init()"
      ],
      "metadata": {
        "colab": {
          "base_uri": "https://localhost:8080/",
          "height": 538
        },
        "id": "UIETFjNoJiTy",
        "outputId": "32649c9b-c945-45d4-fde6-8462f8f7d782"
      },
      "execution_count": 11,
      "outputs": [
        {
          "output_type": "stream",
          "name": "stdout",
          "text": [
            "Checking whether there is an H2O instance running at http://localhost:54321..... not found.\n",
            "Attempting to start a local H2O server...\n",
            "  Java Version: openjdk version \"11.0.20.1\" 2023-08-24; OpenJDK Runtime Environment (build 11.0.20.1+1-post-Ubuntu-0ubuntu122.04); OpenJDK 64-Bit Server VM (build 11.0.20.1+1-post-Ubuntu-0ubuntu122.04, mixed mode, sharing)\n",
            "  Starting server from /usr/local/lib/python3.10/dist-packages/h2o/backend/bin/h2o.jar\n",
            "  Ice root: /tmp/tmpp_8ajm_4\n",
            "  JVM stdout: /tmp/tmpp_8ajm_4/h2o_unknownUser_started_from_python.out\n",
            "  JVM stderr: /tmp/tmpp_8ajm_4/h2o_unknownUser_started_from_python.err\n",
            "  Server is running at http://127.0.0.1:54321\n",
            "Connecting to H2O server at http://127.0.0.1:54321 ... successful.\n"
          ]
        },
        {
          "output_type": "display_data",
          "data": {
            "text/plain": [
              "--------------------------  -----------------------------------------------------------------------------------------\n",
              "H2O_cluster_uptime:         05 secs\n",
              "H2O_cluster_timezone:       Etc/UTC\n",
              "H2O_data_parsing_timezone:  UTC\n",
              "H2O_cluster_version:        3.42.0.3\n",
              "H2O_cluster_version_age:    30 days\n",
              "H2O_cluster_name:           H2O_from_python_unknownUser_n2b5yy\n",
              "H2O_cluster_total_nodes:    1\n",
              "H2O_cluster_free_memory:    3.170 Gb\n",
              "H2O_cluster_total_cores:    2\n",
              "H2O_cluster_allowed_cores:  2\n",
              "H2O_cluster_status:         locked, healthy\n",
              "H2O_connection_url:         http://127.0.0.1:54321\n",
              "H2O_connection_proxy:       {\"http\": null, \"https\": null, \"colab_language_server\": \"/usr/colab/bin/language_service\"}\n",
              "H2O_internal_security:      False\n",
              "Python_version:             3.10.12 final\n",
              "--------------------------  -----------------------------------------------------------------------------------------"
            ],
            "text/html": [
              "\n",
              "<style>\n",
              "\n",
              "#h2o-table-1.h2o-container {\n",
              "  overflow-x: auto;\n",
              "}\n",
              "#h2o-table-1 .h2o-table {\n",
              "  /* width: 100%; */\n",
              "  margin-top: 1em;\n",
              "  margin-bottom: 1em;\n",
              "}\n",
              "#h2o-table-1 .h2o-table caption {\n",
              "  white-space: nowrap;\n",
              "  caption-side: top;\n",
              "  text-align: left;\n",
              "  /* margin-left: 1em; */\n",
              "  margin: 0;\n",
              "  font-size: larger;\n",
              "}\n",
              "#h2o-table-1 .h2o-table thead {\n",
              "  white-space: nowrap; \n",
              "  position: sticky;\n",
              "  top: 0;\n",
              "  box-shadow: 0 -1px inset;\n",
              "}\n",
              "#h2o-table-1 .h2o-table tbody {\n",
              "  overflow: auto;\n",
              "}\n",
              "#h2o-table-1 .h2o-table th,\n",
              "#h2o-table-1 .h2o-table td {\n",
              "  text-align: right;\n",
              "  /* border: 1px solid; */\n",
              "}\n",
              "#h2o-table-1 .h2o-table tr:nth-child(even) {\n",
              "  /* background: #F5F5F5 */\n",
              "}\n",
              "\n",
              "</style>      \n",
              "<div id=\"h2o-table-1\" class=\"h2o-container\">\n",
              "  <table class=\"h2o-table\">\n",
              "    <caption></caption>\n",
              "    <thead></thead>\n",
              "    <tbody><tr><td>H2O_cluster_uptime:</td>\n",
              "<td>05 secs</td></tr>\n",
              "<tr><td>H2O_cluster_timezone:</td>\n",
              "<td>Etc/UTC</td></tr>\n",
              "<tr><td>H2O_data_parsing_timezone:</td>\n",
              "<td>UTC</td></tr>\n",
              "<tr><td>H2O_cluster_version:</td>\n",
              "<td>3.42.0.3</td></tr>\n",
              "<tr><td>H2O_cluster_version_age:</td>\n",
              "<td>30 days</td></tr>\n",
              "<tr><td>H2O_cluster_name:</td>\n",
              "<td>H2O_from_python_unknownUser_n2b5yy</td></tr>\n",
              "<tr><td>H2O_cluster_total_nodes:</td>\n",
              "<td>1</td></tr>\n",
              "<tr><td>H2O_cluster_free_memory:</td>\n",
              "<td>3.170 Gb</td></tr>\n",
              "<tr><td>H2O_cluster_total_cores:</td>\n",
              "<td>2</td></tr>\n",
              "<tr><td>H2O_cluster_allowed_cores:</td>\n",
              "<td>2</td></tr>\n",
              "<tr><td>H2O_cluster_status:</td>\n",
              "<td>locked, healthy</td></tr>\n",
              "<tr><td>H2O_connection_url:</td>\n",
              "<td>http://127.0.0.1:54321</td></tr>\n",
              "<tr><td>H2O_connection_proxy:</td>\n",
              "<td>{\"http\": null, \"https\": null, \"colab_language_server\": \"/usr/colab/bin/language_service\"}</td></tr>\n",
              "<tr><td>H2O_internal_security:</td>\n",
              "<td>False</td></tr>\n",
              "<tr><td>Python_version:</td>\n",
              "<td>3.10.12 final</td></tr></tbody>\n",
              "  </table>\n",
              "</div>\n"
            ]
          },
          "metadata": {}
        }
      ]
    },
    {
      "cell_type": "code",
      "source": [
        "h2o_data = h2o.H2OFrame(data.drop(columns=['CUST_ID']))\n",
        "\n",
        "train, test = h2o_data.split_frame(ratios=[0.8], seed=42)\n",
        "\n",
        "x = train.columns\n",
        "y = 'BALANCE'\n",
        "x.remove(y)\n",
        "\n",
        "aml = H2OAutoML(max_runtime_secs=300, seed=42)\n",
        "aml.train(x=x, y=y, training_frame=train)\n",
        "\n",
        "# Display leaderboard\n",
        "lb = aml.leaderboard\n",
        "lb.head(rows=lb.nrows)"
      ],
      "metadata": {
        "colab": {
          "base_uri": "https://localhost:8080/",
          "height": 1000
        },
        "id": "tU3pK2T9JlTu",
        "outputId": "0b5b2230-1183-4747-f516-77318e327e82"
      },
      "execution_count": 12,
      "outputs": [
        {
          "output_type": "stream",
          "name": "stdout",
          "text": [
            "Parse progress: |████████████████████████████████████████████████████████████████| (done) 100%\n",
            "AutoML progress: |███████████████████████████████████████████████████████████████| (done) 100%\n"
          ]
        },
        {
          "output_type": "execute_result",
          "data": {
            "text/plain": [
              "model_id                                                     rmse               mse       mae       rmsle    mean_residual_deviance\n",
              "-------------------------------------------------------  --------  ----------------  --------  ----------  ------------------------\n",
              "StackedEnsemble_AllModels_3_AutoML_1_20230921_235044      498.21   248213             248.49   nan                 248213\n",
              "StackedEnsemble_BestOfFamily_4_AutoML_1_20230921_235044   501.081  251082             250.166  nan                 251082\n",
              "StackedEnsemble_AllModels_1_AutoML_1_20230921_235044      502.76   252767             252.37   nan                 252767\n",
              "StackedEnsemble_BestOfFamily_3_AutoML_1_20230921_235044   504.2    254218             255.927  nan                 254218\n",
              "StackedEnsemble_AllModels_2_AutoML_1_20230921_235044      504.305  254323             253.663  nan                 254323\n",
              "StackedEnsemble_BestOfFamily_2_AutoML_1_20230921_235044   505.543  255573             256.133  nan                 255573\n",
              "GBM_2_AutoML_1_20230921_235044                            510.232  260337             262.151  nan                 260337\n",
              "GBM_grid_1_AutoML_1_20230921_235044_model_1               513.887  264080             261.747  nan                 264080\n",
              "GBM_4_AutoML_1_20230921_235044                            515.397  265634             259.221  nan                 265634\n",
              "GBM_3_AutoML_1_20230921_235044                            516.159  266420             258.341  nan                 266420\n",
              "GBM_5_AutoML_1_20230921_235044                            521.65   272118             271.953  nan                 272118\n",
              "GBM_grid_1_AutoML_1_20230921_235044_model_2               525.742  276405             253.393  nan                 276405\n",
              "StackedEnsemble_BestOfFamily_1_AutoML_1_20230921_235044   535.772  287051             273.681  nan                 287051\n",
              "XGBoost_grid_1_AutoML_1_20230921_235044_model_3           541.768  293513             259.916  nan                 293513\n",
              "DRF_1_AutoML_1_20230921_235044                            542.711  294536             269.533    0.688692          294536\n",
              "XRT_1_AutoML_1_20230921_235044                            549.101  301512             271.192    0.675782          301512\n",
              "XGBoost_1_AutoML_1_20230921_235044                        561.497  315279             294.21   nan                 315279\n",
              "GBM_1_AutoML_1_20230921_235044                            561.611  315407             287.316  nan                 315407\n",
              "XGBoost_grid_1_AutoML_1_20230921_235044_model_4           568.185  322834             327.338  nan                 322834\n",
              "XGBoost_3_AutoML_1_20230921_235044                        573.289  328660             309.07   nan                 328660\n",
              "XGBoost_2_AutoML_1_20230921_235044                        616.052  379520             328.585  nan                 379520\n",
              "XGBoost_grid_1_AutoML_1_20230921_235044_model_5           640.636  410414             336.766  nan                 410414\n",
              "XGBoost_grid_1_AutoML_1_20230921_235044_model_2           665.343  442681             344.331  nan                 442681\n",
              "DeepLearning_grid_1_AutoML_1_20230921_235044_model_1      685.759  470265             417.853  nan                 470265\n",
              "DeepLearning_1_AutoML_1_20230921_235044                   687.882  473182             394.284  nan                 473182\n",
              "XGBoost_grid_1_AutoML_1_20230921_235044_model_1           724.875  525444             362.62   nan                 525444\n",
              "GBM_grid_1_AutoML_1_20230921_235044_model_3               914.331  836000             522.661  nan                 836000\n",
              "GBM_grid_1_AutoML_1_20230921_235044_model_4               942.55   888401             572.146    1.67204           888401\n",
              "XGBoost_grid_1_AutoML_1_20230921_235044_model_6          1050.09        1.10269e+06   500.568  nan                      1.10269e+06\n",
              "DeepLearning_grid_1_AutoML_1_20230921_235044_model_2     1141.67        1.30341e+06   686.358  nan                      1.30341e+06\n",
              "GBM_grid_1_AutoML_1_20230921_235044_model_5              1913.91        3.66303e+06  1337.71     2.29904                3.66303e+06\n",
              "GLM_1_AutoML_1_20230921_235044                           2090.13        4.36865e+06  1469.21     2.37122                4.36865e+06\n",
              "[32 rows x 6 columns]\n"
            ],
            "text/html": [
              "<table class='dataframe'>\n",
              "<thead>\n",
              "<tr><th>model_id                                               </th><th style=\"text-align: right;\">    rmse</th><th style=\"text-align: right;\">             mse</th><th style=\"text-align: right;\">     mae</th><th style=\"text-align: right;\">     rmsle</th><th style=\"text-align: right;\">  mean_residual_deviance</th></tr>\n",
              "</thead>\n",
              "<tbody>\n",
              "<tr><td>StackedEnsemble_AllModels_3_AutoML_1_20230921_235044   </td><td style=\"text-align: right;\"> 498.21 </td><td style=\"text-align: right;\">248213          </td><td style=\"text-align: right;\"> 248.49 </td><td style=\"text-align: right;\">nan       </td><td style=\"text-align: right;\">        248213          </td></tr>\n",
              "<tr><td>StackedEnsemble_BestOfFamily_4_AutoML_1_20230921_235044</td><td style=\"text-align: right;\"> 501.081</td><td style=\"text-align: right;\">251082          </td><td style=\"text-align: right;\"> 250.166</td><td style=\"text-align: right;\">nan       </td><td style=\"text-align: right;\">        251082          </td></tr>\n",
              "<tr><td>StackedEnsemble_AllModels_1_AutoML_1_20230921_235044   </td><td style=\"text-align: right;\"> 502.76 </td><td style=\"text-align: right;\">252767          </td><td style=\"text-align: right;\"> 252.37 </td><td style=\"text-align: right;\">nan       </td><td style=\"text-align: right;\">        252767          </td></tr>\n",
              "<tr><td>StackedEnsemble_BestOfFamily_3_AutoML_1_20230921_235044</td><td style=\"text-align: right;\"> 504.2  </td><td style=\"text-align: right;\">254218          </td><td style=\"text-align: right;\"> 255.927</td><td style=\"text-align: right;\">nan       </td><td style=\"text-align: right;\">        254218          </td></tr>\n",
              "<tr><td>StackedEnsemble_AllModels_2_AutoML_1_20230921_235044   </td><td style=\"text-align: right;\"> 504.305</td><td style=\"text-align: right;\">254323          </td><td style=\"text-align: right;\"> 253.663</td><td style=\"text-align: right;\">nan       </td><td style=\"text-align: right;\">        254323          </td></tr>\n",
              "<tr><td>StackedEnsemble_BestOfFamily_2_AutoML_1_20230921_235044</td><td style=\"text-align: right;\"> 505.543</td><td style=\"text-align: right;\">255573          </td><td style=\"text-align: right;\"> 256.133</td><td style=\"text-align: right;\">nan       </td><td style=\"text-align: right;\">        255573          </td></tr>\n",
              "<tr><td>GBM_2_AutoML_1_20230921_235044                         </td><td style=\"text-align: right;\"> 510.232</td><td style=\"text-align: right;\">260337          </td><td style=\"text-align: right;\"> 262.151</td><td style=\"text-align: right;\">nan       </td><td style=\"text-align: right;\">        260337          </td></tr>\n",
              "<tr><td>GBM_grid_1_AutoML_1_20230921_235044_model_1            </td><td style=\"text-align: right;\"> 513.887</td><td style=\"text-align: right;\">264080          </td><td style=\"text-align: right;\"> 261.747</td><td style=\"text-align: right;\">nan       </td><td style=\"text-align: right;\">        264080          </td></tr>\n",
              "<tr><td>GBM_4_AutoML_1_20230921_235044                         </td><td style=\"text-align: right;\"> 515.397</td><td style=\"text-align: right;\">265634          </td><td style=\"text-align: right;\"> 259.221</td><td style=\"text-align: right;\">nan       </td><td style=\"text-align: right;\">        265634          </td></tr>\n",
              "<tr><td>GBM_3_AutoML_1_20230921_235044                         </td><td style=\"text-align: right;\"> 516.159</td><td style=\"text-align: right;\">266420          </td><td style=\"text-align: right;\"> 258.341</td><td style=\"text-align: right;\">nan       </td><td style=\"text-align: right;\">        266420          </td></tr>\n",
              "<tr><td>GBM_5_AutoML_1_20230921_235044                         </td><td style=\"text-align: right;\"> 521.65 </td><td style=\"text-align: right;\">272118          </td><td style=\"text-align: right;\"> 271.953</td><td style=\"text-align: right;\">nan       </td><td style=\"text-align: right;\">        272118          </td></tr>\n",
              "<tr><td>GBM_grid_1_AutoML_1_20230921_235044_model_2            </td><td style=\"text-align: right;\"> 525.742</td><td style=\"text-align: right;\">276405          </td><td style=\"text-align: right;\"> 253.393</td><td style=\"text-align: right;\">nan       </td><td style=\"text-align: right;\">        276405          </td></tr>\n",
              "<tr><td>StackedEnsemble_BestOfFamily_1_AutoML_1_20230921_235044</td><td style=\"text-align: right;\"> 535.772</td><td style=\"text-align: right;\">287051          </td><td style=\"text-align: right;\"> 273.681</td><td style=\"text-align: right;\">nan       </td><td style=\"text-align: right;\">        287051          </td></tr>\n",
              "<tr><td>XGBoost_grid_1_AutoML_1_20230921_235044_model_3        </td><td style=\"text-align: right;\"> 541.768</td><td style=\"text-align: right;\">293513          </td><td style=\"text-align: right;\"> 259.916</td><td style=\"text-align: right;\">nan       </td><td style=\"text-align: right;\">        293513          </td></tr>\n",
              "<tr><td>DRF_1_AutoML_1_20230921_235044                         </td><td style=\"text-align: right;\"> 542.711</td><td style=\"text-align: right;\">294536          </td><td style=\"text-align: right;\"> 269.533</td><td style=\"text-align: right;\">  0.688692</td><td style=\"text-align: right;\">        294536          </td></tr>\n",
              "<tr><td>XRT_1_AutoML_1_20230921_235044                         </td><td style=\"text-align: right;\"> 549.101</td><td style=\"text-align: right;\">301512          </td><td style=\"text-align: right;\"> 271.192</td><td style=\"text-align: right;\">  0.675782</td><td style=\"text-align: right;\">        301512          </td></tr>\n",
              "<tr><td>XGBoost_1_AutoML_1_20230921_235044                     </td><td style=\"text-align: right;\"> 561.497</td><td style=\"text-align: right;\">315279          </td><td style=\"text-align: right;\"> 294.21 </td><td style=\"text-align: right;\">nan       </td><td style=\"text-align: right;\">        315279          </td></tr>\n",
              "<tr><td>GBM_1_AutoML_1_20230921_235044                         </td><td style=\"text-align: right;\"> 561.611</td><td style=\"text-align: right;\">315407          </td><td style=\"text-align: right;\"> 287.316</td><td style=\"text-align: right;\">nan       </td><td style=\"text-align: right;\">        315407          </td></tr>\n",
              "<tr><td>XGBoost_grid_1_AutoML_1_20230921_235044_model_4        </td><td style=\"text-align: right;\"> 568.185</td><td style=\"text-align: right;\">322834          </td><td style=\"text-align: right;\"> 327.338</td><td style=\"text-align: right;\">nan       </td><td style=\"text-align: right;\">        322834          </td></tr>\n",
              "<tr><td>XGBoost_3_AutoML_1_20230921_235044                     </td><td style=\"text-align: right;\"> 573.289</td><td style=\"text-align: right;\">328660          </td><td style=\"text-align: right;\"> 309.07 </td><td style=\"text-align: right;\">nan       </td><td style=\"text-align: right;\">        328660          </td></tr>\n",
              "<tr><td>XGBoost_2_AutoML_1_20230921_235044                     </td><td style=\"text-align: right;\"> 616.052</td><td style=\"text-align: right;\">379520          </td><td style=\"text-align: right;\"> 328.585</td><td style=\"text-align: right;\">nan       </td><td style=\"text-align: right;\">        379520          </td></tr>\n",
              "<tr><td>XGBoost_grid_1_AutoML_1_20230921_235044_model_5        </td><td style=\"text-align: right;\"> 640.636</td><td style=\"text-align: right;\">410414          </td><td style=\"text-align: right;\"> 336.766</td><td style=\"text-align: right;\">nan       </td><td style=\"text-align: right;\">        410414          </td></tr>\n",
              "<tr><td>XGBoost_grid_1_AutoML_1_20230921_235044_model_2        </td><td style=\"text-align: right;\"> 665.343</td><td style=\"text-align: right;\">442681          </td><td style=\"text-align: right;\"> 344.331</td><td style=\"text-align: right;\">nan       </td><td style=\"text-align: right;\">        442681          </td></tr>\n",
              "<tr><td>DeepLearning_grid_1_AutoML_1_20230921_235044_model_1   </td><td style=\"text-align: right;\"> 685.759</td><td style=\"text-align: right;\">470265          </td><td style=\"text-align: right;\"> 417.853</td><td style=\"text-align: right;\">nan       </td><td style=\"text-align: right;\">        470265          </td></tr>\n",
              "<tr><td>DeepLearning_1_AutoML_1_20230921_235044                </td><td style=\"text-align: right;\"> 687.882</td><td style=\"text-align: right;\">473182          </td><td style=\"text-align: right;\"> 394.284</td><td style=\"text-align: right;\">nan       </td><td style=\"text-align: right;\">        473182          </td></tr>\n",
              "<tr><td>XGBoost_grid_1_AutoML_1_20230921_235044_model_1        </td><td style=\"text-align: right;\"> 724.875</td><td style=\"text-align: right;\">525444          </td><td style=\"text-align: right;\"> 362.62 </td><td style=\"text-align: right;\">nan       </td><td style=\"text-align: right;\">        525444          </td></tr>\n",
              "<tr><td>GBM_grid_1_AutoML_1_20230921_235044_model_3            </td><td style=\"text-align: right;\"> 914.331</td><td style=\"text-align: right;\">836000          </td><td style=\"text-align: right;\"> 522.661</td><td style=\"text-align: right;\">nan       </td><td style=\"text-align: right;\">        836000          </td></tr>\n",
              "<tr><td>GBM_grid_1_AutoML_1_20230921_235044_model_4            </td><td style=\"text-align: right;\"> 942.55 </td><td style=\"text-align: right;\">888401          </td><td style=\"text-align: right;\"> 572.146</td><td style=\"text-align: right;\">  1.67204 </td><td style=\"text-align: right;\">        888401          </td></tr>\n",
              "<tr><td>XGBoost_grid_1_AutoML_1_20230921_235044_model_6        </td><td style=\"text-align: right;\">1050.09 </td><td style=\"text-align: right;\">     1.10269e+06</td><td style=\"text-align: right;\"> 500.568</td><td style=\"text-align: right;\">nan       </td><td style=\"text-align: right;\">             1.10269e+06</td></tr>\n",
              "<tr><td>DeepLearning_grid_1_AutoML_1_20230921_235044_model_2   </td><td style=\"text-align: right;\">1141.67 </td><td style=\"text-align: right;\">     1.30341e+06</td><td style=\"text-align: right;\"> 686.358</td><td style=\"text-align: right;\">nan       </td><td style=\"text-align: right;\">             1.30341e+06</td></tr>\n",
              "<tr><td>GBM_grid_1_AutoML_1_20230921_235044_model_5            </td><td style=\"text-align: right;\">1913.91 </td><td style=\"text-align: right;\">     3.66303e+06</td><td style=\"text-align: right;\">1337.71 </td><td style=\"text-align: right;\">  2.29904 </td><td style=\"text-align: right;\">             3.66303e+06</td></tr>\n",
              "<tr><td>GLM_1_AutoML_1_20230921_235044                         </td><td style=\"text-align: right;\">2090.13 </td><td style=\"text-align: right;\">     4.36865e+06</td><td style=\"text-align: right;\">1469.21 </td><td style=\"text-align: right;\">  2.37122 </td><td style=\"text-align: right;\">             4.36865e+06</td></tr>\n",
              "</tbody>\n",
              "</table><pre style='font-size: smaller; margin-bottom: 1em;'>[32 rows x 6 columns]</pre>"
            ]
          },
          "metadata": {},
          "execution_count": 12
        }
      ]
    },
    {
      "cell_type": "code",
      "source": [
        "# Get the model id of the top GBM or XGBoost model from the leaderboard\n",
        "base_model_id = None\n",
        "for model_id in aml.leaderboard['model_id'].as_data_frame().values.flatten():\n",
        "    if \"GBM\" in model_id or \"XGBoost\" in model_id:\n",
        "        base_model_id = model_id\n",
        "        break\n",
        "\n",
        "# Check if a suitable base model was found\n",
        "if base_model_id:\n",
        "    base_model = h2o.get_model(base_model_id)\n",
        "    feature_importance = base_model.varimp(use_pandas=True)\n",
        "else:\n",
        "    print(\"Couldn't find a suitable base model for feature importance.\")\n"
      ],
      "metadata": {
        "id": "nDwh5t_HNGqb"
      },
      "execution_count": 16,
      "outputs": []
    },
    {
      "cell_type": "code",
      "source": [
        "import matplotlib.pyplot as plt\n",
        "\n",
        "# Plot the feature importance\n",
        "plt.figure(figsize=(12, 8))\n",
        "plt.barh(feature_importance['variable'], feature_importance['relative_importance'], align='center', alpha=0.8)\n",
        "plt.xlabel('Relative Importance')\n",
        "plt.title('Variable Importance')\n",
        "plt.gca().invert_yaxis()  # To display the most important features at the top\n",
        "plt.show()\n"
      ],
      "metadata": {
        "colab": {
          "base_uri": "https://localhost:8080/",
          "height": 680
        },
        "id": "yb-z0dxBNMob",
        "outputId": "3cf517ea-1fba-4344-a015-c733b912097e"
      },
      "execution_count": 17,
      "outputs": [
        {
          "output_type": "display_data",
          "data": {
            "text/plain": [
              "<Figure size 1200x800 with 1 Axes>"
            ],
            "image/png": "[encoded data removed]"
          },
          "metadata": {}
        }
      ]
    },
    {
      "cell_type": "code",
      "source": [
        "top_features = feature_importance.sort_values(by='relative_importance', ascending=False).head(10)\n",
        "print(top_features)\n",
        "\n"
      ],
      "metadata": {
        "colab": {
          "base_uri": "https://localhost:8080/"
        },
        "id": "WOezESrvNMy5",
        "outputId": "a9739265-37d2-48a5-f206-3356e9eaa41a"
      },
      "execution_count": 19,
      "outputs": [
        {
          "output_type": "stream",
          "name": "stdout",
          "text": [
            "                     variable  relative_importance  scaled_importance  \\\n",
            "0            MINIMUM_PAYMENTS         7.214087e+10           1.000000   \n",
            "1                CREDIT_LIMIT         2.825452e+10           0.391658   \n",
            "2                CASH_ADVANCE         1.858224e+10           0.257583   \n",
            "3                    PAYMENTS         6.652327e+09           0.092213   \n",
            "4           BALANCE_FREQUENCY         4.845090e+09           0.067162   \n",
            "5            PRC_FULL_PAYMENT         3.923739e+09           0.054390   \n",
            "6      CASH_ADVANCE_FREQUENCY         1.976894e+09           0.027403   \n",
            "7            CASH_ADVANCE_TRX         1.848010e+09           0.025617   \n",
            "8                   PURCHASES         1.571516e+09           0.021784   \n",
            "9  ONEOFF_PURCHASES_FREQUENCY         5.649507e+08           0.007831   \n",
            "\n",
            "   percentage  \n",
            "0    0.506211  \n",
            "1    0.198261  \n",
            "2    0.130391  \n",
            "3    0.046679  \n",
            "4    0.033998  \n",
            "5    0.027533  \n",
            "6    0.013872  \n",
            "7    0.012967  \n",
            "8    0.011027  \n",
            "9    0.003964  \n"
          ]
        }
      ]
    },
    {
      "cell_type": "code",
      "source": [
        "from sklearn.preprocessing import StandardScaler\n",
        "\n",
        "scaler = StandardScaler()\n",
        "data_scaled = scaler.fit_transform(data[top_features['variable'].values])\n",
        "\n"
      ],
      "metadata": {
        "id": "CvZa8n1EQAPs"
      },
      "execution_count": 22,
      "outputs": []
    },
    {
      "cell_type": "code",
      "execution_count": 29,
      "metadata": {
        "colab": {
          "base_uri": "https://localhost:8080/"
        },
        "id": "yM2fwrgCYSZc",
        "outputId": "57db7add-629b-4983-e257-229daa9fd9dd"
      },
      "outputs": [
        {
          "output_type": "stream",
          "name": "stdout",
          "text": [
            "Explained Variance by Principal Components: [0.28417428 0.22342701 0.11345399 0.09777576 0.07783631 0.06634818\n",
            " 0.0591365  0.03974794 0.01911125 0.01898877]\n"
          ]
        },
        {
          "output_type": "stream",
          "name": "stderr",
          "text": [
            "<ipython-input-29-a83868961593>:6: FutureWarning: The default value of numeric_only in DataFrame.quantile is deprecated. In a future version, it will default to False. Select only valid columns or specify the value of numeric_only to silence this warning.\n",
            "  Q1 = data.quantile(0.25)\n",
            "<ipython-input-29-a83868961593>:7: FutureWarning: The default value of numeric_only in DataFrame.quantile is deprecated. In a future version, it will default to False. Select only valid columns or specify the value of numeric_only to silence this warning.\n",
            "  Q3 = data.quantile(0.75)\n",
            "<ipython-input-29-a83868961593>:9: FutureWarning: Automatic reindexing on DataFrame vs Series comparisons is deprecated and will raise ValueError in a future version. Do `left, right = left.align(right, axis=1, copy=False)` before e.g. `left == right`\n",
            "  data_no_outliers = data[~((data < (Q1 - 1.5 * IQR)) | (data > (Q3 + 1.5 * IQR))).any(axis=1)]\n"
          ]
        }
      ],
      "source": [
        "# Import necessary libraries\n",
        "from sklearn.preprocessing import StandardScaler\n",
        "from sklearn.decomposition import PCA\n",
        "\n",
        "# Handling Outliers (Using IQR method as an example)\n",
        "Q1 = data.quantile(0.25)\n",
        "Q3 = data.quantile(0.75)\n",
        "IQR = Q3 - Q1\n",
        "data_no_outliers = data[~((data < (Q1 - 1.5 * IQR)) | (data > (Q3 + 1.5 * IQR))).any(axis=1)]\n",
        "\n",
        "# Data Reduction (Using PCA as an example)\n",
        "# While we'll perform clustering on the complete dataset, let's see the variance explained by principal components.\n",
        "pca = PCA()\n",
        "data_pca = pca.fit(data_scaled)\n",
        "\n",
        "# Display the explained variance by each component\n",
        "explained_variance = data_pca.explained_variance_ratio_\n",
        "print(\"Explained Variance by Principal Components:\", explained_variance)\n"
      ]
    },
    {
      "cell_type": "code",
      "execution_count": 30,
      "metadata": {
        "colab": {
          "base_uri": "https://localhost:8080/",
          "height": 1000
        },
        "id": "JbnV7cfSZzeS",
        "outputId": "43aca4ab-398c-475f-8e38-ff9fa17f78c0"
      },
      "outputs": [
        {
          "output_type": "stream",
          "name": "stderr",
          "text": [
            "/usr/local/lib/python3.10/dist-packages/sklearn/cluster/_kmeans.py:870: FutureWarning: The default value of `n_init` will change from 10 to 'auto' in 1.4. Set the value of `n_init` explicitly to suppress the warning\n",
            "  warnings.warn(\n",
            "/usr/local/lib/python3.10/dist-packages/sklearn/cluster/_kmeans.py:870: FutureWarning: The default value of `n_init` will change from 10 to 'auto' in 1.4. Set the value of `n_init` explicitly to suppress the warning\n",
            "  warnings.warn(\n",
            "/usr/local/lib/python3.10/dist-packages/sklearn/cluster/_kmeans.py:870: FutureWarning: The default value of `n_init` will change from 10 to 'auto' in 1.4. Set the value of `n_init` explicitly to suppress the warning\n",
            "  warnings.warn(\n",
            "/usr/local/lib/python3.10/dist-packages/sklearn/cluster/_kmeans.py:870: FutureWarning: The default value of `n_init` will change from 10 to 'auto' in 1.4. Set the value of `n_init` explicitly to suppress the warning\n",
            "  warnings.warn(\n",
            "/usr/local/lib/python3.10/dist-packages/sklearn/cluster/_kmeans.py:870: FutureWarning: The default value of `n_init` will change from 10 to 'auto' in 1.4. Set the value of `n_init` explicitly to suppress the warning\n",
            "  warnings.warn(\n",
            "/usr/local/lib/python3.10/dist-packages/sklearn/cluster/_kmeans.py:870: FutureWarning: The default value of `n_init` will change from 10 to 'auto' in 1.4. Set the value of `n_init` explicitly to suppress the warning\n",
            "  warnings.warn(\n",
            "/usr/local/lib/python3.10/dist-packages/sklearn/cluster/_kmeans.py:870: FutureWarning: The default value of `n_init` will change from 10 to 'auto' in 1.4. Set the value of `n_init` explicitly to suppress the warning\n",
            "  warnings.warn(\n",
            "/usr/local/lib/python3.10/dist-packages/sklearn/cluster/_kmeans.py:870: FutureWarning: The default value of `n_init` will change from 10 to 'auto' in 1.4. Set the value of `n_init` explicitly to suppress the warning\n",
            "  warnings.warn(\n",
            "/usr/local/lib/python3.10/dist-packages/sklearn/cluster/_kmeans.py:870: FutureWarning: The default value of `n_init` will change from 10 to 'auto' in 1.4. Set the value of `n_init` explicitly to suppress the warning\n",
            "  warnings.warn(\n",
            "/usr/local/lib/python3.10/dist-packages/sklearn/cluster/_kmeans.py:870: FutureWarning: The default value of `n_init` will change from 10 to 'auto' in 1.4. Set the value of `n_init` explicitly to suppress the warning\n",
            "  warnings.warn(\n",
            "/usr/local/lib/python3.10/dist-packages/sklearn/cluster/_kmeans.py:870: FutureWarning: The default value of `n_init` will change from 10 to 'auto' in 1.4. Set the value of `n_init` explicitly to suppress the warning\n",
            "  warnings.warn(\n",
            "/usr/local/lib/python3.10/dist-packages/sklearn/cluster/_kmeans.py:870: FutureWarning: The default value of `n_init` will change from 10 to 'auto' in 1.4. Set the value of `n_init` explicitly to suppress the warning\n",
            "  warnings.warn(\n",
            "/usr/local/lib/python3.10/dist-packages/sklearn/cluster/_kmeans.py:870: FutureWarning: The default value of `n_init` will change from 10 to 'auto' in 1.4. Set the value of `n_init` explicitly to suppress the warning\n",
            "  warnings.warn(\n",
            "/usr/local/lib/python3.10/dist-packages/sklearn/cluster/_kmeans.py:870: FutureWarning: The default value of `n_init` will change from 10 to 'auto' in 1.4. Set the value of `n_init` explicitly to suppress the warning\n",
            "  warnings.warn(\n"
          ]
        },
        {
          "output_type": "display_data",
          "data": {
            "text/plain": [
              "<Figure size 1000x600 with 1 Axes>"
            ],
            "image/png": "[encoded data removed]"
          },
          "metadata": {}
        },
        {
          "output_type": "stream",
          "name": "stderr",
          "text": [
            "/usr/local/lib/python3.10/dist-packages/sklearn/cluster/_kmeans.py:870: FutureWarning: The default value of `n_init` will change from 10 to 'auto' in 1.4. Set the value of `n_init` explicitly to suppress the warning\n",
            "  warnings.warn(\n"
          ]
        },
        {
          "output_type": "stream",
          "name": "stdout",
          "text": [
            "             BALANCE  BALANCE_FREQUENCY    PURCHASES  ONEOFF_PURCHASES  \\\n",
            "Cluster                                                                  \n",
            "0         941.636020           0.837443   488.772612        203.275278   \n",
            "1        1855.683735           0.962614  3570.020607       2469.045769   \n",
            "2        3870.617543           0.958106   584.871881        341.041847   \n",
            "\n",
            "         INSTALLMENTS_PURCHASES  CASH_ADVANCE  PURCHASES_FREQUENCY  \\\n",
            "Cluster                                                              \n",
            "0                    285.813691    381.879815             0.439245   \n",
            "1                   1101.437916    260.754851             0.894957   \n",
            "2                    243.900103   4185.175602             0.299388   \n",
            "\n",
            "         ONEOFF_PURCHASES_FREQUENCY  PURCHASES_INSTALLMENTS_FREQUENCY  \\\n",
            "Cluster                                                                 \n",
            "0                          0.092114                          0.357278   \n",
            "1                          0.731264                          0.548752   \n",
            "2                          0.134462                          0.210226   \n",
            "\n",
            "         CASH_ADVANCE_FREQUENCY  CASH_ADVANCE_TRX  PURCHASES_TRX  \\\n",
            "Cluster                                                            \n",
            "0                      0.074609          1.322975       8.887107   \n",
            "1                      0.038951          0.712215      44.243616   \n",
            "2                      0.483610         13.811854       9.494831   \n",
            "\n",
            "         CREDIT_LIMIT     PAYMENTS  MINIMUM_PAYMENTS  PRC_FULL_PAYMENT  \\\n",
            "Cluster                                                                  \n",
            "0         3224.004349   908.390046        619.028462          0.141587   \n",
            "1         7636.437041  3572.965860        780.616191          0.317278   \n",
            "2         6652.932147  3334.700320       1850.916960          0.040944   \n",
            "\n",
            "            TENURE   cluster  \n",
            "Cluster                       \n",
            "0        11.478843  0.782314  \n",
            "1        11.843340  3.808834  \n",
            "2        11.352171  1.787733  \n"
          ]
        },
        {
          "output_type": "stream",
          "name": "stderr",
          "text": [
            "<ipython-input-30-f24396bfcb04>:32: FutureWarning: The default value of numeric_only in DataFrameGroupBy.mean is deprecated. In a future version, numeric_only will default to False. Either specify numeric_only or select only columns which should be valid for the function.\n",
            "  cluster_summary = data.groupby('Cluster').mean()\n"
          ]
        }
      ],
      "source": [
        "# Import necessary libraries\n",
        "from sklearn.cluster import KMeans\n",
        "\n",
        "# 1. Determine the optimal number of clusters using the Elbow method\n",
        "inertia = []\n",
        "range_values = range(1, 15)\n",
        "for i in range_values:\n",
        "    kmeans = KMeans(n_clusters=i, random_state=42)\n",
        "    kmeans.fit(data_scaled)\n",
        "    inertia.append(kmeans.inertia_)\n",
        "\n",
        "# Plotting the Elbow curve\n",
        "plt.figure(figsize=(10, 6))\n",
        "plt.plot(range_values, inertia, 'o-', color='blue')\n",
        "plt.xlabel('Number of Clusters')\n",
        "plt.ylabel('Inertia')\n",
        "plt.title('Elbow Curve to Determine Optimal Number of Clusters')\n",
        "plt.grid(True)\n",
        "plt.show()\n",
        "\n",
        "# Based on the Elbow curve, choose an optimal value for k (e.g., if the elbow is at k=3, use that)\n",
        "optimal_clusters = 3  # This is just a placeholder. Adjust based on your observation.\n",
        "\n",
        "# 2. Apply K-means clustering with the optimal number of clusters\n",
        "kmeans = KMeans(n_clusters=optimal_clusters, random_state=42)\n",
        "clusters = kmeans.fit_predict(data_scaled)\n",
        "\n",
        "# Adding the cluster assignments back to our original data\n",
        "data['Cluster'] = clusters\n",
        "\n",
        "# 3. Analyze the characteristics of each cluster\n",
        "cluster_summary = data.groupby('Cluster').mean()\n",
        "print(cluster_summary)\n"
      ]
    },
    {
      "cell_type": "code",
      "execution_count": 31,
      "metadata": {
        "colab": {
          "base_uri": "https://localhost:8080/"
        },
        "id": "P-rfeTvBaooO",
        "outputId": "f315d927-1f2c-4cd0-8bc3-14b54a2a4889"
      },
      "outputs": [
        {
          "output_type": "stream",
          "name": "stdout",
          "text": [
            "Silhouette Score: 0.3081171841677157\n"
          ]
        }
      ],
      "source": [
        "from sklearn.metrics import silhouette_score\n",
        "\n",
        "# Calculate Silhouette Score\n",
        "sil_score = silhouette_score(data_scaled, clusters)\n",
        "print(\"Silhouette Score:\", sil_score)\n"
      ]
    },
    {
      "cell_type": "code",
      "execution_count": 32,
      "metadata": {
        "colab": {
          "base_uri": "https://localhost:8080/"
        },
        "id": "5Kpb5TjhbxDA",
        "outputId": "16f65c14-d408-4c1e-d6fc-3903cb2bdcda"
      },
      "outputs": [
        {
          "output_type": "stream",
          "name": "stderr",
          "text": [
            "/usr/local/lib/python3.10/dist-packages/sklearn/cluster/_kmeans.py:870: FutureWarning: The default value of `n_init` will change from 10 to 'auto' in 1.4. Set the value of `n_init` explicitly to suppress the warning\n",
            "  warnings.warn(\n"
          ]
        },
        {
          "output_type": "stream",
          "name": "stdout",
          "text": [
            "Silhouette Score (k-means++ initialization): 0.3081171841677157\n"
          ]
        }
      ],
      "source": [
        "# Apply K-means clustering with a different initialization method: \"k-means++\"\n",
        "kmeans_plusplus = KMeans(n_clusters=optimal_clusters, init='k-means++', random_state=42)\n",
        "clusters_plusplus = kmeans_plusplus.fit_predict(data_scaled)\n",
        "\n",
        "# Calculate Silhouette Score for the new clustering\n",
        "sil_score_plusplus = silhouette_score(data_scaled, clusters_plusplus)\n",
        "print(\"Silhouette Score (k-means++ initialization):\", sil_score_plusplus)\n"
      ]
    },
    {
      "cell_type": "code",
      "execution_count": 37,
      "metadata": {
        "colab": {
          "base_uri": "https://localhost:8080/"
        },
        "id": "RaOkq3WtcTpM",
        "outputId": "3c8befe6-f441-4425-d41f-9344797ec34c"
      },
      "outputs": [
        {
          "output_type": "stream",
          "name": "stdout",
          "text": [
            "Clusters Formed: {-1: 68, 0: 8873, 1: 5, 2: 4}\n",
            "Silhouette Score (DBSCAN): 0.6018061541093631\n"
          ]
        }
      ],
      "source": [
        "from sklearn.cluster import DBSCAN\n",
        "import numpy as np\n",
        "\n",
        "# Applying DBSCAN clustering\n",
        "# The parameters eps and min_samples can be adjusted based on the data distribution\n",
        "dbscan = DBSCAN(eps=3, min_samples=5)\n",
        "dbscan_clusters = dbscan.fit_predict(data_scaled)\n",
        "\n",
        "# Count of clusters formed and noise points\n",
        "unique, counts = np.unique(dbscan_clusters, return_counts=True)\n",
        "dbscan_cluster_count = dict(zip(unique, counts))\n",
        "\n",
        "# Calculate Silhouette Score for DBSCAN (excluding noise points, labeled as -1)\n",
        "sil_score_dbscan = silhouette_score(data_scaled[dbscan_clusters != -1], dbscan_clusters[dbscan_clusters != -1])\n",
        "\n",
        "print(\"Clusters Formed:\", dbscan_cluster_count)\n",
        "print(\"Silhouette Score (DBSCAN):\", sil_score_dbscan)\n"
      ]
    },
    {
      "cell_type": "code",
      "execution_count": null,
      "metadata": {
        "id": "Mz8TL3LIcvMF"
      },
      "outputs": [],
      "source": []
    },
    {
      "cell_type": "markdown",
      "metadata": {
        "id": "ffafda48"
      },
      "source": [
        "### Deployment Phase\n",
        "\n",
        "In the deployment phase, the knowledge and insights obtained from the clustering are utilized to achieve specific objectives.\n",
        "In this context, we'll be focusing on designing marketing strategies for different segments and simulating a feedback loop to measure the effectiveness of these strategies.\n"
      ]
    },
    {
      "cell_type": "code",
      "execution_count": null,
      "metadata": {
        "colab": {
          "base_uri": "https://localhost:8080/"
        },
        "id": "6675f4d2",
        "outputId": "230ab98a-cd57-4627-f2d4-5f6e42ebb029"
      },
      "outputs": [
        {
          "output_type": "execute_result",
          "data": {
            "text/plain": [
              "{'Regular Shoppers': 'Offer loyalty points for every purchase which can be redeemed later.',\n",
              " 'Infrequent Shoppers with Cash Advances': 'Provide cashback offers on shopping to incentivize more transactions.',\n",
              " 'High Balance with Cash Advances': 'Offer lower interest rates on cash advances for a limited period.',\n",
              " 'Premium Regular Shoppers': 'Exclusive access to premium sales and events.'}"
            ]
          },
          "metadata": {},
          "execution_count": 15
        }
      ],
      "source": [
        "# Mock marketing strategies for each cluster\n",
        "strategies = {\n",
        "    'Regular Shoppers': 'Offer loyalty points for every purchase which can be redeemed later.',\n",
        "    'Infrequent Shoppers with Cash Advances': 'Provide cashback offers on shopping to incentivize more transactions.',\n",
        "    'High Balance with Cash Advances': 'Offer lower interest rates on cash advances for a limited period.',\n",
        "    'Premium Regular Shoppers': 'Exclusive access to premium sales and events.'\n",
        "}\n",
        "\n",
        "strategies\n"
      ]
    },
    {
      "cell_type": "code",
      "execution_count": null,
      "metadata": {
        "colab": {
          "base_uri": "https://localhost:8080/"
        },
        "id": "4ceb5a39",
        "outputId": "e53c1004-c394-40d6-acbc-b62c4bafa7d0"
      },
      "outputs": [
        {
          "output_type": "execute_result",
          "data": {
            "text/plain": [
              "{'Regular Shoppers': 0.745283714225651,\n",
              " 'Infrequent Shoppers with Cash Advances': 0.5749723804627291,\n",
              " 'High Balance with Cash Advances': 0.5373872484021354,\n",
              " 'Premium Regular Shoppers': 0.7825114221927759}"
            ]
          },
          "metadata": {},
          "execution_count": 16
        }
      ],
      "source": [
        "# Simple feedback loop simulation\n",
        "import random\n",
        "\n",
        "# Mock metric: Customer Engagement Rate (CER) - a measure of the effectiveness of our strategies\n",
        "# Here, we're randomly simulating the CER after applying the strategies\n",
        "cer_values = {\n",
        "    'Regular Shoppers': random.uniform(0.6, 0.8),  # Assuming our strategy is moderately effective for this segment\n",
        "    'Infrequent Shoppers with Cash Advances': random.uniform(0.4, 0.6),  # Moderate effectiveness\n",
        "    'High Balance with Cash Advances': random.uniform(0.5, 0.7),  # Moderate effectiveness\n",
        "    'Premium Regular Shoppers': random.uniform(0.7, 0.9)  # High effectiveness for premium users\n",
        "}\n",
        "\n",
        "cer_values\n"
      ]
    }
  ],
  "metadata": {
    "colab": {
      "provenance": []
    },
    "kernelspec": {
      "display_name": "Python 3",
      "name": "python3"
    },
    "language_info": {
      "name": "python"
    }
  },
  "nbformat": 4,
  "nbformat_minor": 0
}