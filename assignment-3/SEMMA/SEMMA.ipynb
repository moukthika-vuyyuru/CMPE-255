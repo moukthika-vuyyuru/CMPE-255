{
  "nbformat": 4,
  "nbformat_minor": 0,
  "metadata": {
    "colab": {
      "provenance": []
    },
    "kernelspec": {
      "name": "python3",
      "display_name": "Python 3"
    },
    "language_info": {
      "name": "python"
    }
  },
  "cells": [
    {
      "cell_type": "code",
      "source": [
        "!pip install h2o"
      ],
      "metadata": {
        "colab": {
          "base_uri": "https://localhost:8080/"
        },
        "id": "9M_oEX3OugEb",
        "outputId": "ca68986f-02ff-4196-a9e5-97fe70ad90ac"
      },
      "execution_count": 1,
      "outputs": [
        {
          "output_type": "stream",
          "name": "stdout",
          "text": [
            "Collecting h2o\n",
            "  Downloading h2o-3.42.0.3.tar.gz (240.9 MB)\n",
            "\u001b[2K     \u001b[90m━━━━━━━━━━━━━━━━━━━━━━━━━━━━━━━━━━━━━━━\u001b[0m \u001b[32m240.9/240.9 MB\u001b[0m \u001b[31m4.7 MB/s\u001b[0m eta \u001b[36m0:00:00\u001b[0m\n",
            "\u001b[?25h  Preparing metadata (setup.py) ... \u001b[?25l\u001b[?25hdone\n",
            "Requirement already satisfied: requests in /usr/local/lib/python3.10/dist-packages (from h2o) (2.31.0)\n",
            "Requirement already satisfied: tabulate in /usr/local/lib/python3.10/dist-packages (from h2o) (0.9.0)\n",
            "Requirement already satisfied: charset-normalizer<4,>=2 in /usr/local/lib/python3.10/dist-packages (from requests->h2o) (3.2.0)\n",
            "Requirement already satisfied: idna<4,>=2.5 in /usr/local/lib/python3.10/dist-packages (from requests->h2o) (3.4)\n",
            "Requirement already satisfied: urllib3<3,>=1.21.1 in /usr/local/lib/python3.10/dist-packages (from requests->h2o) (2.0.4)\n",
            "Requirement already satisfied: certifi>=2017.4.17 in /usr/local/lib/python3.10/dist-packages (from requests->h2o) (2023.7.22)\n",
            "Building wheels for collected packages: h2o\n",
            "  Building wheel for h2o (setup.py) ... \u001b[?25l\u001b[?25hdone\n",
            "  Created wheel for h2o: filename=h2o-3.42.0.3-py2.py3-none-any.whl size=240945068 sha256=f169177516808689e72fe7956049864ca8ac2b28611824df1900583e348d772b\n",
            "  Stored in directory: /root/.cache/pip/wheels/f9/7d/1d/e1258f0558603969a8393cb5b22a18e313337f01627a118302\n",
            "Successfully built h2o\n",
            "Installing collected packages: h2o\n",
            "Successfully installed h2o-3.42.0.3\n"
          ]
        }
      ]
    },
    {
      "cell_type": "code",
      "execution_count": 16,
      "metadata": {
        "id": "Z2EBtWIDssxX"
      },
      "outputs": [],
      "source": [
        "import matplotlib.pyplot as plt\n",
        "import seaborn as sns\n",
        "import pandas as pd\n",
        "import h2o\n",
        "from h2o.automl import H2OAutoML\n",
        "import nltk\n",
        "from nltk.corpus import stopwords\n",
        "from nltk.stem import WordNetLemmatizer\n",
        "import re\n",
        "from sklearn.feature_extraction.text import TfidfVectorizer\n",
        "from sklearn.preprocessing import LabelEncoder"
      ]
    },
    {
      "cell_type": "code",
      "source": [
        "# Load the dataset (assuming it's a CSV file)\n",
        "data = pd.read_csv('/content/tweet_emotions.csv')\n",
        "data.head()"
      ],
      "metadata": {
        "colab": {
          "base_uri": "https://localhost:8080/",
          "height": 206
        },
        "id": "nOHSv95sszpu",
        "outputId": "95feac12-3d12-4cb1-aff4-4831b43214f4"
      },
      "execution_count": 4,
      "outputs": [
        {
          "output_type": "execute_result",
          "data": {
            "text/plain": [
              "     tweet_id   sentiment                                            content\n",
              "0  1956967341       empty  @tiffanylue i know  i was listenin to bad habi...\n",
              "1  1956967666     sadness  Layin n bed with a headache  ughhhh...waitin o...\n",
              "2  1956967696     sadness                Funeral ceremony...gloomy friday...\n",
              "3  1956967789  enthusiasm               wants to hang out with friends SOON!\n",
              "4  1956968416     neutral  @dannycastillo We want to trade with someone w..."
            ],
            "text/html": [
              "\n",
              "  <div id=\"df-95ef8b6f-554c-4f9e-86cf-d1114f75b07c\" class=\"colab-df-container\">\n",
              "    <div>\n",
              "<style scoped>\n",
              "    .dataframe tbody tr th:only-of-type {\n",
              "        vertical-align: middle;\n",
              "    }\n",
              "\n",
              "    .dataframe tbody tr th {\n",
              "        vertical-align: top;\n",
              "    }\n",
              "\n",
              "    .dataframe thead th {\n",
              "        text-align: right;\n",
              "    }\n",
              "</style>\n",
              "<table border=\"1\" class=\"dataframe\">\n",
              "  <thead>\n",
              "    <tr style=\"text-align: right;\">\n",
              "      <th></th>\n",
              "      <th>tweet_id</th>\n",
              "      <th>sentiment</th>\n",
              "      <th>content</th>\n",
              "    </tr>\n",
              "  </thead>\n",
              "  <tbody>\n",
              "    <tr>\n",
              "      <th>0</th>\n",
              "      <td>1956967341</td>\n",
              "      <td>empty</td>\n",
              "      <td>@tiffanylue i know  i was listenin to bad habi...</td>\n",
              "    </tr>\n",
              "    <tr>\n",
              "      <th>1</th>\n",
              "      <td>1956967666</td>\n",
              "      <td>sadness</td>\n",
              "      <td>Layin n bed with a headache  ughhhh...waitin o...</td>\n",
              "    </tr>\n",
              "    <tr>\n",
              "      <th>2</th>\n",
              "      <td>1956967696</td>\n",
              "      <td>sadness</td>\n",
              "      <td>Funeral ceremony...gloomy friday...</td>\n",
              "    </tr>\n",
              "    <tr>\n",
              "      <th>3</th>\n",
              "      <td>1956967789</td>\n",
              "      <td>enthusiasm</td>\n",
              "      <td>wants to hang out with friends SOON!</td>\n",
              "    </tr>\n",
              "    <tr>\n",
              "      <th>4</th>\n",
              "      <td>1956968416</td>\n",
              "      <td>neutral</td>\n",
              "      <td>@dannycastillo We want to trade with someone w...</td>\n",
              "    </tr>\n",
              "  </tbody>\n",
              "</table>\n",
              "</div>\n",
              "    <div class=\"colab-df-buttons\">\n",
              "\n",
              "  <div class=\"colab-df-container\">\n",
              "    <button class=\"colab-df-convert\" onclick=\"convertToInteractive('df-95ef8b6f-554c-4f9e-86cf-d1114f75b07c')\"\n",
              "            title=\"Convert this dataframe to an interactive table.\"\n",
              "            style=\"display:none;\">\n",
              "\n",
              "  <svg xmlns=\"http://www.w3.org/2000/svg\" height=\"24px\" viewBox=\"0 -960 960 960\">\n",
              "    <path d=\"M120-120v-720h720v720H120Zm60-500h600v-160H180v160Zm220 220h160v-160H400v160Zm0 220h160v-160H400v160ZM180-400h160v-160H180v160Zm440 0h160v-160H620v160ZM180-180h160v-160H180v160Zm440 0h160v-160H620v160Z\"/>\n",
              "  </svg>\n",
              "    </button>\n",
              "\n",
              "  <style>\n",
              "    .colab-df-container {\n",
              "      display:flex;\n",
              "      gap: 12px;\n",
              "    }\n",
              "\n",
              "    .colab-df-convert {\n",
              "      background-color: #E8F0FE;\n",
              "      border: none;\n",
              "      border-radius: 50%;\n",
              "      cursor: pointer;\n",
              "      display: none;\n",
              "      fill: #1967D2;\n",
              "      height: 32px;\n",
              "      padding: 0 0 0 0;\n",
              "      width: 32px;\n",
              "    }\n",
              "\n",
              "    .colab-df-convert:hover {\n",
              "      background-color: #E2EBFA;\n",
              "      box-shadow: 0px 1px 2px rgba(60, 64, 67, 0.3), 0px 1px 3px 1px rgba(60, 64, 67, 0.15);\n",
              "      fill: #174EA6;\n",
              "    }\n",
              "\n",
              "    .colab-df-buttons div {\n",
              "      margin-bottom: 4px;\n",
              "    }\n",
              "\n",
              "    [theme=dark] .colab-df-convert {\n",
              "      background-color: #3B4455;\n",
              "      fill: #D2E3FC;\n",
              "    }\n",
              "\n",
              "    [theme=dark] .colab-df-convert:hover {\n",
              "      background-color: #434B5C;\n",
              "      box-shadow: 0px 1px 3px 1px rgba(0, 0, 0, 0.15);\n",
              "      filter: drop-shadow(0px 1px 2px rgba(0, 0, 0, 0.3));\n",
              "      fill: #FFFFFF;\n",
              "    }\n",
              "  </style>\n",
              "\n",
              "    <script>\n",
              "      const buttonEl =\n",
              "        document.querySelector('#df-95ef8b6f-554c-4f9e-86cf-d1114f75b07c button.colab-df-convert');\n",
              "      buttonEl.style.display =\n",
              "        google.colab.kernel.accessAllowed ? 'block' : 'none';\n",
              "\n",
              "      async function convertToInteractive(key) {\n",
              "        const element = document.querySelector('#df-95ef8b6f-554c-4f9e-86cf-d1114f75b07c');\n",
              "        const dataTable =\n",
              "          await google.colab.kernel.invokeFunction('convertToInteractive',\n",
              "                                                    [key], {});\n",
              "        if (!dataTable) return;\n",
              "\n",
              "        const docLinkHtml = 'Like what you see? Visit the ' +\n",
              "          '<a target=\"_blank\" href=https://colab.research.google.com/notebooks/data_table.ipynb>data table notebook</a>'\n",
              "          + ' to learn more about interactive tables.';\n",
              "        element.innerHTML = '';\n",
              "        dataTable['output_type'] = 'display_data';\n",
              "        await google.colab.output.renderOutput(dataTable, element);\n",
              "        const docLink = document.createElement('div');\n",
              "        docLink.innerHTML = docLinkHtml;\n",
              "        element.appendChild(docLink);\n",
              "      }\n",
              "    </script>\n",
              "  </div>\n",
              "\n",
              "\n",
              "<div id=\"df-e89fc59c-63d9-4381-ac7f-37f0c2cfb5e8\">\n",
              "  <button class=\"colab-df-quickchart\" onclick=\"quickchart('df-e89fc59c-63d9-4381-ac7f-37f0c2cfb5e8')\"\n",
              "            title=\"Suggest charts.\"\n",
              "            style=\"display:none;\">\n",
              "\n",
              "<svg xmlns=\"http://www.w3.org/2000/svg\" height=\"24px\"viewBox=\"0 0 24 24\"\n",
              "     width=\"24px\">\n",
              "    <g>\n",
              "        <path d=\"M19 3H5c-1.1 0-2 .9-2 2v14c0 1.1.9 2 2 2h14c1.1 0 2-.9 2-2V5c0-1.1-.9-2-2-2zM9 17H7v-7h2v7zm4 0h-2V7h2v10zm4 0h-2v-4h2v4z\"/>\n",
              "    </g>\n",
              "</svg>\n",
              "  </button>\n",
              "\n",
              "<style>\n",
              "  .colab-df-quickchart {\n",
              "      --bg-color: #E8F0FE;\n",
              "      --fill-color: #1967D2;\n",
              "      --hover-bg-color: #E2EBFA;\n",
              "      --hover-fill-color: #174EA6;\n",
              "      --disabled-fill-color: #AAA;\n",
              "      --disabled-bg-color: #DDD;\n",
              "  }\n",
              "\n",
              "  [theme=dark] .colab-df-quickchart {\n",
              "      --bg-color: #3B4455;\n",
              "      --fill-color: #D2E3FC;\n",
              "      --hover-bg-color: #434B5C;\n",
              "      --hover-fill-color: #FFFFFF;\n",
              "      --disabled-bg-color: #3B4455;\n",
              "      --disabled-fill-color: #666;\n",
              "  }\n",
              "\n",
              "  .colab-df-quickchart {\n",
              "    background-color: var(--bg-color);\n",
              "    border: none;\n",
              "    border-radius: 50%;\n",
              "    cursor: pointer;\n",
              "    display: none;\n",
              "    fill: var(--fill-color);\n",
              "    height: 32px;\n",
              "    padding: 0;\n",
              "    width: 32px;\n",
              "  }\n",
              "\n",
              "  .colab-df-quickchart:hover {\n",
              "    background-color: var(--hover-bg-color);\n",
              "    box-shadow: 0 1px 2px rgba(60, 64, 67, 0.3), 0 1px 3px 1px rgba(60, 64, 67, 0.15);\n",
              "    fill: var(--button-hover-fill-color);\n",
              "  }\n",
              "\n",
              "  .colab-df-quickchart-complete:disabled,\n",
              "  .colab-df-quickchart-complete:disabled:hover {\n",
              "    background-color: var(--disabled-bg-color);\n",
              "    fill: var(--disabled-fill-color);\n",
              "    box-shadow: none;\n",
              "  }\n",
              "\n",
              "  .colab-df-spinner {\n",
              "    border: 2px solid var(--fill-color);\n",
              "    border-color: transparent;\n",
              "    border-bottom-color: var(--fill-color);\n",
              "    animation:\n",
              "      spin 1s steps(1) infinite;\n",
              "  }\n",
              "\n",
              "  @keyframes spin {\n",
              "    0% {\n",
              "      border-color: transparent;\n",
              "      border-bottom-color: var(--fill-color);\n",
              "      border-left-color: var(--fill-color);\n",
              "    }\n",
              "    20% {\n",
              "      border-color: transparent;\n",
              "      border-left-color: var(--fill-color);\n",
              "      border-top-color: var(--fill-color);\n",
              "    }\n",
              "    30% {\n",
              "      border-color: transparent;\n",
              "      border-left-color: var(--fill-color);\n",
              "      border-top-color: var(--fill-color);\n",
              "      border-right-color: var(--fill-color);\n",
              "    }\n",
              "    40% {\n",
              "      border-color: transparent;\n",
              "      border-right-color: var(--fill-color);\n",
              "      border-top-color: var(--fill-color);\n",
              "    }\n",
              "    60% {\n",
              "      border-color: transparent;\n",
              "      border-right-color: var(--fill-color);\n",
              "    }\n",
              "    80% {\n",
              "      border-color: transparent;\n",
              "      border-right-color: var(--fill-color);\n",
              "      border-bottom-color: var(--fill-color);\n",
              "    }\n",
              "    90% {\n",
              "      border-color: transparent;\n",
              "      border-bottom-color: var(--fill-color);\n",
              "    }\n",
              "  }\n",
              "</style>\n",
              "\n",
              "  <script>\n",
              "    async function quickchart(key) {\n",
              "      const quickchartButtonEl =\n",
              "        document.querySelector('#' + key + ' button');\n",
              "      quickchartButtonEl.disabled = true;  // To prevent multiple clicks.\n",
              "      quickchartButtonEl.classList.add('colab-df-spinner');\n",
              "      try {\n",
              "        const charts = await google.colab.kernel.invokeFunction(\n",
              "            'suggestCharts', [key], {});\n",
              "      } catch (error) {\n",
              "        console.error('Error during call to suggestCharts:', error);\n",
              "      }\n",
              "      quickchartButtonEl.classList.remove('colab-df-spinner');\n",
              "      quickchartButtonEl.classList.add('colab-df-quickchart-complete');\n",
              "    }\n",
              "    (() => {\n",
              "      let quickchartButtonEl =\n",
              "        document.querySelector('#df-e89fc59c-63d9-4381-ac7f-37f0c2cfb5e8 button');\n",
              "      quickchartButtonEl.style.display =\n",
              "        google.colab.kernel.accessAllowed ? 'block' : 'none';\n",
              "    })();\n",
              "  </script>\n",
              "</div>\n",
              "    </div>\n",
              "  </div>\n"
            ]
          },
          "metadata": {},
          "execution_count": 4
        }
      ]
    },
    {
      "cell_type": "code",
      "source": [
        "# Check for missing values\n",
        "missing_values = data.isnull().sum()\n",
        "missing_values"
      ],
      "metadata": {
        "colab": {
          "base_uri": "https://localhost:8080/"
        },
        "id": "yWvQdmYbs97X",
        "outputId": "8e106b56-e0c5-4d2c-d80f-2c351adb0bc0"
      },
      "execution_count": 5,
      "outputs": [
        {
          "output_type": "execute_result",
          "data": {
            "text/plain": [
              "tweet_id     0\n",
              "sentiment    0\n",
              "content      0\n",
              "dtype: int64"
            ]
          },
          "metadata": {},
          "execution_count": 5
        }
      ]
    },
    {
      "cell_type": "code",
      "source": [],
      "metadata": {
        "id": "SXQaILsFtvEM"
      },
      "execution_count": 5,
      "outputs": []
    },
    {
      "cell_type": "code",
      "source": [
        "data.columns"
      ],
      "metadata": {
        "colab": {
          "base_uri": "https://localhost:8080/"
        },
        "id": "-C-9BerEtvWu",
        "outputId": "86bd819c-0a5d-4c0b-ad42-fbc7f3461cfe"
      },
      "execution_count": 6,
      "outputs": [
        {
          "output_type": "execute_result",
          "data": {
            "text/plain": [
              "Index(['tweet_id', 'sentiment', 'content'], dtype='object')"
            ]
          },
          "metadata": {},
          "execution_count": 6
        }
      ]
    },
    {
      "cell_type": "code",
      "source": [
        "# Distribution of the sentiment column\n",
        "sentiment_distribution = data['sentiment'].value_counts()\n",
        "sentiment_distribution"
      ],
      "metadata": {
        "colab": {
          "base_uri": "https://localhost:8080/"
        },
        "id": "5vYgcd1ptVFW",
        "outputId": "8c62a1d7-9792-47e8-d77e-96dd9166e387"
      },
      "execution_count": 7,
      "outputs": [
        {
          "output_type": "execute_result",
          "data": {
            "text/plain": [
              "neutral       8638\n",
              "worry         8459\n",
              "happiness     5209\n",
              "sadness       5165\n",
              "love          3842\n",
              "surprise      2187\n",
              "fun           1776\n",
              "relief        1526\n",
              "hate          1323\n",
              "empty          827\n",
              "enthusiasm     759\n",
              "boredom        179\n",
              "anger          110\n",
              "Name: sentiment, dtype: int64"
            ]
          },
          "metadata": {},
          "execution_count": 7
        }
      ]
    },
    {
      "cell_type": "code",
      "source": [
        "# Basic statistics on the textual data\n",
        "data['word_count'] = data['content'].str.split().apply(len)\n",
        "average_word_count = data['word_count'].mean()\n",
        "average_word_count"
      ],
      "metadata": {
        "colab": {
          "base_uri": "https://localhost:8080/"
        },
        "id": "l2n5CWYEtniO",
        "outputId": "1636870f-0041-44da-fbb1-980b63d46e2d"
      },
      "execution_count": 8,
      "outputs": [
        {
          "output_type": "execute_result",
          "data": {
            "text/plain": [
              "13.216875"
            ]
          },
          "metadata": {},
          "execution_count": 8
        }
      ]
    },
    {
      "cell_type": "code",
      "source": [
        "# Visualization of the sentiment distribution\n",
        "plt.figure(figsize=(12, 6))\n",
        "sns.barplot(x=sentiment_distribution.index, y=sentiment_distribution.values)\n",
        "plt.title('Distribution of Sentiments')\n",
        "plt.ylabel('Number of Occurrences', fontsize=12)\n",
        "plt.xlabel('Sentiment', fontsize=12)\n",
        "plt.xticks(rotation=45)\n",
        "plt.show()\n"
      ],
      "metadata": {
        "colab": {
          "base_uri": "https://localhost:8080/",
          "height": 621
        },
        "id": "HQ5vY4xfuCAA",
        "outputId": "aaf4bc18-1481-442e-8c64-4cf1fef74f68"
      },
      "execution_count": 9,
      "outputs": [
        {
          "output_type": "display_data",
          "data": {
            "text/plain": [
              "<Figure size 1200x600 with 1 Axes>"
            ],
            "image/png": "[encoded data removed]"
          },
          "metadata": {}
        }
      ]
    },
    {
      "cell_type": "markdown",
      "source": [
        "**Modify**"
      ],
      "metadata": {
        "id": "1Bc8Fiugw7RU"
      }
    },
    {
      "cell_type": "code",
      "source": [
        "from sklearn.model_selection import train_test_split\n",
        "from sklearn.preprocessing import LabelEncoder\n",
        "import nltk\n",
        "from nltk.corpus import stopwords\n",
        "from nltk.stem import WordNetLemmatizer\n",
        "import re\n",
        "\n",
        "# Download stopwords and wordnet from nltk\n",
        "nltk.download('stopwords')\n",
        "nltk.download('wordnet')\n",
        "\n",
        "# Text preprocessing\n",
        "stop_words = set(stopwords.words('english'))\n",
        "lemmatizer = WordNetLemmatizer()\n",
        "\n",
        "def preprocess_text(text):\n",
        "    text = re.sub(r'[^a-zA-Z\\\\s]', '', text, re.I|re.A)\n",
        "    text = text.lower()\n",
        "    tokens = text.split()\n",
        "    filtered_tokens = [lemmatizer.lemmatize(token) for token in tokens if token not in stop_words]\n",
        "    return ' '.join(filtered_tokens)\n",
        "\n",
        "data['content_processed'] = data['content'].apply(preprocess_text)\n"
      ],
      "metadata": {
        "id": "LHqSc9TPuHA3",
        "colab": {
          "base_uri": "https://localhost:8080/"
        },
        "outputId": "df23dff4-bd98-4dc7-bb63-63a694807157"
      },
      "execution_count": 19,
      "outputs": [
        {
          "output_type": "stream",
          "name": "stderr",
          "text": [
            "[nltk_data] Downloading package stopwords to /root/nltk_data...\n",
            "[nltk_data]   Package stopwords is already up-to-date!\n",
            "[nltk_data] Downloading package wordnet to /root/nltk_data...\n",
            "[nltk_data]   Package wordnet is already up-to-date!\n"
          ]
        }
      ]
    },
    {
      "cell_type": "code",
      "source": [
        "# Convert text data to TF-IDF vectors\n",
        "vectorizer = TfidfVectorizer(max_features=500)\n",
        "tfidf_features = vectorizer.fit_transform(data['content_processed']).toarray()\n",
        "feature_names = vectorizer.get_feature_names_out()\n",
        "tfidf_df = pd.DataFrame(tfidf_features, columns=feature_names)\n",
        "\n",
        "# Merge the TF-IDF features with the original data\n",
        "data = pd.concat([data, tfidf_df], axis=1)"
      ],
      "metadata": {
        "id": "0ePq1iJJvw-h"
      },
      "execution_count": 20,
      "outputs": []
    },
    {
      "cell_type": "code",
      "source": [],
      "metadata": {
        "colab": {
          "base_uri": "https://localhost:8080/"
        },
        "id": "ZZm7n8r1wAnu",
        "outputId": "bc72fbb0-90a9-43a2-f679-d5c3653955fa"
      },
      "execution_count": 18,
      "outputs": [
        {
          "output_type": "execute_result",
          "data": {
            "text/plain": [
              "Index(['tweet_id', 'sentiment', 'content', 'word_count', 'sentiment_encoded'], dtype='object')"
            ]
          },
          "metadata": {},
          "execution_count": 18
        }
      ]
    },
    {
      "cell_type": "code",
      "source": [
        "# Encoding the sentiment labels\n",
        "label_encoder = LabelEncoder()\n",
        "data['sentiment_encoded'] = label_encoder.fit_transform(data['sentiment'])\n",
        "\n",
        "# Splitting the dataset into training and testing sets\n",
        "#X_train, X_test, y_train, y_test = train_test_split(data['content'], data['sentiment_encoded'], test_size=0.2, random_state=42)"
      ],
      "metadata": {
        "id": "5vs5V8Whw-94"
      },
      "execution_count": 21,
      "outputs": []
    },
    {
      "cell_type": "code",
      "source": [
        "# Initialize H2O\n",
        "h2o.init(max_mem_size=\"2G\", nthreads=-1)\n",
        "\n",
        "# Convert pandas DataFrame to H2O Frame\n",
        "h2o_data = h2o.H2OFrame(data)\n",
        "\n",
        "# Split the dataset\n",
        "train, test = h2o_data.split_frame(ratios=[0.8], seed=42)\n"
      ],
      "metadata": {
        "colab": {
          "base_uri": "https://localhost:8080/",
          "height": 397
        },
        "id": "kmp-Xk4kwcJh",
        "outputId": "ce6a0904-5da8-41f5-d607-0bdcba0085b3"
      },
      "execution_count": 22,
      "outputs": [
        {
          "output_type": "stream",
          "name": "stdout",
          "text": [
            "Checking whether there is an H2O instance running at http://localhost:54321. connected.\n"
          ]
        },
        {
          "output_type": "display_data",
          "data": {
            "text/plain": [
              "--------------------------  -----------------------------------------------------------------------------------------\n",
              "H2O_cluster_uptime:         7 mins 04 secs\n",
              "H2O_cluster_timezone:       Etc/UTC\n",
              "H2O_data_parsing_timezone:  UTC\n",
              "H2O_cluster_version:        3.42.0.3\n",
              "H2O_cluster_version_age:    30 days\n",
              "H2O_cluster_name:           H2O_from_python_unknownUser_7lv0dy\n",
              "H2O_cluster_total_nodes:    1\n",
              "H2O_cluster_free_memory:    1.995 Gb\n",
              "H2O_cluster_total_cores:    2\n",
              "H2O_cluster_allowed_cores:  2\n",
              "H2O_cluster_status:         locked, healthy\n",
              "H2O_connection_url:         http://localhost:54321\n",
              "H2O_connection_proxy:       {\"http\": null, \"https\": null, \"colab_language_server\": \"/usr/colab/bin/language_service\"}\n",
              "H2O_internal_security:      False\n",
              "Python_version:             3.10.12 final\n",
              "--------------------------  -----------------------------------------------------------------------------------------"
            ],
            "text/html": [
              "\n",
              "<style>\n",
              "\n",
              "#h2o-table-3.h2o-container {\n",
              "  overflow-x: auto;\n",
              "}\n",
              "#h2o-table-3 .h2o-table {\n",
              "  /* width: 100%; */\n",
              "  margin-top: 1em;\n",
              "  margin-bottom: 1em;\n",
              "}\n",
              "#h2o-table-3 .h2o-table caption {\n",
              "  white-space: nowrap;\n",
              "  caption-side: top;\n",
              "  text-align: left;\n",
              "  /* margin-left: 1em; */\n",
              "  margin: 0;\n",
              "  font-size: larger;\n",
              "}\n",
              "#h2o-table-3 .h2o-table thead {\n",
              "  white-space: nowrap; \n",
              "  position: sticky;\n",
              "  top: 0;\n",
              "  box-shadow: 0 -1px inset;\n",
              "}\n",
              "#h2o-table-3 .h2o-table tbody {\n",
              "  overflow: auto;\n",
              "}\n",
              "#h2o-table-3 .h2o-table th,\n",
              "#h2o-table-3 .h2o-table td {\n",
              "  text-align: right;\n",
              "  /* border: 1px solid; */\n",
              "}\n",
              "#h2o-table-3 .h2o-table tr:nth-child(even) {\n",
              "  /* background: #F5F5F5 */\n",
              "}\n",
              "\n",
              "</style>      \n",
              "<div id=\"h2o-table-3\" class=\"h2o-container\">\n",
              "  <table class=\"h2o-table\">\n",
              "    <caption></caption>\n",
              "    <thead></thead>\n",
              "    <tbody><tr><td>H2O_cluster_uptime:</td>\n",
              "<td>7 mins 04 secs</td></tr>\n",
              "<tr><td>H2O_cluster_timezone:</td>\n",
              "<td>Etc/UTC</td></tr>\n",
              "<tr><td>H2O_data_parsing_timezone:</td>\n",
              "<td>UTC</td></tr>\n",
              "<tr><td>H2O_cluster_version:</td>\n",
              "<td>3.42.0.3</td></tr>\n",
              "<tr><td>H2O_cluster_version_age:</td>\n",
              "<td>30 days</td></tr>\n",
              "<tr><td>H2O_cluster_name:</td>\n",
              "<td>H2O_from_python_unknownUser_7lv0dy</td></tr>\n",
              "<tr><td>H2O_cluster_total_nodes:</td>\n",
              "<td>1</td></tr>\n",
              "<tr><td>H2O_cluster_free_memory:</td>\n",
              "<td>1.995 Gb</td></tr>\n",
              "<tr><td>H2O_cluster_total_cores:</td>\n",
              "<td>2</td></tr>\n",
              "<tr><td>H2O_cluster_allowed_cores:</td>\n",
              "<td>2</td></tr>\n",
              "<tr><td>H2O_cluster_status:</td>\n",
              "<td>locked, healthy</td></tr>\n",
              "<tr><td>H2O_connection_url:</td>\n",
              "<td>http://localhost:54321</td></tr>\n",
              "<tr><td>H2O_connection_proxy:</td>\n",
              "<td>{\"http\": null, \"https\": null, \"colab_language_server\": \"/usr/colab/bin/language_service\"}</td></tr>\n",
              "<tr><td>H2O_internal_security:</td>\n",
              "<td>False</td></tr>\n",
              "<tr><td>Python_version:</td>\n",
              "<td>3.10.12 final</td></tr></tbody>\n",
              "  </table>\n",
              "</div>\n"
            ]
          },
          "metadata": {}
        },
        {
          "output_type": "stream",
          "name": "stdout",
          "text": [
            "Parse progress: |████████████████████████████████████████████████████████████████| (done) 100%\n"
          ]
        }
      ]
    },
    {
      "cell_type": "code",
      "source": [
        "# Specify the target and input features\n",
        "target = \"sentiment_encoded\"\n",
        "features = list(feature_names)# Using the TF-IDF feature names\n",
        "\n",
        "# Run H2O AutoML\n",
        "aml = H2OAutoML(max_models=20, seed=42, max_runtime_secs=1200)\n",
        "aml.train(x=features, y=target, training_frame=train)\n",
        "\n",
        "# View the AutoML Leaderboard\n",
        "lb = aml.leaderboard\n",
        "lb.head()"
      ],
      "metadata": {
        "colab": {
          "base_uri": "https://localhost:8080/",
          "height": 1000
        },
        "id": "oB2kMlz0wrxh",
        "outputId": "38099989-1281-4c74-d5bc-3dc7a7d120df"
      },
      "execution_count": 24,
      "outputs": [
        {
          "output_type": "stream",
          "name": "stdout",
          "text": [
            "AutoML progress: |\n",
            "02:42:04.144: _train param, Dropping bad and constant columns: [oneexperiencingproblemloggingdigitalpointforum, oneelsemuhahahaaaawellmaybejesse, oneinterlockonego, persononlinemsnfeellonely, feellikecrap, omgluvuguythankskeepinentertainedawakemissinmydgbigtyme, omgknowmanywordtimegoherewordmoneyballkey, omgneverknewwikipediaalsolistshadecolourcool, omgnicolekennedyfoundthnx, onlymegirlyescantseewontgrossenough, onlyhiscantwaitsee, omgimsadjustookgossipgirldone, happymotherdaylt, omgsistergotbrotherquotjonasbrotherquotlookaliketrenchcoatimlikejonasstyletoldshutuplike, omgimgoingrobinsontylerwfmfreakinmissanthonyughtodaykindasucklexlt, onetimeimgoingselfawarenessaskoneprinciplemournerwaketheyre, peternomadthanksknow, onewantvirtualkiss, onegoseetiesto, perttorrentdewclawthumbnub, onetalkanymore, onetesladealership, omgseensunmoonplacedisprovestheoryperson, realhughjackmanwolverineawesomelovegreatactor, omgitsafoxcouldwontgettimevegatripillstilllooklikenoob, omgmampmspantrycallingnameiveignoringdaydrivingcompletelyinsanemanycalorie, onecoming, omgpleasejonasbrotheraddextradatedublinnovembertriedgetticketdeysold, omgperiodcrampftlmuchpain, omgreallyranwall, onemillionpeopledmvtoday, onelookingpembrokedavepembsdavedontknowyetfollowanywaysgoodguy, onehourtillgohomecommencepoutingbahamatrip, tonightfun, perivisionbtwdownloadediphonesdk, omgoodnessfinallybackdinnerfambam, omgrightearblockedannoyingwakedeafgonnalieimscared, omgmomcalledimlatehegone, oohexcitingnewmacday, perfectnightnj, feelinggreattoday, omgheadstillhurtneedgetcomictodaygothurrylol, newtwitter, perfectshowenjoy, omghimymonebestshowearth, stillwaiting, misspuppy, perezhiltonwellevenbreakdownbetteractunfortunatelybritaingotlittletalent, oneweektillexamblock, comefunpartfindofferpercountryliveoutsideuchangequitetiny, peterampgordonmorninggtgopiecewannahidegopiecealmostdieeverhttpblipfmyk, omgthunderrrrwishhomelovecuddlingblankystorm, omnomnomricepudding, onelinermoviereviewhttpbitlyzdkadd, omgsomeoneleftvoicemailworkffsletday, omgguyinternetwholedaystillworkingilltryfix, perfectwayendtotallyboringdaysleepgoodnight, omgoshsawhattiewakemustsummergardenhedgehogcomehibernation, omgwanttfeverybodysteamfriendlistplaying, onlyvickywouldbelieveimdonehomeworkrestlife, onlyjesushospitalweekhalfprettymuchvirgedying, perfectgrrlloldontknowdontneedplantillgivehuginsteadhug, onethaliafatjoewtfterriimgetnnefunnytoday, happystarwardayeveryone, onefinal, onegearbaby, onerandomphonecallevergodkill, onechildrenthechildworldagainsayhappymommyday, omgsupernaturalgoodnewsweek, perfectdaythrowbackheadkissgoodbyelovecheerfulhttpblipfmjckp, omgprisonbreakfinalbreaktwoepisodeairedukwowwatchhaventsoosadtear, omglearnedlittlegirlplayedduckyfirstlandtimemoviemurderedagewtf, omgrighthearblockedannoyingwakedeafgonnalieimscared, omgoodnessneedsleep, foundrollogothappyhmmmguessreallyneedinsertedbackmatrix, onesweeterlifegreathopingrunminendedwoohoogottaloveck, suck, omgsomethingsspookytwitter, onecallanymore, omgstephwtfknightyknightsweetnkotbfreamsloveya, oneworstdaylife, petaahhahahawonttell, onemotimebecuzamazingshahasntseenyetshessoodamncoolillposthttpbbltwtcommqko, happybirthday, onchmovementohsickimfeelingkindasickimhatingovercastweather, onedaypraygetbetter, iamkiaraimsickfelllastnightoutsidecozputtingsomethingbin, onebestiesmovingaway, onscrnahhwellhopingcouldlearnstuffwayworkseparatethingalso, omgodimsooootireddontthinkenergyfilmtodaylol, oneyearemilywowl, oneestateagentnextdoorcaughtsingingalongwham, onlyleahcanthelptalklosingfathermakesad, peterdowleyiveseeninkheartliked, omgstarwardaymayfourtheveryonecallwatchleastfilmtonight, omglittlegirlbgt, perkinzidkwatdatthomaybesumsexlol, omgmissedbuswalkingmilecoffeewentseeexclassmates, omigoodnessfeellikepopsicle, perfectoutsidework, onetakenearlierweekhttptwitpiccomwb, onebaddaysmigrainetodaystsincenecksurgerymonth, somebodypleasesavepolarbear, wantgoswimming, feeldeflateddoggy, omgthatssay, causemissedlotclass, omgwatchingholliesteelcrypainfulbgt, onebringsbackmanymemorymichaelpennquotthisthatquothttptwtfmmusicmonday, onewantsitlunchguessillburyheadlaptopcontinueantisocial, onedayhairweathersucksun, onemumhappymotherdayampspecialmentiononenewestmemberhollyjanehopedhughesygooduampu, onecustomertoldgfrandogtodaysad, readygohome, onealltimefavoriteepisodesquotesofficeushttpbitlyarmj, onefavoriterelaxingsongwakehttptinyurlcomcfregoodmorning, omgrealisedlisteningquotperfectstoryquotpennylikeddrhorribledamncaptainhammeromgimsad, onebartwopubcrawlgonnlongnight, omglittlekidcancersaddestthingever, uselinkstartearningfreecashhttptinyurlcomcoboyfsigngetpaypalcashoutsminimum, omgjulylastdaymuchachomalo, omgoneyeslovedannysong, oneofthosefacestubeclosedththjuneideagetvenue, wishingmotherhappymotherday, perfectnightbestmonthlifefarbooryanfeero, omgrealycantsleepughh, onecatsick, oneonline, omgkeeplosingfollowersadwantonedaythatsgoal, onegooddeeddeservesanotherhopehelpsomeoneelseday, thinkreferralsohmanimjealousgot, onelikemonday, summerglauappeardollhousenextyearhttptinyurlcommnrezcstillcantbelievewontrenewtscc, orbitaldiamondswantsoldiercomehomedonthearanymorekilled, onedayjaylenoquesad, perrymarshallseeingonesidelookedinterestingdeep, greatday, kbalsorryfeelingway, happymotherdayeverybody, onelanestopgotraffffffficsuckalmostwworkthanksgaymiinnnesotaroad, omgsootiredwayhomelongbusydayfunmeetingnewpeoplecatchingpeople, onebloodypoetbadfriendsorryhear, peterbarownerworkingwaybeersallbelgiancoffindrinkermortsubite, twittering, worrynoonegotonenextquestionstartminutegetthinkingcap, omgimfinallybackcompbrokenguymissedyall, onewishwouldfriendjwork, onefrienddeservefreehug, onepaperleft, online, personaltrainrthankslinkmadesmile, oneinmillionhiuploadedcompletelynewchineselessonwwwyoutubecomchineselearnpleasefeelfreewatchenjoy]\n",
            "\n",
            "█\n",
            "02:42:09.41: _train param, Dropping bad and constant columns: [oneexperiencingproblemloggingdigitalpointforum, oneelsemuhahahaaaawellmaybejesse, oneinterlockonego, persononlinemsnfeellonely, feellikecrap, omgluvuguythankskeepinentertainedawakemissinmydgbigtyme, omgknowmanywordtimegoherewordmoneyballkey, omgneverknewwikipediaalsolistshadecolourcool, omgnicolekennedyfoundthnx, onlymegirlyescantseewontgrossenough, onlyhiscantwaitsee, omgimsadjustookgossipgirldone, happymotherdaylt, omgsistergotbrotherquotjonasbrotherquotlookaliketrenchcoatimlikejonasstyletoldshutuplike, omgimgoingrobinsontylerwfmfreakinmissanthonyughtodaykindasucklexlt, onetimeimgoingselfawarenessaskoneprinciplemournerwaketheyre, peternomadthanksknow, onewantvirtualkiss, onegoseetiesto, perttorrentdewclawthumbnub, onetalkanymore, onetesladealership, omgseensunmoonplacedisprovestheoryperson, realhughjackmanwolverineawesomelovegreatactor, omgitsafoxcouldwontgettimevegatripillstilllooklikenoob, omgmampmspantrycallingnameiveignoringdaydrivingcompletelyinsanemanycalorie, onecoming, omgpleasejonasbrotheraddextradatedublinnovembertriedgetticketdeysold, omgperiodcrampftlmuchpain, omgreallyranwall, onemillionpeopledmvtoday, onelookingpembrokedavepembsdavedontknowyetfollowanywaysgoodguy, onehourtillgohomecommencepoutingbahamatrip, tonightfun, perivisionbtwdownloadediphonesdk, omgoodnessfinallybackdinnerfambam, omgrightearblockedannoyingwakedeafgonnalieimscared, omgmomcalledimlatehegone, oohexcitingnewmacday, perfectnightnj, feelinggreattoday, omgheadstillhurtneedgetcomictodaygothurrylol, newtwitter, perfectshowenjoy, omghimymonebestshowearth, stillwaiting, misspuppy, perezhiltonwellevenbreakdownbetteractunfortunatelybritaingotlittletalent, oneweektillexamblock, comefunpartfindofferpercountryliveoutsideuchangequitetiny, peterampgordonmorninggtgopiecewannahidegopiecealmostdieeverhttpblipfmyk, omgthunderrrrwishhomelovecuddlingblankystorm, omnomnomricepudding, onelinermoviereviewhttpbitlyzdkadd, omgsomeoneleftvoicemailworkffsletday, omgguyinternetwholedaystillworkingilltryfix, perfectwayendtotallyboringdaysleepgoodnight, omgoshsawhattiewakemustsummergardenhedgehogcomehibernation, omgwanttfeverybodysteamfriendlistplaying, onlyvickywouldbelieveimdonehomeworkrestlife, onlyjesushospitalweekhalfprettymuchvirgedying, perfectgrrlloldontknowdontneedplantillgivehuginsteadhug, onethaliafatjoewtfterriimgetnnefunnytoday, happystarwardayeveryone, onefinal, onegearbaby, onerandomphonecallevergodkill, onechildrenthechildworldagainsayhappymommyday, omgsupernaturalgoodnewsweek, perfectdaythrowbackheadkissgoodbyelovecheerfulhttpblipfmjckp, omgprisonbreakfinalbreaktwoepisodeairedukwowwatchhaventsoosadtear, omglearnedlittlegirlplayedduckyfirstlandtimemoviemurderedagewtf, omgrighthearblockedannoyingwakedeafgonnalieimscared, omgoodnessneedsleep, foundrollogothappyhmmmguessreallyneedinsertedbackmatrix, onesweeterlifegreathopingrunminendedwoohoogottaloveck, suck, omgsomethingsspookytwitter, onecallanymore, omgstephwtfknightyknightsweetnkotbfreamsloveya, oneworstdaylife, petaahhahahawonttell, onemotimebecuzamazingshahasntseenyetshessoodamncoolillposthttpbbltwtcommqko, happybirthday, onchmovementohsickimfeelingkindasickimhatingovercastweather, onedaypraygetbetter, iamkiaraimsickfelllastnightoutsidecozputtingsomethingbin, onebestiesmovingaway, onscrnahhwellhopingcouldlearnstuffwayworkseparatethingalso, omgodimsooootireddontthinkenergyfilmtodaylol, oneyearemilywowl, oneestateagentnextdoorcaughtsingingalongwham, onlyleahcanthelptalklosingfathermakesad, peterdowleyiveseeninkheartliked, omgstarwardaymayfourtheveryonecallwatchleastfilmtonight, omglittlegirlbgt, perkinzidkwatdatthomaybesumsexlol, omgmissedbuswalkingmilecoffeewentseeexclassmates, omigoodnessfeellikepopsicle, perfectoutsidework, onetakenearlierweekhttptwitpiccomwb, onebaddaysmigrainetodaystsincenecksurgerymonth, somebodypleasesavepolarbear, wantgoswimming, feeldeflateddoggy, omgthatssay, causemissedlotclass, omgwatchingholliesteelcrypainfulbgt, onebringsbackmanymemorymichaelpennquotthisthatquothttptwtfmmusicmonday, onewantsitlunchguessillburyheadlaptopcontinueantisocial, onedayhairweathersucksun, onemumhappymotherdayampspecialmentiononenewestmemberhollyjanehopedhughesygooduampu, onecustomertoldgfrandogtodaysad, readygohome, onealltimefavoriteepisodesquotesofficeushttpbitlyarmj, onefavoriterelaxingsongwakehttptinyurlcomcfregoodmorning, omgrealisedlisteningquotperfectstoryquotpennylikeddrhorribledamncaptainhammeromgimsad, onebartwopubcrawlgonnlongnight, omglittlekidcancersaddestthingever, uselinkstartearningfreecashhttptinyurlcomcoboyfsigngetpaypalcashoutsminimum, omgjulylastdaymuchachomalo, omgoneyeslovedannysong, oneofthosefacestubeclosedththjuneideagetvenue, wishingmotherhappymotherday, perfectnightbestmonthlifefarbooryanfeero, omgrealycantsleepughh, onecatsick, oneonline, omgkeeplosingfollowersadwantonedaythatsgoal, onegooddeeddeservesanotherhopehelpsomeoneelseday, thinkreferralsohmanimjealousgot, onelikemonday, summerglauappeardollhousenextyearhttptinyurlcommnrezcstillcantbelievewontrenewtscc, orbitaldiamondswantsoldiercomehomedonthearanymorekilled, onedayjaylenoquesad, perrymarshallseeingonesidelookedinterestingdeep, greatday, kbalsorryfeelingway, happymotherdayeverybody, onelanestopgotraffffffficsuckalmostwworkthanksgaymiinnnesotaroad, omgsootiredwayhomelongbusydayfunmeetingnewpeoplecatchingpeople, onebloodypoetbadfriendsorryhear, peterbarownerworkingwaybeersallbelgiancoffindrinkermortsubite, twittering, worrynoonegotonenextquestionstartminutegetthinkingcap, omgimfinallybackcompbrokenguymissedyall, onewishwouldfriendjwork, onefrienddeservefreehug, onepaperleft, online, personaltrainrthankslinkmadesmile, oneinmillionhiuploadedcompletelynewchineselessonwwwyoutubecomchineselearnpleasefeelfreewatchenjoy]\n",
            "\n",
            "██\n",
            "02:42:12.201: _train param, Dropping bad and constant columns: [oneexperiencingproblemloggingdigitalpointforum, oneelsemuhahahaaaawellmaybejesse, oneinterlockonego, persononlinemsnfeellonely, feellikecrap, omgluvuguythankskeepinentertainedawakemissinmydgbigtyme, omgknowmanywordtimegoherewordmoneyballkey, omgneverknewwikipediaalsolistshadecolourcool, omgnicolekennedyfoundthnx, onlymegirlyescantseewontgrossenough, onlyhiscantwaitsee, omgimsadjustookgossipgirldone, happymotherdaylt, omgsistergotbrotherquotjonasbrotherquotlookaliketrenchcoatimlikejonasstyletoldshutuplike, omgimgoingrobinsontylerwfmfreakinmissanthonyughtodaykindasucklexlt, onetimeimgoingselfawarenessaskoneprinciplemournerwaketheyre, peternomadthanksknow, onewantvirtualkiss, onegoseetiesto, perttorrentdewclawthumbnub, onetalkanymore, onetesladealership, omgseensunmoonplacedisprovestheoryperson, realhughjackmanwolverineawesomelovegreatactor, omgitsafoxcouldwontgettimevegatripillstilllooklikenoob, omgmampmspantrycallingnameiveignoringdaydrivingcompletelyinsanemanycalorie, onecoming, omgpleasejonasbrotheraddextradatedublinnovembertriedgetticketdeysold, omgperiodcrampftlmuchpain, omgreallyranwall, onemillionpeopledmvtoday, onelookingpembrokedavepembsdavedontknowyetfollowanywaysgoodguy, onehourtillgohomecommencepoutingbahamatrip, tonightfun, perivisionbtwdownloadediphonesdk, omgoodnessfinallybackdinnerfambam, omgrightearblockedannoyingwakedeafgonnalieimscared, omgmomcalledimlatehegone, oohexcitingnewmacday, perfectnightnj, feelinggreattoday, omgheadstillhurtneedgetcomictodaygothurrylol, newtwitter, perfectshowenjoy, omghimymonebestshowearth, stillwaiting, misspuppy, perezhiltonwellevenbreakdownbetteractunfortunatelybritaingotlittletalent, oneweektillexamblock, comefunpartfindofferpercountryliveoutsideuchangequitetiny, peterampgordonmorninggtgopiecewannahidegopiecealmostdieeverhttpblipfmyk, omgthunderrrrwishhomelovecuddlingblankystorm, omnomnomricepudding, onelinermoviereviewhttpbitlyzdkadd, omgsomeoneleftvoicemailworkffsletday, omgguyinternetwholedaystillworkingilltryfix, perfectwayendtotallyboringdaysleepgoodnight, omgoshsawhattiewakemustsummergardenhedgehogcomehibernation, omgwanttfeverybodysteamfriendlistplaying, onlyvickywouldbelieveimdonehomeworkrestlife, onlyjesushospitalweekhalfprettymuchvirgedying, perfectgrrlloldontknowdontneedplantillgivehuginsteadhug, onethaliafatjoewtfterriimgetnnefunnytoday, happystarwardayeveryone, onefinal, onegearbaby, onerandomphonecallevergodkill, onechildrenthechildworldagainsayhappymommyday, omgsupernaturalgoodnewsweek, perfectdaythrowbackheadkissgoodbyelovecheerfulhttpblipfmjckp, omgprisonbreakfinalbreaktwoepisodeairedukwowwatchhaventsoosadtear, omglearnedlittlegirlplayedduckyfirstlandtimemoviemurderedagewtf, omgrighthearblockedannoyingwakedeafgonnalieimscared, omgoodnessneedsleep, foundrollogothappyhmmmguessreallyneedinsertedbackmatrix, onesweeterlifegreathopingrunminendedwoohoogottaloveck, suck, omgsomethingsspookytwitter, onecallanymore, omgstephwtfknightyknightsweetnkotbfreamsloveya, oneworstdaylife, petaahhahahawonttell, onemotimebecuzamazingshahasntseenyetshessoodamncoolillposthttpbbltwtcommqko, happybirthday, onchmovementohsickimfeelingkindasickimhatingovercastweather, onedaypraygetbetter, iamkiaraimsickfelllastnightoutsidecozputtingsomethingbin, onebestiesmovingaway, onscrnahhwellhopingcouldlearnstuffwayworkseparatethingalso, omgodimsooootireddontthinkenergyfilmtodaylol, oneyearemilywowl, oneestateagentnextdoorcaughtsingingalongwham, onlyleahcanthelptalklosingfathermakesad, peterdowleyiveseeninkheartliked, omgstarwardaymayfourtheveryonecallwatchleastfilmtonight, omglittlegirlbgt, perkinzidkwatdatthomaybesumsexlol, omgmissedbuswalkingmilecoffeewentseeexclassmates, omigoodnessfeellikepopsicle, perfectoutsidework, onetakenearlierweekhttptwitpiccomwb, onebaddaysmigrainetodaystsincenecksurgerymonth, somebodypleasesavepolarbear, wantgoswimming, feeldeflateddoggy, omgthatssay, causemissedlotclass, omgwatchingholliesteelcrypainfulbgt, onebringsbackmanymemorymichaelpennquotthisthatquothttptwtfmmusicmonday, onewantsitlunchguessillburyheadlaptopcontinueantisocial, onedayhairweathersucksun, onemumhappymotherdayampspecialmentiononenewestmemberhollyjanehopedhughesygooduampu, onecustomertoldgfrandogtodaysad, readygohome, onealltimefavoriteepisodesquotesofficeushttpbitlyarmj, onefavoriterelaxingsongwakehttptinyurlcomcfregoodmorning, omgrealisedlisteningquotperfectstoryquotpennylikeddrhorribledamncaptainhammeromgimsad, onebartwopubcrawlgonnlongnight, omglittlekidcancersaddestthingever, uselinkstartearningfreecashhttptinyurlcomcoboyfsigngetpaypalcashoutsminimum, omgjulylastdaymuchachomalo, omgoneyeslovedannysong, oneofthosefacestubeclosedththjuneideagetvenue, wishingmotherhappymotherday, perfectnightbestmonthlifefarbooryanfeero, omgrealycantsleepughh, onecatsick, oneonline, omgkeeplosingfollowersadwantonedaythatsgoal, onegooddeeddeservesanotherhopehelpsomeoneelseday, thinkreferralsohmanimjealousgot, onelikemonday, summerglauappeardollhousenextyearhttptinyurlcommnrezcstillcantbelievewontrenewtscc, orbitaldiamondswantsoldiercomehomedonthearanymorekilled, onedayjaylenoquesad, perrymarshallseeingonesidelookedinterestingdeep, greatday, kbalsorryfeelingway, happymotherdayeverybody, onelanestopgotraffffffficsuckalmostwworkthanksgaymiinnnesotaroad, omgsootiredwayhomelongbusydayfunmeetingnewpeoplecatchingpeople, onebloodypoetbadfriendsorryhear, peterbarownerworkingwaybeersallbelgiancoffindrinkermortsubite, twittering, worrynoonegotonenextquestionstartminutegetthinkingcap, omgimfinallybackcompbrokenguymissedyall, onewishwouldfriendjwork, onefrienddeservefreehug, onepaperleft, online, personaltrainrthankslinkmadesmile, oneinmillionhiuploadedcompletelynewchineselessonwwwyoutubecomchineselearnpleasefeelfreewatchenjoy]\n",
            "\n",
            "█\n",
            "02:42:14.731: _train param, Dropping bad and constant columns: [oneexperiencingproblemloggingdigitalpointforum, oneelsemuhahahaaaawellmaybejesse, oneinterlockonego, persononlinemsnfeellonely, feellikecrap, omgluvuguythankskeepinentertainedawakemissinmydgbigtyme, omgknowmanywordtimegoherewordmoneyballkey, omgneverknewwikipediaalsolistshadecolourcool, omgnicolekennedyfoundthnx, onlymegirlyescantseewontgrossenough, onlyhiscantwaitsee, omgimsadjustookgossipgirldone, happymotherdaylt, omgsistergotbrotherquotjonasbrotherquotlookaliketrenchcoatimlikejonasstyletoldshutuplike, omgimgoingrobinsontylerwfmfreakinmissanthonyughtodaykindasucklexlt, onetimeimgoingselfawarenessaskoneprinciplemournerwaketheyre, peternomadthanksknow, onewantvirtualkiss, onegoseetiesto, perttorrentdewclawthumbnub, onetalkanymore, onetesladealership, omgseensunmoonplacedisprovestheoryperson, realhughjackmanwolverineawesomelovegreatactor, omgitsafoxcouldwontgettimevegatripillstilllooklikenoob, omgmampmspantrycallingnameiveignoringdaydrivingcompletelyinsanemanycalorie, onecoming, omgpleasejonasbrotheraddextradatedublinnovembertriedgetticketdeysold, omgperiodcrampftlmuchpain, omgreallyranwall, onemillionpeopledmvtoday, onelookingpembrokedavepembsdavedontknowyetfollowanywaysgoodguy, onehourtillgohomecommencepoutingbahamatrip, tonightfun, perivisionbtwdownloadediphonesdk, omgoodnessfinallybackdinnerfambam, omgrightearblockedannoyingwakedeafgonnalieimscared, omgmomcalledimlatehegone, oohexcitingnewmacday, perfectnightnj, feelinggreattoday, omgheadstillhurtneedgetcomictodaygothurrylol, newtwitter, perfectshowenjoy, omghimymonebestshowearth, stillwaiting, misspuppy, perezhiltonwellevenbreakdownbetteractunfortunatelybritaingotlittletalent, oneweektillexamblock, comefunpartfindofferpercountryliveoutsideuchangequitetiny, peterampgordonmorninggtgopiecewannahidegopiecealmostdieeverhttpblipfmyk, omgthunderrrrwishhomelovecuddlingblankystorm, omnomnomricepudding, onelinermoviereviewhttpbitlyzdkadd, omgsomeoneleftvoicemailworkffsletday, omgguyinternetwholedaystillworkingilltryfix, perfectwayendtotallyboringdaysleepgoodnight, omgoshsawhattiewakemustsummergardenhedgehogcomehibernation, omgwanttfeverybodysteamfriendlistplaying, onlyvickywouldbelieveimdonehomeworkrestlife, onlyjesushospitalweekhalfprettymuchvirgedying, perfectgrrlloldontknowdontneedplantillgivehuginsteadhug, onethaliafatjoewtfterriimgetnnefunnytoday, happystarwardayeveryone, onefinal, onegearbaby, onerandomphonecallevergodkill, onechildrenthechildworldagainsayhappymommyday, omgsupernaturalgoodnewsweek, perfectdaythrowbackheadkissgoodbyelovecheerfulhttpblipfmjckp, omgprisonbreakfinalbreaktwoepisodeairedukwowwatchhaventsoosadtear, omglearnedlittlegirlplayedduckyfirstlandtimemoviemurderedagewtf, omgrighthearblockedannoyingwakedeafgonnalieimscared, omgoodnessneedsleep, foundrollogothappyhmmmguessreallyneedinsertedbackmatrix, onesweeterlifegreathopingrunminendedwoohoogottaloveck, suck, omgsomethingsspookytwitter, onecallanymore, omgstephwtfknightyknightsweetnkotbfreamsloveya, oneworstdaylife, petaahhahahawonttell, onemotimebecuzamazingshahasntseenyetshessoodamncoolillposthttpbbltwtcommqko, happybirthday, onchmovementohsickimfeelingkindasickimhatingovercastweather, onedaypraygetbetter, iamkiaraimsickfelllastnightoutsidecozputtingsomethingbin, onebestiesmovingaway, onscrnahhwellhopingcouldlearnstuffwayworkseparatethingalso, omgodimsooootireddontthinkenergyfilmtodaylol, oneyearemilywowl, oneestateagentnextdoorcaughtsingingalongwham, onlyleahcanthelptalklosingfathermakesad, peterdowleyiveseeninkheartliked, omgstarwardaymayfourtheveryonecallwatchleastfilmtonight, omglittlegirlbgt, perkinzidkwatdatthomaybesumsexlol, omgmissedbuswalkingmilecoffeewentseeexclassmates, omigoodnessfeellikepopsicle, perfectoutsidework, onetakenearlierweekhttptwitpiccomwb, onebaddaysmigrainetodaystsincenecksurgerymonth, somebodypleasesavepolarbear, wantgoswimming, feeldeflateddoggy, omgthatssay, causemissedlotclass, omgwatchingholliesteelcrypainfulbgt, onebringsbackmanymemorymichaelpennquotthisthatquothttptwtfmmusicmonday, onewantsitlunchguessillburyheadlaptopcontinueantisocial, onedayhairweathersucksun, onemumhappymotherdayampspecialmentiononenewestmemberhollyjanehopedhughesygooduampu, onecustomertoldgfrandogtodaysad, readygohome, onealltimefavoriteepisodesquotesofficeushttpbitlyarmj, onefavoriterelaxingsongwakehttptinyurlcomcfregoodmorning, omgrealisedlisteningquotperfectstoryquotpennylikeddrhorribledamncaptainhammeromgimsad, onebartwopubcrawlgonnlongnight, omglittlekidcancersaddestthingever, uselinkstartearningfreecashhttptinyurlcomcoboyfsigngetpaypalcashoutsminimum, omgjulylastdaymuchachomalo, omgoneyeslovedannysong, oneofthosefacestubeclosedththjuneideagetvenue, wishingmotherhappymotherday, perfectnightbestmonthlifefarbooryanfeero, omgrealycantsleepughh, onecatsick, oneonline, omgkeeplosingfollowersadwantonedaythatsgoal, onegooddeeddeservesanotherhopehelpsomeoneelseday, thinkreferralsohmanimjealousgot, onelikemonday, summerglauappeardollhousenextyearhttptinyurlcommnrezcstillcantbelievewontrenewtscc, orbitaldiamondswantsoldiercomehomedonthearanymorekilled, onedayjaylenoquesad, perrymarshallseeingonesidelookedinterestingdeep, greatday, kbalsorryfeelingway, happymotherdayeverybody, onelanestopgotraffffffficsuckalmostwworkthanksgaymiinnnesotaroad, omgsootiredwayhomelongbusydayfunmeetingnewpeoplecatchingpeople, onebloodypoetbadfriendsorryhear, peterbarownerworkingwaybeersallbelgiancoffindrinkermortsubite, twittering, worrynoonegotonenextquestionstartminutegetthinkingcap, omgimfinallybackcompbrokenguymissedyall, onewishwouldfriendjwork, onefrienddeservefreehug, onepaperleft, online, personaltrainrthankslinkmadesmile, oneinmillionhiuploadedcompletelynewchineselessonwwwyoutubecomchineselearnpleasefeelfreewatchenjoy]\n",
            "\n",
            "\n",
            "02:42:16.906: _train param, Dropping bad and constant columns: [oneexperiencingproblemloggingdigitalpointforum, oneelsemuhahahaaaawellmaybejesse, oneinterlockonego, persononlinemsnfeellonely, feellikecrap, omgluvuguythankskeepinentertainedawakemissinmydgbigtyme, omgknowmanywordtimegoherewordmoneyballkey, omgneverknewwikipediaalsolistshadecolourcool, omgnicolekennedyfoundthnx, onlymegirlyescantseewontgrossenough, onlyhiscantwaitsee, omgimsadjustookgossipgirldone, happymotherdaylt, omgsistergotbrotherquotjonasbrotherquotlookaliketrenchcoatimlikejonasstyletoldshutuplike, omgimgoingrobinsontylerwfmfreakinmissanthonyughtodaykindasucklexlt, onetimeimgoingselfawarenessaskoneprinciplemournerwaketheyre, peternomadthanksknow, onewantvirtualkiss, onegoseetiesto, perttorrentdewclawthumbnub, onetalkanymore, onetesladealership, omgseensunmoonplacedisprovestheoryperson, realhughjackmanwolverineawesomelovegreatactor, omgitsafoxcouldwontgettimevegatripillstilllooklikenoob, omgmampmspantrycallingnameiveignoringdaydrivingcompletelyinsanemanycalorie, onecoming, omgpleasejonasbrotheraddextradatedublinnovembertriedgetticketdeysold, omgperiodcrampftlmuchpain, omgreallyranwall, onemillionpeopledmvtoday, onelookingpembrokedavepembsdavedontknowyetfollowanywaysgoodguy, onehourtillgohomecommencepoutingbahamatrip, tonightfun, perivisionbtwdownloadediphonesdk, omgoodnessfinallybackdinnerfambam, omgrightearblockedannoyingwakedeafgonnalieimscared, omgmomcalledimlatehegone, oohexcitingnewmacday, perfectnightnj, feelinggreattoday, omgheadstillhurtneedgetcomictodaygothurrylol, newtwitter, perfectshowenjoy, omghimymonebestshowearth, stillwaiting, misspuppy, perezhiltonwellevenbreakdownbetteractunfortunatelybritaingotlittletalent, oneweektillexamblock, comefunpartfindofferpercountryliveoutsideuchangequitetiny, peterampgordonmorninggtgopiecewannahidegopiecealmostdieeverhttpblipfmyk, omgthunderrrrwishhomelovecuddlingblankystorm, omnomnomricepudding, onelinermoviereviewhttpbitlyzdkadd, omgsomeoneleftvoicemailworkffsletday, omgguyinternetwholedaystillworkingilltryfix, perfectwayendtotallyboringdaysleepgoodnight, omgoshsawhattiewakemustsummergardenhedgehogcomehibernation, omgwanttfeverybodysteamfriendlistplaying, onlyvickywouldbelieveimdonehomeworkrestlife, onlyjesushospitalweekhalfprettymuchvirgedying, perfectgrrlloldontknowdontneedplantillgivehuginsteadhug, onethaliafatjoewtfterriimgetnnefunnytoday, happystarwardayeveryone, onefinal, onegearbaby, onerandomphonecallevergodkill, onechildrenthechildworldagainsayhappymommyday, omgsupernaturalgoodnewsweek, perfectdaythrowbackheadkissgoodbyelovecheerfulhttpblipfmjckp, omgprisonbreakfinalbreaktwoepisodeairedukwowwatchhaventsoosadtear, omglearnedlittlegirlplayedduckyfirstlandtimemoviemurderedagewtf, omgrighthearblockedannoyingwakedeafgonnalieimscared, omgoodnessneedsleep, foundrollogothappyhmmmguessreallyneedinsertedbackmatrix, onesweeterlifegreathopingrunminendedwoohoogottaloveck, suck, omgsomethingsspookytwitter, onecallanymore, omgstephwtfknightyknightsweetnkotbfreamsloveya, oneworstdaylife, petaahhahahawonttell, onemotimebecuzamazingshahasntseenyetshessoodamncoolillposthttpbbltwtcommqko, happybirthday, onchmovementohsickimfeelingkindasickimhatingovercastweather, onedaypraygetbetter, iamkiaraimsickfelllastnightoutsidecozputtingsomethingbin, onebestiesmovingaway, onscrnahhwellhopingcouldlearnstuffwayworkseparatethingalso, omgodimsooootireddontthinkenergyfilmtodaylol, oneyearemilywowl, oneestateagentnextdoorcaughtsingingalongwham, onlyleahcanthelptalklosingfathermakesad, peterdowleyiveseeninkheartliked, omgstarwardaymayfourtheveryonecallwatchleastfilmtonight, omglittlegirlbgt, perkinzidkwatdatthomaybesumsexlol, omgmissedbuswalkingmilecoffeewentseeexclassmates, omigoodnessfeellikepopsicle, perfectoutsidework, onetakenearlierweekhttptwitpiccomwb, onebaddaysmigrainetodaystsincenecksurgerymonth, somebodypleasesavepolarbear, wantgoswimming, feeldeflateddoggy, omgthatssay, causemissedlotclass, omgwatchingholliesteelcrypainfulbgt, onebringsbackmanymemorymichaelpennquotthisthatquothttptwtfmmusicmonday, onewantsitlunchguessillburyheadlaptopcontinueantisocial, onedayhairweathersucksun, onemumhappymotherdayampspecialmentiononenewestmemberhollyjanehopedhughesygooduampu, onecustomertoldgfrandogtodaysad, readygohome, onealltimefavoriteepisodesquotesofficeushttpbitlyarmj, onefavoriterelaxingsongwakehttptinyurlcomcfregoodmorning, omgrealisedlisteningquotperfectstoryquotpennylikeddrhorribledamncaptainhammeromgimsad, onebartwopubcrawlgonnlongnight, omglittlekidcancersaddestthingever, uselinkstartearningfreecashhttptinyurlcomcoboyfsigngetpaypalcashoutsminimum, omgjulylastdaymuchachomalo, omgoneyeslovedannysong, oneofthosefacestubeclosedththjuneideagetvenue, wishingmotherhappymotherday, perfectnightbestmonthlifefarbooryanfeero, omgrealycantsleepughh, onecatsick, oneonline, omgkeeplosingfollowersadwantonedaythatsgoal, onegooddeeddeservesanotherhopehelpsomeoneelseday, thinkreferralsohmanimjealousgot, onelikemonday, summerglauappeardollhousenextyearhttptinyurlcommnrezcstillcantbelievewontrenewtscc, orbitaldiamondswantsoldiercomehomedonthearanymorekilled, onedayjaylenoquesad, perrymarshallseeingonesidelookedinterestingdeep, greatday, kbalsorryfeelingway, happymotherdayeverybody, onelanestopgotraffffffficsuckalmostwworkthanksgaymiinnnesotaroad, omgsootiredwayhomelongbusydayfunmeetingnewpeoplecatchingpeople, onebloodypoetbadfriendsorryhear, peterbarownerworkingwaybeersallbelgiancoffindrinkermortsubite, twittering, worrynoonegotonenextquestionstartminutegetthinkingcap, omgimfinallybackcompbrokenguymissedyall, onewishwouldfriendjwork, onefrienddeservefreehug, onepaperleft, online, personaltrainrthankslinkmadesmile, oneinmillionhiuploadedcompletelynewchineselessonwwwyoutubecomchineselearnpleasefeelfreewatchenjoy]\n",
            "\n",
            "████\n",
            "02:42:27.460: _train param, Dropping bad and constant columns: [oneexperiencingproblemloggingdigitalpointforum, oneelsemuhahahaaaawellmaybejesse, oneinterlockonego, persononlinemsnfeellonely, feellikecrap, omgluvuguythankskeepinentertainedawakemissinmydgbigtyme, omgknowmanywordtimegoherewordmoneyballkey, omgneverknewwikipediaalsolistshadecolourcool, omgnicolekennedyfoundthnx, onlymegirlyescantseewontgrossenough, onlyhiscantwaitsee, omgimsadjustookgossipgirldone, happymotherdaylt, omgsistergotbrotherquotjonasbrotherquotlookaliketrenchcoatimlikejonasstyletoldshutuplike, omgimgoingrobinsontylerwfmfreakinmissanthonyughtodaykindasucklexlt, onetimeimgoingselfawarenessaskoneprinciplemournerwaketheyre, peternomadthanksknow, onewantvirtualkiss, onegoseetiesto, perttorrentdewclawthumbnub, onetalkanymore, onetesladealership, omgseensunmoonplacedisprovestheoryperson, realhughjackmanwolverineawesomelovegreatactor, omgitsafoxcouldwontgettimevegatripillstilllooklikenoob, omgmampmspantrycallingnameiveignoringdaydrivingcompletelyinsanemanycalorie, onecoming, omgpleasejonasbrotheraddextradatedublinnovembertriedgetticketdeysold, omgperiodcrampftlmuchpain, omgreallyranwall, onemillionpeopledmvtoday, onelookingpembrokedavepembsdavedontknowyetfollowanywaysgoodguy, onehourtillgohomecommencepoutingbahamatrip, tonightfun, perivisionbtwdownloadediphonesdk, omgoodnessfinallybackdinnerfambam, omgrightearblockedannoyingwakedeafgonnalieimscared, omgmomcalledimlatehegone, oohexcitingnewmacday, perfectnightnj, feelinggreattoday, omgheadstillhurtneedgetcomictodaygothurrylol, newtwitter, perfectshowenjoy, omghimymonebestshowearth, stillwaiting, misspuppy, perezhiltonwellevenbreakdownbetteractunfortunatelybritaingotlittletalent, oneweektillexamblock, comefunpartfindofferpercountryliveoutsideuchangequitetiny, peterampgordonmorninggtgopiecewannahidegopiecealmostdieeverhttpblipfmyk, omgthunderrrrwishhomelovecuddlingblankystorm, omnomnomricepudding, onelinermoviereviewhttpbitlyzdkadd, omgsomeoneleftvoicemailworkffsletday, omgguyinternetwholedaystillworkingilltryfix, perfectwayendtotallyboringdaysleepgoodnight, omgoshsawhattiewakemustsummergardenhedgehogcomehibernation, omgwanttfeverybodysteamfriendlistplaying, onlyvickywouldbelieveimdonehomeworkrestlife, onlyjesushospitalweekhalfprettymuchvirgedying, perfectgrrlloldontknowdontneedplantillgivehuginsteadhug, onethaliafatjoewtfterriimgetnnefunnytoday, happystarwardayeveryone, onefinal, onegearbaby, onerandomphonecallevergodkill, onechildrenthechildworldagainsayhappymommyday, omgsupernaturalgoodnewsweek, perfectdaythrowbackheadkissgoodbyelovecheerfulhttpblipfmjckp, omgprisonbreakfinalbreaktwoepisodeairedukwowwatchhaventsoosadtear, omglearnedlittlegirlplayedduckyfirstlandtimemoviemurderedagewtf, omgrighthearblockedannoyingwakedeafgonnalieimscared, omgoodnessneedsleep, foundrollogothappyhmmmguessreallyneedinsertedbackmatrix, onesweeterlifegreathopingrunminendedwoohoogottaloveck, suck, omgsomethingsspookytwitter, onecallanymore, omgstephwtfknightyknightsweetnkotbfreamsloveya, oneworstdaylife, petaahhahahawonttell, onemotimebecuzamazingshahasntseenyetshessoodamncoolillposthttpbbltwtcommqko, happybirthday, onchmovementohsickimfeelingkindasickimhatingovercastweather, onedaypraygetbetter, iamkiaraimsickfelllastnightoutsidecozputtingsomethingbin, onebestiesmovingaway, onscrnahhwellhopingcouldlearnstuffwayworkseparatethingalso, omgodimsooootireddontthinkenergyfilmtodaylol, oneyearemilywowl, oneestateagentnextdoorcaughtsingingalongwham, onlyleahcanthelptalklosingfathermakesad, peterdowleyiveseeninkheartliked, omgstarwardaymayfourtheveryonecallwatchleastfilmtonight, omglittlegirlbgt, perkinzidkwatdatthomaybesumsexlol, omgmissedbuswalkingmilecoffeewentseeexclassmates, omigoodnessfeellikepopsicle, perfectoutsidework, onetakenearlierweekhttptwitpiccomwb, onebaddaysmigrainetodaystsincenecksurgerymonth, somebodypleasesavepolarbear, wantgoswimming, feeldeflateddoggy, omgthatssay, causemissedlotclass, omgwatchingholliesteelcrypainfulbgt, onebringsbackmanymemorymichaelpennquotthisthatquothttptwtfmmusicmonday, onewantsitlunchguessillburyheadlaptopcontinueantisocial, onedayhairweathersucksun, onemumhappymotherdayampspecialmentiononenewestmemberhollyjanehopedhughesygooduampu, onecustomertoldgfrandogtodaysad, readygohome, onealltimefavoriteepisodesquotesofficeushttpbitlyarmj, onefavoriterelaxingsongwakehttptinyurlcomcfregoodmorning, omgrealisedlisteningquotperfectstoryquotpennylikeddrhorribledamncaptainhammeromgimsad, onebartwopubcrawlgonnlongnight, omglittlekidcancersaddestthingever, uselinkstartearningfreecashhttptinyurlcomcoboyfsigngetpaypalcashoutsminimum, omgjulylastdaymuchachomalo, omgoneyeslovedannysong, oneofthosefacestubeclosedththjuneideagetvenue, wishingmotherhappymotherday, perfectnightbestmonthlifefarbooryanfeero, omgrealycantsleepughh, onecatsick, oneonline, omgkeeplosingfollowersadwantonedaythatsgoal, onegooddeeddeservesanotherhopehelpsomeoneelseday, thinkreferralsohmanimjealousgot, onelikemonday, summerglauappeardollhousenextyearhttptinyurlcommnrezcstillcantbelievewontrenewtscc, orbitaldiamondswantsoldiercomehomedonthearanymorekilled, onedayjaylenoquesad, perrymarshallseeingonesidelookedinterestingdeep, greatday, kbalsorryfeelingway, happymotherdayeverybody, onelanestopgotraffffffficsuckalmostwworkthanksgaymiinnnesotaroad, omgsootiredwayhomelongbusydayfunmeetingnewpeoplecatchingpeople, onebloodypoetbadfriendsorryhear, peterbarownerworkingwaybeersallbelgiancoffindrinkermortsubite, twittering, worrynoonegotonenextquestionstartminutegetthinkingcap, omgimfinallybackcompbrokenguymissedyall, onewishwouldfriendjwork, onefrienddeservefreehug, onepaperleft, online, personaltrainrthankslinkmadesmile, oneinmillionhiuploadedcompletelynewchineselessonwwwyoutubecomchineselearnpleasefeelfreewatchenjoy]\n",
            "\n",
            "\n",
            "02:42:30.141: _train param, Dropping bad and constant columns: [oneexperiencingproblemloggingdigitalpointforum, oneelsemuhahahaaaawellmaybejesse, oneinterlockonego, persononlinemsnfeellonely, feellikecrap, omgluvuguythankskeepinentertainedawakemissinmydgbigtyme, omgknowmanywordtimegoherewordmoneyballkey, omgneverknewwikipediaalsolistshadecolourcool, omgnicolekennedyfoundthnx, onlymegirlyescantseewontgrossenough, onlyhiscantwaitsee, omgimsadjustookgossipgirldone, happymotherdaylt, omgsistergotbrotherquotjonasbrotherquotlookaliketrenchcoatimlikejonasstyletoldshutuplike, omgimgoingrobinsontylerwfmfreakinmissanthonyughtodaykindasucklexlt, onetimeimgoingselfawarenessaskoneprinciplemournerwaketheyre, peternomadthanksknow, onewantvirtualkiss, onegoseetiesto, perttorrentdewclawthumbnub, onetalkanymore, onetesladealership, omgseensunmoonplacedisprovestheoryperson, realhughjackmanwolverineawesomelovegreatactor, omgitsafoxcouldwontgettimevegatripillstilllooklikenoob, omgmampmspantrycallingnameiveignoringdaydrivingcompletelyinsanemanycalorie, onecoming, omgpleasejonasbrotheraddextradatedublinnovembertriedgetticketdeysold, omgperiodcrampftlmuchpain, omgreallyranwall, onemillionpeopledmvtoday, onelookingpembrokedavepembsdavedontknowyetfollowanywaysgoodguy, onehourtillgohomecommencepoutingbahamatrip, tonightfun, perivisionbtwdownloadediphonesdk, omgoodnessfinallybackdinnerfambam, omgrightearblockedannoyingwakedeafgonnalieimscared, omgmomcalledimlatehegone, oohexcitingnewmacday, perfectnightnj, feelinggreattoday, omgheadstillhurtneedgetcomictodaygothurrylol, newtwitter, perfectshowenjoy, omghimymonebestshowearth, stillwaiting, misspuppy, perezhiltonwellevenbreakdownbetteractunfortunatelybritaingotlittletalent, oneweektillexamblock, comefunpartfindofferpercountryliveoutsideuchangequitetiny, peterampgordonmorninggtgopiecewannahidegopiecealmostdieeverhttpblipfmyk, omgthunderrrrwishhomelovecuddlingblankystorm, omnomnomricepudding, onelinermoviereviewhttpbitlyzdkadd, omgsomeoneleftvoicemailworkffsletday, omgguyinternetwholedaystillworkingilltryfix, perfectwayendtotallyboringdaysleepgoodnight, omgoshsawhattiewakemustsummergardenhedgehogcomehibernation, omgwanttfeverybodysteamfriendlistplaying, onlyvickywouldbelieveimdonehomeworkrestlife, onlyjesushospitalweekhalfprettymuchvirgedying, perfectgrrlloldontknowdontneedplantillgivehuginsteadhug, onethaliafatjoewtfterriimgetnnefunnytoday, happystarwardayeveryone, onefinal, onegearbaby, onerandomphonecallevergodkill, onechildrenthechildworldagainsayhappymommyday, omgsupernaturalgoodnewsweek, perfectdaythrowbackheadkissgoodbyelovecheerfulhttpblipfmjckp, omgprisonbreakfinalbreaktwoepisodeairedukwowwatchhaventsoosadtear, omglearnedlittlegirlplayedduckyfirstlandtimemoviemurderedagewtf, omgrighthearblockedannoyingwakedeafgonnalieimscared, omgoodnessneedsleep, foundrollogothappyhmmmguessreallyneedinsertedbackmatrix, onesweeterlifegreathopingrunminendedwoohoogottaloveck, suck, omgsomethingsspookytwitter, onecallanymore, omgstephwtfknightyknightsweetnkotbfreamsloveya, oneworstdaylife, petaahhahahawonttell, onemotimebecuzamazingshahasntseenyetshessoodamncoolillposthttpbbltwtcommqko, happybirthday, onchmovementohsickimfeelingkindasickimhatingovercastweather, onedaypraygetbetter, iamkiaraimsickfelllastnightoutsidecozputtingsomethingbin, onebestiesmovingaway, onscrnahhwellhopingcouldlearnstuffwayworkseparatethingalso, omgodimsooootireddontthinkenergyfilmtodaylol, oneyearemilywowl, oneestateagentnextdoorcaughtsingingalongwham, onlyleahcanthelptalklosingfathermakesad, peterdowleyiveseeninkheartliked, omgstarwardaymayfourtheveryonecallwatchleastfilmtonight, omglittlegirlbgt, perkinzidkwatdatthomaybesumsexlol, omgmissedbuswalkingmilecoffeewentseeexclassmates, omigoodnessfeellikepopsicle, perfectoutsidework, onetakenearlierweekhttptwitpiccomwb, onebaddaysmigrainetodaystsincenecksurgerymonth, somebodypleasesavepolarbear, wantgoswimming, feeldeflateddoggy, omgthatssay, causemissedlotclass, omgwatchingholliesteelcrypainfulbgt, onebringsbackmanymemorymichaelpennquotthisthatquothttptwtfmmusicmonday, onewantsitlunchguessillburyheadlaptopcontinueantisocial, onedayhairweathersucksun, onemumhappymotherdayampspecialmentiononenewestmemberhollyjanehopedhughesygooduampu, onecustomertoldgfrandogtodaysad, readygohome, onealltimefavoriteepisodesquotesofficeushttpbitlyarmj, onefavoriterelaxingsongwakehttptinyurlcomcfregoodmorning, omgrealisedlisteningquotperfectstoryquotpennylikeddrhorribledamncaptainhammeromgimsad, onebartwopubcrawlgonnlongnight, omglittlekidcancersaddestthingever, uselinkstartearningfreecashhttptinyurlcomcoboyfsigngetpaypalcashoutsminimum, omgjulylastdaymuchachomalo, omgoneyeslovedannysong, oneofthosefacestubeclosedththjuneideagetvenue, wishingmotherhappymotherday, perfectnightbestmonthlifefarbooryanfeero, omgrealycantsleepughh, onecatsick, oneonline, omgkeeplosingfollowersadwantonedaythatsgoal, onegooddeeddeservesanotherhopehelpsomeoneelseday, thinkreferralsohmanimjealousgot, onelikemonday, summerglauappeardollhousenextyearhttptinyurlcommnrezcstillcantbelievewontrenewtscc, orbitaldiamondswantsoldiercomehomedonthearanymorekilled, onedayjaylenoquesad, perrymarshallseeingonesidelookedinterestingdeep, greatday, kbalsorryfeelingway, happymotherdayeverybody, onelanestopgotraffffffficsuckalmostwworkthanksgaymiinnnesotaroad, omgsootiredwayhomelongbusydayfunmeetingnewpeoplecatchingpeople, onebloodypoetbadfriendsorryhear, peterbarownerworkingwaybeersallbelgiancoffindrinkermortsubite, twittering, worrynoonegotonenextquestionstartminutegetthinkingcap, omgimfinallybackcompbrokenguymissedyall, onewishwouldfriendjwork, onefrienddeservefreehug, onepaperleft, online, personaltrainrthankslinkmadesmile, oneinmillionhiuploadedcompletelynewchineselessonwwwyoutubecomchineselearnpleasefeelfreewatchenjoy]\n",
            "\n",
            "█\n",
            "02:42:32.485: _train param, Dropping bad and constant columns: [oneexperiencingproblemloggingdigitalpointforum, oneelsemuhahahaaaawellmaybejesse, oneinterlockonego, persononlinemsnfeellonely, feellikecrap, omgluvuguythankskeepinentertainedawakemissinmydgbigtyme, omgknowmanywordtimegoherewordmoneyballkey, omgneverknewwikipediaalsolistshadecolourcool, omgnicolekennedyfoundthnx, onlymegirlyescantseewontgrossenough, onlyhiscantwaitsee, omgimsadjustookgossipgirldone, happymotherdaylt, omgsistergotbrotherquotjonasbrotherquotlookaliketrenchcoatimlikejonasstyletoldshutuplike, omgimgoingrobinsontylerwfmfreakinmissanthonyughtodaykindasucklexlt, onetimeimgoingselfawarenessaskoneprinciplemournerwaketheyre, peternomadthanksknow, onewantvirtualkiss, onegoseetiesto, perttorrentdewclawthumbnub, onetalkanymore, onetesladealership, omgseensunmoonplacedisprovestheoryperson, realhughjackmanwolverineawesomelovegreatactor, omgitsafoxcouldwontgettimevegatripillstilllooklikenoob, omgmampmspantrycallingnameiveignoringdaydrivingcompletelyinsanemanycalorie, onecoming, omgpleasejonasbrotheraddextradatedublinnovembertriedgetticketdeysold, omgperiodcrampftlmuchpain, omgreallyranwall, onemillionpeopledmvtoday, onelookingpembrokedavepembsdavedontknowyetfollowanywaysgoodguy, onehourtillgohomecommencepoutingbahamatrip, tonightfun, perivisionbtwdownloadediphonesdk, omgoodnessfinallybackdinnerfambam, omgrightearblockedannoyingwakedeafgonnalieimscared, omgmomcalledimlatehegone, oohexcitingnewmacday, perfectnightnj, feelinggreattoday, omgheadstillhurtneedgetcomictodaygothurrylol, newtwitter, perfectshowenjoy, omghimymonebestshowearth, stillwaiting, misspuppy, perezhiltonwellevenbreakdownbetteractunfortunatelybritaingotlittletalent, oneweektillexamblock, comefunpartfindofferpercountryliveoutsideuchangequitetiny, peterampgordonmorninggtgopiecewannahidegopiecealmostdieeverhttpblipfmyk, omgthunderrrrwishhomelovecuddlingblankystorm, omnomnomricepudding, onelinermoviereviewhttpbitlyzdkadd, omgsomeoneleftvoicemailworkffsletday, omgguyinternetwholedaystillworkingilltryfix, perfectwayendtotallyboringdaysleepgoodnight, omgoshsawhattiewakemustsummergardenhedgehogcomehibernation, omgwanttfeverybodysteamfriendlistplaying, onlyvickywouldbelieveimdonehomeworkrestlife, onlyjesushospitalweekhalfprettymuchvirgedying, perfectgrrlloldontknowdontneedplantillgivehuginsteadhug, onethaliafatjoewtfterriimgetnnefunnytoday, happystarwardayeveryone, onefinal, onegearbaby, onerandomphonecallevergodkill, onechildrenthechildworldagainsayhappymommyday, omgsupernaturalgoodnewsweek, perfectdaythrowbackheadkissgoodbyelovecheerfulhttpblipfmjckp, omgprisonbreakfinalbreaktwoepisodeairedukwowwatchhaventsoosadtear, omglearnedlittlegirlplayedduckyfirstlandtimemoviemurderedagewtf, omgrighthearblockedannoyingwakedeafgonnalieimscared, omgoodnessneedsleep, foundrollogothappyhmmmguessreallyneedinsertedbackmatrix, onesweeterlifegreathopingrunminendedwoohoogottaloveck, suck, omgsomethingsspookytwitter, onecallanymore, omgstephwtfknightyknightsweetnkotbfreamsloveya, oneworstdaylife, petaahhahahawonttell, onemotimebecuzamazingshahasntseenyetshessoodamncoolillposthttpbbltwtcommqko, happybirthday, onchmovementohsickimfeelingkindasickimhatingovercastweather, onedaypraygetbetter, iamkiaraimsickfelllastnightoutsidecozputtingsomethingbin, onebestiesmovingaway, onscrnahhwellhopingcouldlearnstuffwayworkseparatethingalso, omgodimsooootireddontthinkenergyfilmtodaylol, oneyearemilywowl, oneestateagentnextdoorcaughtsingingalongwham, onlyleahcanthelptalklosingfathermakesad, peterdowleyiveseeninkheartliked, omgstarwardaymayfourtheveryonecallwatchleastfilmtonight, omglittlegirlbgt, perkinzidkwatdatthomaybesumsexlol, omgmissedbuswalkingmilecoffeewentseeexclassmates, omigoodnessfeellikepopsicle, perfectoutsidework, onetakenearlierweekhttptwitpiccomwb, onebaddaysmigrainetodaystsincenecksurgerymonth, somebodypleasesavepolarbear, wantgoswimming, feeldeflateddoggy, omgthatssay, causemissedlotclass, omgwatchingholliesteelcrypainfulbgt, onebringsbackmanymemorymichaelpennquotthisthatquothttptwtfmmusicmonday, onewantsitlunchguessillburyheadlaptopcontinueantisocial, onedayhairweathersucksun, onemumhappymotherdayampspecialmentiononenewestmemberhollyjanehopedhughesygooduampu, onecustomertoldgfrandogtodaysad, readygohome, onealltimefavoriteepisodesquotesofficeushttpbitlyarmj, onefavoriterelaxingsongwakehttptinyurlcomcfregoodmorning, omgrealisedlisteningquotperfectstoryquotpennylikeddrhorribledamncaptainhammeromgimsad, onebartwopubcrawlgonnlongnight, omglittlekidcancersaddestthingever, uselinkstartearningfreecashhttptinyurlcomcoboyfsigngetpaypalcashoutsminimum, omgjulylastdaymuchachomalo, omgoneyeslovedannysong, oneofthosefacestubeclosedththjuneideagetvenue, wishingmotherhappymotherday, perfectnightbestmonthlifefarbooryanfeero, omgrealycantsleepughh, onecatsick, oneonline, omgkeeplosingfollowersadwantonedaythatsgoal, onegooddeeddeservesanotherhopehelpsomeoneelseday, thinkreferralsohmanimjealousgot, onelikemonday, summerglauappeardollhousenextyearhttptinyurlcommnrezcstillcantbelievewontrenewtscc, orbitaldiamondswantsoldiercomehomedonthearanymorekilled, onedayjaylenoquesad, perrymarshallseeingonesidelookedinterestingdeep, greatday, kbalsorryfeelingway, happymotherdayeverybody, onelanestopgotraffffffficsuckalmostwworkthanksgaymiinnnesotaroad, omgsootiredwayhomelongbusydayfunmeetingnewpeoplecatchingpeople, onebloodypoetbadfriendsorryhear, peterbarownerworkingwaybeersallbelgiancoffindrinkermortsubite, twittering, worrynoonegotonenextquestionstartminutegetthinkingcap, omgimfinallybackcompbrokenguymissedyall, onewishwouldfriendjwork, onefrienddeservefreehug, onepaperleft, online, personaltrainrthankslinkmadesmile, oneinmillionhiuploadedcompletelynewchineselessonwwwyoutubecomchineselearnpleasefeelfreewatchenjoy]\n",
            "\n",
            "█\n",
            "02:42:35.903: _train param, Dropping bad and constant columns: [oneexperiencingproblemloggingdigitalpointforum, oneelsemuhahahaaaawellmaybejesse, oneinterlockonego, persononlinemsnfeellonely, feellikecrap, omgluvuguythankskeepinentertainedawakemissinmydgbigtyme, omgknowmanywordtimegoherewordmoneyballkey, omgneverknewwikipediaalsolistshadecolourcool, omgnicolekennedyfoundthnx, onlymegirlyescantseewontgrossenough, onlyhiscantwaitsee, omgimsadjustookgossipgirldone, happymotherdaylt, omgsistergotbrotherquotjonasbrotherquotlookaliketrenchcoatimlikejonasstyletoldshutuplike, omgimgoingrobinsontylerwfmfreakinmissanthonyughtodaykindasucklexlt, onetimeimgoingselfawarenessaskoneprinciplemournerwaketheyre, peternomadthanksknow, onewantvirtualkiss, onegoseetiesto, perttorrentdewclawthumbnub, onetalkanymore, onetesladealership, omgseensunmoonplacedisprovestheoryperson, realhughjackmanwolverineawesomelovegreatactor, omgitsafoxcouldwontgettimevegatripillstilllooklikenoob, omgmampmspantrycallingnameiveignoringdaydrivingcompletelyinsanemanycalorie, onecoming, omgpleasejonasbrotheraddextradatedublinnovembertriedgetticketdeysold, omgperiodcrampftlmuchpain, omgreallyranwall, onemillionpeopledmvtoday, onelookingpembrokedavepembsdavedontknowyetfollowanywaysgoodguy, onehourtillgohomecommencepoutingbahamatrip, tonightfun, perivisionbtwdownloadediphonesdk, omgoodnessfinallybackdinnerfambam, omgrightearblockedannoyingwakedeafgonnalieimscared, omgmomcalledimlatehegone, oohexcitingnewmacday, perfectnightnj, feelinggreattoday, omgheadstillhurtneedgetcomictodaygothurrylol, newtwitter, perfectshowenjoy, omghimymonebestshowearth, stillwaiting, misspuppy, perezhiltonwellevenbreakdownbetteractunfortunatelybritaingotlittletalent, oneweektillexamblock, comefunpartfindofferpercountryliveoutsideuchangequitetiny, peterampgordonmorninggtgopiecewannahidegopiecealmostdieeverhttpblipfmyk, omgthunderrrrwishhomelovecuddlingblankystorm, omnomnomricepudding, onelinermoviereviewhttpbitlyzdkadd, omgsomeoneleftvoicemailworkffsletday, omgguyinternetwholedaystillworkingilltryfix, perfectwayendtotallyboringdaysleepgoodnight, omgoshsawhattiewakemustsummergardenhedgehogcomehibernation, omgwanttfeverybodysteamfriendlistplaying, onlyvickywouldbelieveimdonehomeworkrestlife, onlyjesushospitalweekhalfprettymuchvirgedying, perfectgrrlloldontknowdontneedplantillgivehuginsteadhug, onethaliafatjoewtfterriimgetnnefunnytoday, happystarwardayeveryone, onefinal, onegearbaby, onerandomphonecallevergodkill, onechildrenthechildworldagainsayhappymommyday, omgsupernaturalgoodnewsweek, perfectdaythrowbackheadkissgoodbyelovecheerfulhttpblipfmjckp, omgprisonbreakfinalbreaktwoepisodeairedukwowwatchhaventsoosadtear, omglearnedlittlegirlplayedduckyfirstlandtimemoviemurderedagewtf, omgrighthearblockedannoyingwakedeafgonnalieimscared, omgoodnessneedsleep, foundrollogothappyhmmmguessreallyneedinsertedbackmatrix, onesweeterlifegreathopingrunminendedwoohoogottaloveck, suck, omgsomethingsspookytwitter, onecallanymore, omgstephwtfknightyknightsweetnkotbfreamsloveya, oneworstdaylife, petaahhahahawonttell, onemotimebecuzamazingshahasntseenyetshessoodamncoolillposthttpbbltwtcommqko, happybirthday, onchmovementohsickimfeelingkindasickimhatingovercastweather, onedaypraygetbetter, iamkiaraimsickfelllastnightoutsidecozputtingsomethingbin, onebestiesmovingaway, onscrnahhwellhopingcouldlearnstuffwayworkseparatethingalso, omgodimsooootireddontthinkenergyfilmtodaylol, oneyearemilywowl, oneestateagentnextdoorcaughtsingingalongwham, onlyleahcanthelptalklosingfathermakesad, peterdowleyiveseeninkheartliked, omgstarwardaymayfourtheveryonecallwatchleastfilmtonight, omglittlegirlbgt, perkinzidkwatdatthomaybesumsexlol, omgmissedbuswalkingmilecoffeewentseeexclassmates, omigoodnessfeellikepopsicle, perfectoutsidework, onetakenearlierweekhttptwitpiccomwb, onebaddaysmigrainetodaystsincenecksurgerymonth, somebodypleasesavepolarbear, wantgoswimming, feeldeflateddoggy, omgthatssay, causemissedlotclass, omgwatchingholliesteelcrypainfulbgt, onebringsbackmanymemorymichaelpennquotthisthatquothttptwtfmmusicmonday, onewantsitlunchguessillburyheadlaptopcontinueantisocial, onedayhairweathersucksun, onemumhappymotherdayampspecialmentiononenewestmemberhollyjanehopedhughesygooduampu, onecustomertoldgfrandogtodaysad, readygohome, onealltimefavoriteepisodesquotesofficeushttpbitlyarmj, onefavoriterelaxingsongwakehttptinyurlcomcfregoodmorning, omgrealisedlisteningquotperfectstoryquotpennylikeddrhorribledamncaptainhammeromgimsad, onebartwopubcrawlgonnlongnight, omglittlekidcancersaddestthingever, uselinkstartearningfreecashhttptinyurlcomcoboyfsigngetpaypalcashoutsminimum, omgjulylastdaymuchachomalo, omgoneyeslovedannysong, oneofthosefacestubeclosedththjuneideagetvenue, wishingmotherhappymotherday, perfectnightbestmonthlifefarbooryanfeero, omgrealycantsleepughh, onecatsick, oneonline, omgkeeplosingfollowersadwantonedaythatsgoal, onegooddeeddeservesanotherhopehelpsomeoneelseday, thinkreferralsohmanimjealousgot, onelikemonday, summerglauappeardollhousenextyearhttptinyurlcommnrezcstillcantbelievewontrenewtscc, orbitaldiamondswantsoldiercomehomedonthearanymorekilled, onedayjaylenoquesad, perrymarshallseeingonesidelookedinterestingdeep, greatday, kbalsorryfeelingway, happymotherdayeverybody, onelanestopgotraffffffficsuckalmostwworkthanksgaymiinnnesotaroad, omgsootiredwayhomelongbusydayfunmeetingnewpeoplecatchingpeople, onebloodypoetbadfriendsorryhear, peterbarownerworkingwaybeersallbelgiancoffindrinkermortsubite, twittering, worrynoonegotonenextquestionstartminutegetthinkingcap, omgimfinallybackcompbrokenguymissedyall, onewishwouldfriendjwork, onefrienddeservefreehug, onepaperleft, online, personaltrainrthankslinkmadesmile, oneinmillionhiuploadedcompletelynewchineselessonwwwyoutubecomchineselearnpleasefeelfreewatchenjoy]\n",
            "\n",
            "█\n",
            "02:42:37.884: _train param, Dropping bad and constant columns: [oneexperiencingproblemloggingdigitalpointforum, oneelsemuhahahaaaawellmaybejesse, oneinterlockonego, persononlinemsnfeellonely, feellikecrap, omgluvuguythankskeepinentertainedawakemissinmydgbigtyme, omgknowmanywordtimegoherewordmoneyballkey, omgneverknewwikipediaalsolistshadecolourcool, omgnicolekennedyfoundthnx, onlymegirlyescantseewontgrossenough, onlyhiscantwaitsee, omgimsadjustookgossipgirldone, happymotherdaylt, omgsistergotbrotherquotjonasbrotherquotlookaliketrenchcoatimlikejonasstyletoldshutuplike, omgimgoingrobinsontylerwfmfreakinmissanthonyughtodaykindasucklexlt, onetimeimgoingselfawarenessaskoneprinciplemournerwaketheyre, peternomadthanksknow, onewantvirtualkiss, onegoseetiesto, perttorrentdewclawthumbnub, onetalkanymore, onetesladealership, omgseensunmoonplacedisprovestheoryperson, realhughjackmanwolverineawesomelovegreatactor, omgitsafoxcouldwontgettimevegatripillstilllooklikenoob, omgmampmspantrycallingnameiveignoringdaydrivingcompletelyinsanemanycalorie, onecoming, omgpleasejonasbrotheraddextradatedublinnovembertriedgetticketdeysold, omgperiodcrampftlmuchpain, omgreallyranwall, onemillionpeopledmvtoday, onelookingpembrokedavepembsdavedontknowyetfollowanywaysgoodguy, onehourtillgohomecommencepoutingbahamatrip, tonightfun, perivisionbtwdownloadediphonesdk, omgoodnessfinallybackdinnerfambam, omgrightearblockedannoyingwakedeafgonnalieimscared, omgmomcalledimlatehegone, oohexcitingnewmacday, perfectnightnj, feelinggreattoday, omgheadstillhurtneedgetcomictodaygothurrylol, newtwitter, perfectshowenjoy, omghimymonebestshowearth, stillwaiting, misspuppy, perezhiltonwellevenbreakdownbetteractunfortunatelybritaingotlittletalent, oneweektillexamblock, comefunpartfindofferpercountryliveoutsideuchangequitetiny, peterampgordonmorninggtgopiecewannahidegopiecealmostdieeverhttpblipfmyk, omgthunderrrrwishhomelovecuddlingblankystorm, omnomnomricepudding, onelinermoviereviewhttpbitlyzdkadd, omgsomeoneleftvoicemailworkffsletday, omgguyinternetwholedaystillworkingilltryfix, perfectwayendtotallyboringdaysleepgoodnight, omgoshsawhattiewakemustsummergardenhedgehogcomehibernation, omgwanttfeverybodysteamfriendlistplaying, onlyvickywouldbelieveimdonehomeworkrestlife, onlyjesushospitalweekhalfprettymuchvirgedying, perfectgrrlloldontknowdontneedplantillgivehuginsteadhug, onethaliafatjoewtfterriimgetnnefunnytoday, happystarwardayeveryone, onefinal, onegearbaby, onerandomphonecallevergodkill, onechildrenthechildworldagainsayhappymommyday, omgsupernaturalgoodnewsweek, perfectdaythrowbackheadkissgoodbyelovecheerfulhttpblipfmjckp, omgprisonbreakfinalbreaktwoepisodeairedukwowwatchhaventsoosadtear, omglearnedlittlegirlplayedduckyfirstlandtimemoviemurderedagewtf, omgrighthearblockedannoyingwakedeafgonnalieimscared, omgoodnessneedsleep, foundrollogothappyhmmmguessreallyneedinsertedbackmatrix, onesweeterlifegreathopingrunminendedwoohoogottaloveck, suck, omgsomethingsspookytwitter, onecallanymore, omgstephwtfknightyknightsweetnkotbfreamsloveya, oneworstdaylife, petaahhahahawonttell, onemotimebecuzamazingshahasntseenyetshessoodamncoolillposthttpbbltwtcommqko, happybirthday, onchmovementohsickimfeelingkindasickimhatingovercastweather, onedaypraygetbetter, iamkiaraimsickfelllastnightoutsidecozputtingsomethingbin, onebestiesmovingaway, onscrnahhwellhopingcouldlearnstuffwayworkseparatethingalso, omgodimsooootireddontthinkenergyfilmtodaylol, oneyearemilywowl, oneestateagentnextdoorcaughtsingingalongwham, onlyleahcanthelptalklosingfathermakesad, peterdowleyiveseeninkheartliked, omgstarwardaymayfourtheveryonecallwatchleastfilmtonight, omglittlegirlbgt, perkinzidkwatdatthomaybesumsexlol, omgmissedbuswalkingmilecoffeewentseeexclassmates, omigoodnessfeellikepopsicle, perfectoutsidework, onetakenearlierweekhttptwitpiccomwb, onebaddaysmigrainetodaystsincenecksurgerymonth, somebodypleasesavepolarbear, wantgoswimming, feeldeflateddoggy, omgthatssay, causemissedlotclass, omgwatchingholliesteelcrypainfulbgt, onebringsbackmanymemorymichaelpennquotthisthatquothttptwtfmmusicmonday, onewantsitlunchguessillburyheadlaptopcontinueantisocial, onedayhairweathersucksun, onemumhappymotherdayampspecialmentiononenewestmemberhollyjanehopedhughesygooduampu, onecustomertoldgfrandogtodaysad, readygohome, onealltimefavoriteepisodesquotesofficeushttpbitlyarmj, onefavoriterelaxingsongwakehttptinyurlcomcfregoodmorning, omgrealisedlisteningquotperfectstoryquotpennylikeddrhorribledamncaptainhammeromgimsad, onebartwopubcrawlgonnlongnight, omglittlekidcancersaddestthingever, uselinkstartearningfreecashhttptinyurlcomcoboyfsigngetpaypalcashoutsminimum, omgjulylastdaymuchachomalo, omgoneyeslovedannysong, oneofthosefacestubeclosedththjuneideagetvenue, wishingmotherhappymotherday, perfectnightbestmonthlifefarbooryanfeero, omgrealycantsleepughh, onecatsick, oneonline, omgkeeplosingfollowersadwantonedaythatsgoal, onegooddeeddeservesanotherhopehelpsomeoneelseday, thinkreferralsohmanimjealousgot, onelikemonday, summerglauappeardollhousenextyearhttptinyurlcommnrezcstillcantbelievewontrenewtscc, orbitaldiamondswantsoldiercomehomedonthearanymorekilled, onedayjaylenoquesad, perrymarshallseeingonesidelookedinterestingdeep, greatday, kbalsorryfeelingway, happymotherdayeverybody, onelanestopgotraffffffficsuckalmostwworkthanksgaymiinnnesotaroad, omgsootiredwayhomelongbusydayfunmeetingnewpeoplecatchingpeople, onebloodypoetbadfriendsorryhear, peterbarownerworkingwaybeersallbelgiancoffindrinkermortsubite, twittering, worrynoonegotonenextquestionstartminutegetthinkingcap, omgimfinallybackcompbrokenguymissedyall, onewishwouldfriendjwork, onefrienddeservefreehug, onepaperleft, online, personaltrainrthankslinkmadesmile, oneinmillionhiuploadedcompletelynewchineselessonwwwyoutubecomchineselearnpleasefeelfreewatchenjoy]\n",
            "02:42:39.763: _train param, Dropping bad and constant columns: [oneexperiencingproblemloggingdigitalpointforum, oneelsemuhahahaaaawellmaybejesse, oneinterlockonego, persononlinemsnfeellonely, feellikecrap, omgluvuguythankskeepinentertainedawakemissinmydgbigtyme, omgknowmanywordtimegoherewordmoneyballkey, omgneverknewwikipediaalsolistshadecolourcool, omgnicolekennedyfoundthnx, onlymegirlyescantseewontgrossenough, onlyhiscantwaitsee, omgimsadjustookgossipgirldone, happymotherdaylt, omgsistergotbrotherquotjonasbrotherquotlookaliketrenchcoatimlikejonasstyletoldshutuplike, omgimgoingrobinsontylerwfmfreakinmissanthonyughtodaykindasucklexlt, onetimeimgoingselfawarenessaskoneprinciplemournerwaketheyre, peternomadthanksknow, onewantvirtualkiss, onegoseetiesto, perttorrentdewclawthumbnub, onetalkanymore, onetesladealership, omgseensunmoonplacedisprovestheoryperson, realhughjackmanwolverineawesomelovegreatactor, omgitsafoxcouldwontgettimevegatripillstilllooklikenoob, omgmampmspantrycallingnameiveignoringdaydrivingcompletelyinsanemanycalorie, onecoming, omgpleasejonasbrotheraddextradatedublinnovembertriedgetticketdeysold, omgperiodcrampftlmuchpain, omgreallyranwall, onemillionpeopledmvtoday, onelookingpembrokedavepembsdavedontknowyetfollowanywaysgoodguy, onehourtillgohomecommencepoutingbahamatrip, tonightfun, perivisionbtwdownloadediphonesdk, omgoodnessfinallybackdinnerfambam, omgrightearblockedannoyingwakedeafgonnalieimscared, omgmomcalledimlatehegone, oohexcitingnewmacday, perfectnightnj, feelinggreattoday, omgheadstillhurtneedgetcomictodaygothurrylol, newtwitter, perfectshowenjoy, omghimymonebestshowearth, stillwaiting, misspuppy, perezhiltonwellevenbreakdownbetteractunfortunatelybritaingotlittletalent, oneweektillexamblock, comefunpartfindofferpercountryliveoutsideuchangequitetiny, peterampgordonmorninggtgopiecewannahidegopiecealmostdieeverhttpblipfmyk, omgthunderrrrwishhomelovecuddlingblankystorm, omnomnomricepudding, onelinermoviereviewhttpbitlyzdkadd, omgsomeoneleftvoicemailworkffsletday, omgguyinternetwholedaystillworkingilltryfix, perfectwayendtotallyboringdaysleepgoodnight, omgoshsawhattiewakemustsummergardenhedgehogcomehibernation, omgwanttfeverybodysteamfriendlistplaying, onlyvickywouldbelieveimdonehomeworkrestlife, onlyjesushospitalweekhalfprettymuchvirgedying, perfectgrrlloldontknowdontneedplantillgivehuginsteadhug, onethaliafatjoewtfterriimgetnnefunnytoday, happystarwardayeveryone, onefinal, onegearbaby, onerandomphonecallevergodkill, onechildrenthechildworldagainsayhappymommyday, omgsupernaturalgoodnewsweek, perfectdaythrowbackheadkissgoodbyelovecheerfulhttpblipfmjckp, omgprisonbreakfinalbreaktwoepisodeairedukwowwatchhaventsoosadtear, omglearnedlittlegirlplayedduckyfirstlandtimemoviemurderedagewtf, omgrighthearblockedannoyingwakedeafgonnalieimscared, omgoodnessneedsleep, foundrollogothappyhmmmguessreallyneedinsertedbackmatrix, onesweeterlifegreathopingrunminendedwoohoogottaloveck, suck, omgsomethingsspookytwitter, onecallanymore, omgstephwtfknightyknightsweetnkotbfreamsloveya, oneworstdaylife, petaahhahahawonttell, onemotimebecuzamazingshahasntseenyetshessoodamncoolillposthttpbbltwtcommqko, happybirthday, onchmovementohsickimfeelingkindasickimhatingovercastweather, onedaypraygetbetter, iamkiaraimsickfelllastnightoutsidecozputtingsomethingbin, onebestiesmovingaway, onscrnahhwellhopingcouldlearnstuffwayworkseparatethingalso, omgodimsooootireddontthinkenergyfilmtodaylol, oneyearemilywowl, oneestateagentnextdoorcaughtsingingalongwham, onlyleahcanthelptalklosingfathermakesad, peterdowleyiveseeninkheartliked, omgstarwardaymayfourtheveryonecallwatchleastfilmtonight, omglittlegirlbgt, perkinzidkwatdatthomaybesumsexlol, omgmissedbuswalkingmilecoffeewentseeexclassmates, omigoodnessfeellikepopsicle, perfectoutsidework, onetakenearlierweekhttptwitpiccomwb, onebaddaysmigrainetodaystsincenecksurgerymonth, somebodypleasesavepolarbear, wantgoswimming, feeldeflateddoggy, omgthatssay, causemissedlotclass, omgwatchingholliesteelcrypainfulbgt, onebringsbackmanymemorymichaelpennquotthisthatquothttptwtfmmusicmonday, onewantsitlunchguessillburyheadlaptopcontinueantisocial, onedayhairweathersucksun, onemumhappymotherdayampspecialmentiononenewestmemberhollyjanehopedhughesygooduampu, onecustomertoldgfrandogtodaysad, readygohome, onealltimefavoriteepisodesquotesofficeushttpbitlyarmj, onefavoriterelaxingsongwakehttptinyurlcomcfregoodmorning, omgrealisedlisteningquotperfectstoryquotpennylikeddrhorribledamncaptainhammeromgimsad, onebartwopubcrawlgonnlongnight, omglittlekidcancersaddestthingever, uselinkstartearningfreecashhttptinyurlcomcoboyfsigngetpaypalcashoutsminimum, omgjulylastdaymuchachomalo, omgoneyeslovedannysong, oneofthosefacestubeclosedththjuneideagetvenue, wishingmotherhappymotherday, perfectnightbestmonthlifefarbooryanfeero, omgrealycantsleepughh, onecatsick, oneonline, omgkeeplosingfollowersadwantonedaythatsgoal, onegooddeeddeservesanotherhopehelpsomeoneelseday, thinkreferralsohmanimjealousgot, onelikemonday, summerglauappeardollhousenextyearhttptinyurlcommnrezcstillcantbelievewontrenewtscc, orbitaldiamondswantsoldiercomehomedonthearanymorekilled, onedayjaylenoquesad, perrymarshallseeingonesidelookedinterestingdeep, greatday, kbalsorryfeelingway, happymotherdayeverybody, onelanestopgotraffffffficsuckalmostwworkthanksgaymiinnnesotaroad, omgsootiredwayhomelongbusydayfunmeetingnewpeoplecatchingpeople, onebloodypoetbadfriendsorryhear, peterbarownerworkingwaybeersallbelgiancoffindrinkermortsubite, twittering, worrynoonegotonenextquestionstartminutegetthinkingcap, omgimfinallybackcompbrokenguymissedyall, onewishwouldfriendjwork, onefrienddeservefreehug, onepaperleft, online, personaltrainrthankslinkmadesmile, oneinmillionhiuploadedcompletelynewchineselessonwwwyoutubecomchineselearnpleasefeelfreewatchenjoy]\n",
            "\n",
            "██\n",
            "02:42:42.919: _train param, Dropping bad and constant columns: [oneexperiencingproblemloggingdigitalpointforum, oneelsemuhahahaaaawellmaybejesse, oneinterlockonego, persononlinemsnfeellonely, feellikecrap, omgluvuguythankskeepinentertainedawakemissinmydgbigtyme, omgknowmanywordtimegoherewordmoneyballkey, omgneverknewwikipediaalsolistshadecolourcool, omgnicolekennedyfoundthnx, onlymegirlyescantseewontgrossenough, onlyhiscantwaitsee, omgimsadjustookgossipgirldone, happymotherdaylt, omgsistergotbrotherquotjonasbrotherquotlookaliketrenchcoatimlikejonasstyletoldshutuplike, omgimgoingrobinsontylerwfmfreakinmissanthonyughtodaykindasucklexlt, onetimeimgoingselfawarenessaskoneprinciplemournerwaketheyre, peternomadthanksknow, onewantvirtualkiss, onegoseetiesto, perttorrentdewclawthumbnub, onetalkanymore, onetesladealership, omgseensunmoonplacedisprovestheoryperson, realhughjackmanwolverineawesomelovegreatactor, omgitsafoxcouldwontgettimevegatripillstilllooklikenoob, omgmampmspantrycallingnameiveignoringdaydrivingcompletelyinsanemanycalorie, onecoming, omgpleasejonasbrotheraddextradatedublinnovembertriedgetticketdeysold, omgperiodcrampftlmuchpain, omgreallyranwall, onemillionpeopledmvtoday, onelookingpembrokedavepembsdavedontknowyetfollowanywaysgoodguy, onehourtillgohomecommencepoutingbahamatrip, tonightfun, perivisionbtwdownloadediphonesdk, omgoodnessfinallybackdinnerfambam, omgrightearblockedannoyingwakedeafgonnalieimscared, omgmomcalledimlatehegone, oohexcitingnewmacday, perfectnightnj, feelinggreattoday, omgheadstillhurtneedgetcomictodaygothurrylol, newtwitter, perfectshowenjoy, omghimymonebestshowearth, stillwaiting, misspuppy, perezhiltonwellevenbreakdownbetteractunfortunatelybritaingotlittletalent, oneweektillexamblock, comefunpartfindofferpercountryliveoutsideuchangequitetiny, peterampgordonmorninggtgopiecewannahidegopiecealmostdieeverhttpblipfmyk, omgthunderrrrwishhomelovecuddlingblankystorm, omnomnomricepudding, onelinermoviereviewhttpbitlyzdkadd, omgsomeoneleftvoicemailworkffsletday, omgguyinternetwholedaystillworkingilltryfix, perfectwayendtotallyboringdaysleepgoodnight, omgoshsawhattiewakemustsummergardenhedgehogcomehibernation, omgwanttfeverybodysteamfriendlistplaying, onlyvickywouldbelieveimdonehomeworkrestlife, onlyjesushospitalweekhalfprettymuchvirgedying, perfectgrrlloldontknowdontneedplantillgivehuginsteadhug, onethaliafatjoewtfterriimgetnnefunnytoday, happystarwardayeveryone, onefinal, onegearbaby, onerandomphonecallevergodkill, onechildrenthechildworldagainsayhappymommyday, omgsupernaturalgoodnewsweek, perfectdaythrowbackheadkissgoodbyelovecheerfulhttpblipfmjckp, omgprisonbreakfinalbreaktwoepisodeairedukwowwatchhaventsoosadtear, omglearnedlittlegirlplayedduckyfirstlandtimemoviemurderedagewtf, omgrighthearblockedannoyingwakedeafgonnalieimscared, omgoodnessneedsleep, foundrollogothappyhmmmguessreallyneedinsertedbackmatrix, onesweeterlifegreathopingrunminendedwoohoogottaloveck, suck, omgsomethingsspookytwitter, onecallanymore, omgstephwtfknightyknightsweetnkotbfreamsloveya, oneworstdaylife, petaahhahahawonttell, onemotimebecuzamazingshahasntseenyetshessoodamncoolillposthttpbbltwtcommqko, happybirthday, onchmovementohsickimfeelingkindasickimhatingovercastweather, onedaypraygetbetter, iamkiaraimsickfelllastnightoutsidecozputtingsomethingbin, onebestiesmovingaway, onscrnahhwellhopingcouldlearnstuffwayworkseparatethingalso, omgodimsooootireddontthinkenergyfilmtodaylol, oneyearemilywowl, oneestateagentnextdoorcaughtsingingalongwham, onlyleahcanthelptalklosingfathermakesad, peterdowleyiveseeninkheartliked, omgstarwardaymayfourtheveryonecallwatchleastfilmtonight, omglittlegirlbgt, perkinzidkwatdatthomaybesumsexlol, omgmissedbuswalkingmilecoffeewentseeexclassmates, omigoodnessfeellikepopsicle, perfectoutsidework, onetakenearlierweekhttptwitpiccomwb, onebaddaysmigrainetodaystsincenecksurgerymonth, somebodypleasesavepolarbear, wantgoswimming, feeldeflateddoggy, omgthatssay, causemissedlotclass, omgwatchingholliesteelcrypainfulbgt, onebringsbackmanymemorymichaelpennquotthisthatquothttptwtfmmusicmonday, onewantsitlunchguessillburyheadlaptopcontinueantisocial, onedayhairweathersucksun, onemumhappymotherdayampspecialmentiononenewestmemberhollyjanehopedhughesygooduampu, onecustomertoldgfrandogtodaysad, readygohome, onealltimefavoriteepisodesquotesofficeushttpbitlyarmj, onefavoriterelaxingsongwakehttptinyurlcomcfregoodmorning, omgrealisedlisteningquotperfectstoryquotpennylikeddrhorribledamncaptainhammeromgimsad, onebartwopubcrawlgonnlongnight, omglittlekidcancersaddestthingever, uselinkstartearningfreecashhttptinyurlcomcoboyfsigngetpaypalcashoutsminimum, omgjulylastdaymuchachomalo, omgoneyeslovedannysong, oneofthosefacestubeclosedththjuneideagetvenue, wishingmotherhappymotherday, perfectnightbestmonthlifefarbooryanfeero, omgrealycantsleepughh, onecatsick, oneonline, omgkeeplosingfollowersadwantonedaythatsgoal, onegooddeeddeservesanotherhopehelpsomeoneelseday, thinkreferralsohmanimjealousgot, onelikemonday, summerglauappeardollhousenextyearhttptinyurlcommnrezcstillcantbelievewontrenewtscc, orbitaldiamondswantsoldiercomehomedonthearanymorekilled, onedayjaylenoquesad, perrymarshallseeingonesidelookedinterestingdeep, greatday, kbalsorryfeelingway, happymotherdayeverybody, onelanestopgotraffffffficsuckalmostwworkthanksgaymiinnnesotaroad, omgsootiredwayhomelongbusydayfunmeetingnewpeoplecatchingpeople, onebloodypoetbadfriendsorryhear, peterbarownerworkingwaybeersallbelgiancoffindrinkermortsubite, twittering, worrynoonegotonenextquestionstartminutegetthinkingcap, omgimfinallybackcompbrokenguymissedyall, onewishwouldfriendjwork, onefrienddeservefreehug, onepaperleft, online, personaltrainrthankslinkmadesmile, oneinmillionhiuploadedcompletelynewchineselessonwwwyoutubecomchineselearnpleasefeelfreewatchenjoy]\n",
            "\n",
            "████████████████████████████████████████\n",
            "02:45:11.546: _train param, Dropping unused columns: [oneexperiencingproblemloggingdigitalpointforum, oneelsemuhahahaaaawellmaybejesse, oneinterlockonego, persononlinemsnfeellonely, feellikecrap, omgluvuguythankskeepinentertainedawakemissinmydgbigtyme, omgknowmanywordtimegoherewordmoneyballkey, omgneverknewwikipediaalsolistshadecolourcool, omgnicolekennedyfoundthnx, onlymegirlyescantseewontgrossenough, onlyhiscantwaitsee, omgimsadjustookgossipgirldone, happymotherdaylt, omgsistergotbrotherquotjonasbrotherquotlookaliketrenchcoatimlikejonasstyletoldshutuplike, omgimgoingrobinsontylerwfmfreakinmissanthonyughtodaykindasucklexlt, onetimeimgoingselfawarenessaskoneprinciplemournerwaketheyre, peternomadthanksknow, onewantvirtualkiss, onegoseetiesto, perttorrentdewclawthumbnub, onetalkanymore, onetesladealership, omgseensunmoonplacedisprovestheoryperson, realhughjackmanwolverineawesomelovegreatactor, omgitsafoxcouldwontgettimevegatripillstilllooklikenoob, omgmampmspantrycallingnameiveignoringdaydrivingcompletelyinsanemanycalorie, onecoming, omgpleasejonasbrotheraddextradatedublinnovembertriedgetticketdeysold, omgperiodcrampftlmuchpain, omgreallyranwall, onemillionpeopledmvtoday, onelookingpembrokedavepembsdavedontknowyetfollowanywaysgoodguy, onehourtillgohomecommencepoutingbahamatrip, tonightfun, perivisionbtwdownloadediphonesdk, omgoodnessfinallybackdinnerfambam, omgrightearblockedannoyingwakedeafgonnalieimscared, omgmomcalledimlatehegone, oohexcitingnewmacday, perfectnightnj, feelinggreattoday, omgheadstillhurtneedgetcomictodaygothurrylol, newtwitter, perfectshowenjoy, omghimymonebestshowearth, stillwaiting, misspuppy, perezhiltonwellevenbreakdownbetteractunfortunatelybritaingotlittletalent, oneweektillexamblock, comefunpartfindofferpercountryliveoutsideuchangequitetiny, peterampgordonmorninggtgopiecewannahidegopiecealmostdieeverhttpblipfmyk, omgthunderrrrwishhomelovecuddlingblankystorm, omnomnomricepudding, onelinermoviereviewhttpbitlyzdkadd, omgsomeoneleftvoicemailworkffsletday, omgguyinternetwholedaystillworkingilltryfix, perfectwayendtotallyboringdaysleepgoodnight, omgoshsawhattiewakemustsummergardenhedgehogcomehibernation, omgwanttfeverybodysteamfriendlistplaying, onlyvickywouldbelieveimdonehomeworkrestlife, onlyjesushospitalweekhalfprettymuchvirgedying, perfectgrrlloldontknowdontneedplantillgivehuginsteadhug, onethaliafatjoewtfterriimgetnnefunnytoday, happystarwardayeveryone, onefinal, onegearbaby, onerandomphonecallevergodkill, onechildrenthechildworldagainsayhappymommyday, omgsupernaturalgoodnewsweek, perfectdaythrowbackheadkissgoodbyelovecheerfulhttpblipfmjckp, omgprisonbreakfinalbreaktwoepisodeairedukwowwatchhaventsoosadtear, omglearnedlittlegirlplayedduckyfirstlandtimemoviemurderedagewtf, omgrighthearblockedannoyingwakedeafgonnalieimscared, omgoodnessneedsleep, foundrollogothappyhmmmguessreallyneedinsertedbackmatrix, onesweeterlifegreathopingrunminendedwoohoogottaloveck, suck, omgsomethingsspookytwitter, onecallanymore, omgstephwtfknightyknightsweetnkotbfreamsloveya, oneworstdaylife, petaahhahahawonttell, onemotimebecuzamazingshahasntseenyetshessoodamncoolillposthttpbbltwtcommqko, happybirthday, onchmovementohsickimfeelingkindasickimhatingovercastweather, onedaypraygetbetter, iamkiaraimsickfelllastnightoutsidecozputtingsomethingbin, onebestiesmovingaway, onscrnahhwellhopingcouldlearnstuffwayworkseparatethingalso, omgodimsooootireddontthinkenergyfilmtodaylol, oneyearemilywowl, oneestateagentnextdoorcaughtsingingalongwham, onlyleahcanthelptalklosingfathermakesad, peterdowleyiveseeninkheartliked, omgstarwardaymayfourtheveryonecallwatchleastfilmtonight, omglittlegirlbgt, perkinzidkwatdatthomaybesumsexlol, omgmissedbuswalkingmilecoffeewentseeexclassmates, omigoodnessfeellikepopsicle, perfectoutsidework, onetakenearlierweekhttptwitpiccomwb, onebaddaysmigrainetodaystsincenecksurgerymonth, somebodypleasesavepolarbear, wantgoswimming, feeldeflateddoggy, omgthatssay, causemissedlotclass, omgwatchingholliesteelcrypainfulbgt, onebringsbackmanymemorymichaelpennquotthisthatquothttptwtfmmusicmonday, onewantsitlunchguessillburyheadlaptopcontinueantisocial, onedayhairweathersucksun, onemumhappymotherdayampspecialmentiononenewestmemberhollyjanehopedhughesygooduampu, onecustomertoldgfrandogtodaysad, readygohome, onealltimefavoriteepisodesquotesofficeushttpbitlyarmj, onefavoriterelaxingsongwakehttptinyurlcomcfregoodmorning, omgrealisedlisteningquotperfectstoryquotpennylikeddrhorribledamncaptainhammeromgimsad, onebartwopubcrawlgonnlongnight, omglittlekidcancersaddestthingever, uselinkstartearningfreecashhttptinyurlcomcoboyfsigngetpaypalcashoutsminimum, omgjulylastdaymuchachomalo, omgoneyeslovedannysong, oneofthosefacestubeclosedththjuneideagetvenue, wishingmotherhappymotherday, perfectnightbestmonthlifefarbooryanfeero, omgrealycantsleepughh, onecatsick, oneonline, omgkeeplosingfollowersadwantonedaythatsgoal, onegooddeeddeservesanotherhopehelpsomeoneelseday, thinkreferralsohmanimjealousgot, onelikemonday, summerglauappeardollhousenextyearhttptinyurlcommnrezcstillcantbelievewontrenewtscc, orbitaldiamondswantsoldiercomehomedonthearanymorekilled, onedayjaylenoquesad, perrymarshallseeingonesidelookedinterestingdeep, greatday, kbalsorryfeelingway, happymotherdayeverybody, onelanestopgotraffffffficsuckalmostwworkthanksgaymiinnnesotaroad, omgsootiredwayhomelongbusydayfunmeetingnewpeoplecatchingpeople, onebloodypoetbadfriendsorryhear, peterbarownerworkingwaybeersallbelgiancoffindrinkermortsubite, twittering, worrynoonegotonenextquestionstartminutegetthinkingcap, omgimfinallybackcompbrokenguymissedyall, onewishwouldfriendjwork, onefrienddeservefreehug, onepaperleft, online, personaltrainrthankslinkmadesmile, oneinmillionhiuploadedcompletelynewchineselessonwwwyoutubecomchineselearnpleasefeelfreewatchenjoy]\n",
            "\n",
            "██\n",
            "02:45:13.705: _train param, Dropping unused columns: [oneexperiencingproblemloggingdigitalpointforum, oneelsemuhahahaaaawellmaybejesse, oneinterlockonego, persononlinemsnfeellonely, feellikecrap, omgluvuguythankskeepinentertainedawakemissinmydgbigtyme, omgknowmanywordtimegoherewordmoneyballkey, omgneverknewwikipediaalsolistshadecolourcool, omgnicolekennedyfoundthnx, onlymegirlyescantseewontgrossenough, onlyhiscantwaitsee, omgimsadjustookgossipgirldone, happymotherdaylt, omgsistergotbrotherquotjonasbrotherquotlookaliketrenchcoatimlikejonasstyletoldshutuplike, omgimgoingrobinsontylerwfmfreakinmissanthonyughtodaykindasucklexlt, onetimeimgoingselfawarenessaskoneprinciplemournerwaketheyre, peternomadthanksknow, onewantvirtualkiss, onegoseetiesto, perttorrentdewclawthumbnub, onetalkanymore, onetesladealership, omgseensunmoonplacedisprovestheoryperson, realhughjackmanwolverineawesomelovegreatactor, omgitsafoxcouldwontgettimevegatripillstilllooklikenoob, omgmampmspantrycallingnameiveignoringdaydrivingcompletelyinsanemanycalorie, onecoming, omgpleasejonasbrotheraddextradatedublinnovembertriedgetticketdeysold, omgperiodcrampftlmuchpain, omgreallyranwall, onemillionpeopledmvtoday, onelookingpembrokedavepembsdavedontknowyetfollowanywaysgoodguy, onehourtillgohomecommencepoutingbahamatrip, tonightfun, perivisionbtwdownloadediphonesdk, omgoodnessfinallybackdinnerfambam, omgrightearblockedannoyingwakedeafgonnalieimscared, omgmomcalledimlatehegone, oohexcitingnewmacday, perfectnightnj, feelinggreattoday, omgheadstillhurtneedgetcomictodaygothurrylol, newtwitter, perfectshowenjoy, omghimymonebestshowearth, stillwaiting, misspuppy, perezhiltonwellevenbreakdownbetteractunfortunatelybritaingotlittletalent, oneweektillexamblock, comefunpartfindofferpercountryliveoutsideuchangequitetiny, peterampgordonmorninggtgopiecewannahidegopiecealmostdieeverhttpblipfmyk, omgthunderrrrwishhomelovecuddlingblankystorm, omnomnomricepudding, onelinermoviereviewhttpbitlyzdkadd, omgsomeoneleftvoicemailworkffsletday, omgguyinternetwholedaystillworkingilltryfix, perfectwayendtotallyboringdaysleepgoodnight, omgoshsawhattiewakemustsummergardenhedgehogcomehibernation, omgwanttfeverybodysteamfriendlistplaying, onlyvickywouldbelieveimdonehomeworkrestlife, onlyjesushospitalweekhalfprettymuchvirgedying, perfectgrrlloldontknowdontneedplantillgivehuginsteadhug, onethaliafatjoewtfterriimgetnnefunnytoday, happystarwardayeveryone, onefinal, onegearbaby, onerandomphonecallevergodkill, onechildrenthechildworldagainsayhappymommyday, omgsupernaturalgoodnewsweek, perfectdaythrowbackheadkissgoodbyelovecheerfulhttpblipfmjckp, omgprisonbreakfinalbreaktwoepisodeairedukwowwatchhaventsoosadtear, omglearnedlittlegirlplayedduckyfirstlandtimemoviemurderedagewtf, omgrighthearblockedannoyingwakedeafgonnalieimscared, omgoodnessneedsleep, foundrollogothappyhmmmguessreallyneedinsertedbackmatrix, onesweeterlifegreathopingrunminendedwoohoogottaloveck, suck, omgsomethingsspookytwitter, onecallanymore, omgstephwtfknightyknightsweetnkotbfreamsloveya, oneworstdaylife, petaahhahahawonttell, onemotimebecuzamazingshahasntseenyetshessoodamncoolillposthttpbbltwtcommqko, happybirthday, onchmovementohsickimfeelingkindasickimhatingovercastweather, onedaypraygetbetter, iamkiaraimsickfelllastnightoutsidecozputtingsomethingbin, onebestiesmovingaway, onscrnahhwellhopingcouldlearnstuffwayworkseparatethingalso, omgodimsooootireddontthinkenergyfilmtodaylol, oneyearemilywowl, oneestateagentnextdoorcaughtsingingalongwham, onlyleahcanthelptalklosingfathermakesad, peterdowleyiveseeninkheartliked, omgstarwardaymayfourtheveryonecallwatchleastfilmtonight, omglittlegirlbgt, perkinzidkwatdatthomaybesumsexlol, omgmissedbuswalkingmilecoffeewentseeexclassmates, omigoodnessfeellikepopsicle, perfectoutsidework, onetakenearlierweekhttptwitpiccomwb, onebaddaysmigrainetodaystsincenecksurgerymonth, somebodypleasesavepolarbear, wantgoswimming, feeldeflateddoggy, omgthatssay, causemissedlotclass, omgwatchingholliesteelcrypainfulbgt, onebringsbackmanymemorymichaelpennquotthisthatquothttptwtfmmusicmonday, onewantsitlunchguessillburyheadlaptopcontinueantisocial, onedayhairweathersucksun, onemumhappymotherdayampspecialmentiononenewestmemberhollyjanehopedhughesygooduampu, onecustomertoldgfrandogtodaysad, readygohome, onealltimefavoriteepisodesquotesofficeushttpbitlyarmj, onefavoriterelaxingsongwakehttptinyurlcomcfregoodmorning, omgrealisedlisteningquotperfectstoryquotpennylikeddrhorribledamncaptainhammeromgimsad, onebartwopubcrawlgonnlongnight, omglittlekidcancersaddestthingever, uselinkstartearningfreecashhttptinyurlcomcoboyfsigngetpaypalcashoutsminimum, omgjulylastdaymuchachomalo, omgoneyeslovedannysong, oneofthosefacestubeclosedththjuneideagetvenue, wishingmotherhappymotherday, perfectnightbestmonthlifefarbooryanfeero, omgrealycantsleepughh, onecatsick, oneonline, omgkeeplosingfollowersadwantonedaythatsgoal, onegooddeeddeservesanotherhopehelpsomeoneelseday, thinkreferralsohmanimjealousgot, onelikemonday, summerglauappeardollhousenextyearhttptinyurlcommnrezcstillcantbelievewontrenewtscc, orbitaldiamondswantsoldiercomehomedonthearanymorekilled, onedayjaylenoquesad, perrymarshallseeingonesidelookedinterestingdeep, greatday, kbalsorryfeelingway, happymotherdayeverybody, onelanestopgotraffffffficsuckalmostwworkthanksgaymiinnnesotaroad, omgsootiredwayhomelongbusydayfunmeetingnewpeoplecatchingpeople, onebloodypoetbadfriendsorryhear, peterbarownerworkingwaybeersallbelgiancoffindrinkermortsubite, twittering, worrynoonegotonenextquestionstartminutegetthinkingcap, omgimfinallybackcompbrokenguymissedyall, onewishwouldfriendjwork, onefrienddeservefreehug, onepaperleft, online, personaltrainrthankslinkmadesmile, oneinmillionhiuploadedcompletelynewchineselessonwwwyoutubecomchineselearnpleasefeelfreewatchenjoy]\n",
            "\n",
            "████████| (done) 100%\n"
          ]
        },
        {
          "output_type": "execute_result",
          "data": {
            "text/plain": [
              "model_id                                                   rmse      mse      mae     rmsle    mean_residual_deviance\n",
              "------------------------------------------------------  -------  -------  -------  --------  ------------------------\n",
              "GLM_1_AutoML_2_20230922_24202                           2.80835  7.88684  2.32299  0.366505                   7.88684\n",
              "DeepLearning_grid_1_AutoML_2_20230922_24202_model_1     2.80853  7.88782  2.32074  0.366233                   7.88782\n",
              "DeepLearning_grid_3_AutoML_2_20230922_24202_model_1     2.80895  7.89022  2.33209  0.36781                    7.89022\n",
              "StackedEnsemble_AllModels_1_AutoML_2_20230922_24202     2.80933  7.89233  2.32342  0.366555                   7.89233\n",
              "XGBoost_grid_1_AutoML_2_20230922_24202_model_1          2.80943  7.89287  2.32446  0.366674                   7.89287\n",
              "DeepLearning_grid_2_AutoML_2_20230922_24202_model_1     2.80994  7.89575  2.31935  0.366167                   7.89575\n",
              "XGBoost_grid_1_AutoML_2_20230922_24202_model_2          2.80996  7.89585  2.32503  0.366708                   7.89585\n",
              "StackedEnsemble_BestOfFamily_1_AutoML_2_20230922_24202  2.81004  7.8963   2.32417  0.366608                   7.8963\n",
              "XGBoost_3_AutoML_2_20230922_24202                       2.81085  7.90086  2.32705  0.366869                   7.90086\n",
              "DRF_1_AutoML_2_20230922_24202                           2.81143  7.90412  2.32702  0.366915                   7.90412\n",
              "[10 rows x 6 columns]\n"
            ],
            "text/html": [
              "<table class='dataframe'>\n",
              "<thead>\n",
              "<tr><th>model_id                                              </th><th style=\"text-align: right;\">   rmse</th><th style=\"text-align: right;\">    mse</th><th style=\"text-align: right;\">    mae</th><th style=\"text-align: right;\">   rmsle</th><th style=\"text-align: right;\">  mean_residual_deviance</th></tr>\n",
              "</thead>\n",
              "<tbody>\n",
              "<tr><td>GLM_1_AutoML_2_20230922_24202                         </td><td style=\"text-align: right;\">2.80835</td><td style=\"text-align: right;\">7.88684</td><td style=\"text-align: right;\">2.32299</td><td style=\"text-align: right;\">0.366505</td><td style=\"text-align: right;\">                 7.88684</td></tr>\n",
              "<tr><td>DeepLearning_grid_1_AutoML_2_20230922_24202_model_1   </td><td style=\"text-align: right;\">2.80853</td><td style=\"text-align: right;\">7.88782</td><td style=\"text-align: right;\">2.32074</td><td style=\"text-align: right;\">0.366233</td><td style=\"text-align: right;\">                 7.88782</td></tr>\n",
              "<tr><td>DeepLearning_grid_3_AutoML_2_20230922_24202_model_1   </td><td style=\"text-align: right;\">2.80895</td><td style=\"text-align: right;\">7.89022</td><td style=\"text-align: right;\">2.33209</td><td style=\"text-align: right;\">0.36781 </td><td style=\"text-align: right;\">                 7.89022</td></tr>\n",
              "<tr><td>StackedEnsemble_AllModels_1_AutoML_2_20230922_24202   </td><td style=\"text-align: right;\">2.80933</td><td style=\"text-align: right;\">7.89233</td><td style=\"text-align: right;\">2.32342</td><td style=\"text-align: right;\">0.366555</td><td style=\"text-align: right;\">                 7.89233</td></tr>\n",
              "<tr><td>XGBoost_grid_1_AutoML_2_20230922_24202_model_1        </td><td style=\"text-align: right;\">2.80943</td><td style=\"text-align: right;\">7.89287</td><td style=\"text-align: right;\">2.32446</td><td style=\"text-align: right;\">0.366674</td><td style=\"text-align: right;\">                 7.89287</td></tr>\n",
              "<tr><td>DeepLearning_grid_2_AutoML_2_20230922_24202_model_1   </td><td style=\"text-align: right;\">2.80994</td><td style=\"text-align: right;\">7.89575</td><td style=\"text-align: right;\">2.31935</td><td style=\"text-align: right;\">0.366167</td><td style=\"text-align: right;\">                 7.89575</td></tr>\n",
              "<tr><td>XGBoost_grid_1_AutoML_2_20230922_24202_model_2        </td><td style=\"text-align: right;\">2.80996</td><td style=\"text-align: right;\">7.89585</td><td style=\"text-align: right;\">2.32503</td><td style=\"text-align: right;\">0.366708</td><td style=\"text-align: right;\">                 7.89585</td></tr>\n",
              "<tr><td>StackedEnsemble_BestOfFamily_1_AutoML_2_20230922_24202</td><td style=\"text-align: right;\">2.81004</td><td style=\"text-align: right;\">7.8963 </td><td style=\"text-align: right;\">2.32417</td><td style=\"text-align: right;\">0.366608</td><td style=\"text-align: right;\">                 7.8963 </td></tr>\n",
              "<tr><td>XGBoost_3_AutoML_2_20230922_24202                     </td><td style=\"text-align: right;\">2.81085</td><td style=\"text-align: right;\">7.90086</td><td style=\"text-align: right;\">2.32705</td><td style=\"text-align: right;\">0.366869</td><td style=\"text-align: right;\">                 7.90086</td></tr>\n",
              "<tr><td>DRF_1_AutoML_2_20230922_24202                         </td><td style=\"text-align: right;\">2.81143</td><td style=\"text-align: right;\">7.90412</td><td style=\"text-align: right;\">2.32702</td><td style=\"text-align: right;\">0.366915</td><td style=\"text-align: right;\">                 7.90412</td></tr>\n",
              "</tbody>\n",
              "</table><pre style='font-size: smaller; margin-bottom: 1em;'>[10 rows x 6 columns]</pre>"
            ]
          },
          "metadata": {},
          "execution_count": 24
        }
      ]
    },
    {
      "cell_type": "code",
      "source": [
        "# Predict using the leader model\n",
        "preds = aml.leader.predict(test)"
      ],
      "metadata": {
        "colab": {
          "base_uri": "https://localhost:8080/"
        },
        "id": "z39cwD9exLC0",
        "outputId": "fd8fc509-16c7-4377-d377-706f0c5454c7"
      },
      "execution_count": 25,
      "outputs": [
        {
          "output_type": "stream",
          "name": "stdout",
          "text": [
            "glm prediction progress: |███████████████████████████████████████████████████████| (done) 100%\n"
          ]
        }
      ]
    },
    {
      "cell_type": "code",
      "source": [
        "\n",
        "# View some basic model performance\n",
        "perf = aml.leader.model_performance(test)\n",
        "print(perf)"
      ],
      "metadata": {
        "colab": {
          "base_uri": "https://localhost:8080/"
        },
        "id": "CY3ivyMuxUTR",
        "outputId": "d84fe6d6-0a21-4e14-e69d-6a833953b67d"
      },
      "execution_count": 26,
      "outputs": [
        {
          "output_type": "stream",
          "name": "stdout",
          "text": [
            "ModelMetricsRegressionGLM: glm\n",
            "** Reported on test data. **\n",
            "\n",
            "MSE: 8.002479822082613\n",
            "RMSE: 2.828865465532536\n",
            "MAE: 2.3414728719470963\n",
            "RMSLE: 0.3749083462231062\n",
            "Mean Residual Deviance: 8.002479822082613\n",
            "R^2: 0.0015783145034340418\n",
            "Null degrees of freedom: 7900\n",
            "Residual degrees of freedom: 7552\n",
            "Null deviance: 63333.446583059966\n",
            "Residual deviance: 63227.59307427472\n",
            "AIC: 39554.183077286805\n"
          ]
        }
      ]
    }
  ]
}